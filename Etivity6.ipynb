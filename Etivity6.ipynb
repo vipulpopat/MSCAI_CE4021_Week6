{
 "cells": [
  {
   "cell_type": "markdown",
   "metadata": {},
   "source": [
    "#Student Name: Fergus Mc Hale\n",
    "#Student ID: 18203485"
   ]
  },
  {
   "cell_type": "markdown",
   "metadata": {},
   "source": [
    "Purpose\n",
    "The purpose of this E-tivity is to introduce the basics of probability theory.\n",
    "\n",
    "Task (Complete by Saturday Week 6)\n",
    "Describe a simple problem that contains a chance element. \n",
    "Use a continuous random variable or a discrete random variable.\n",
    "Use a normal distribution or a uniform distribution.\n",
    "\n",
    "Write Python code to simulate an experiment with your problem. The simulation can include a simulated action (e.g. rolling dice) or a simulated observation (e.g. observing rain or sunshine). The code should run the experiment a sufficient number of times such that you can calculate/approximate the following:\n",
    "\n",
    "The expected value of your random variable.\n",
    "The standard deviation of your random variable.\n",
    "Additionally you should be able to:\n",
    "\n",
    "Plot the distribution found in your simulated experiment\n",
    " \n",
    " N.B.:\n",
    "\n",
    "Use the Jupyter Notebook provided in the repository for week 6.\n",
    "You do not need to encapsulate your code in functions or methods.\n",
    "Structure your notebook as follows:\n",
    "Markdown cell with problem description\n",
    "Cell(s) with experiment\n",
    "Cell(s) with outputs and graphs\n",
    "You may only use the following modules:\n",
    "Random\n",
    "Numpy\n",
    "Matplotlib\n",
    "You are not required to perform exception handling.\n",
    "You are not required to provide tests for your code.\n",
    "HINTS:\n",
    "\n",
    "You can use matplotlib to plot a histogram of a list of samples as follows:\n",
    "num_bins = 21\n",
    "plt.hist(samples, num_bins, facecolor='blue')\n",
    "plt.show()\n",
    "\n",
    "GIT push your implementation and post the description of your problem to E-tivity 6: Probability Theory.\n",
    "\n",
    "Include calculated values of points 1 and 2 above.\n",
    "Provide a link to your branch.\n",
    "Respond (Complete by Wednesday Week 7)\n",
    "Respond to one of your peers with:\n",
    "\n",
    "A respectful and in-depth analysis of their approach.\n",
    "Suggestions for improvements or alternative solutions for the code.\n",
    "Reflect (Complete by Saturday Week 7)\n",
    "Use the feedback provided to you, and any other insights you have gained since writing the original code to improve the code you wrote in this E-tivity. GIT push the result to your remote branch."
   ]
  },
  {
   "cell_type": "markdown",
   "metadata": {},
   "source": [
    "What is the probability of selecting a particular card from a 52 card deck?\n",
    "1-12: clubs (from ace to king)\n",
    "13-24: hearts (from ace to king)\n",
    "25-36: spades (from ace to king)\n",
    "37-52: diamonds (from ace to king)"
   ]
  },
  {
   "cell_type": "code",
   "execution_count": 6,
   "metadata": {},
   "outputs": [],
   "source": [
    "import random as rand\n",
    "import numpy as np\n",
    "import matplotlib.pyplot as plt"
   ]
  },
  {
   "cell_type": "code",
   "execution_count": 8,
   "metadata": {},
   "outputs": [
    {
     "name": "stdout",
     "output_type": "stream",
     "text": [
      "[47, 33, 47, 14, 31, 11, 38, 39, 3, 8, 7, 35, 45, 36, 28, 5, 44, 22, 2, 10, 24, 40, 30, 5, 39, 13, 13, 6, 43, 34, 24, 45, 32, 17, 24, 36, 29, 32, 39, 35, 43, 16, 1, 37, 31, 17, 5, 49, 41, 43, 50, 36, 44, 1, 27, 44, 48, 19, 26, 40, 27, 39, 44, 28, 42, 24, 40, 9, 11, 15, 4, 28, 10, 42, 25, 11, 15, 9, 8, 10, 35, 23, 11, 26, 12, 52, 29, 48, 32, 8, 3, 30, 31, 42, 10, 11, 29, 48, 3, 2, 10, 28, 40, 15, 6, 51, 30, 35, 18, 8, 28, 37, 21, 22, 4, 41, 41, 30, 32, 3, 1, 51, 6, 7, 41, 10, 50, 27, 48, 6, 6, 48, 51, 18, 18, 39, 6, 23, 27, 9, 18, 30, 30, 27, 47, 34, 2, 25, 8, 5, 22, 45, 37, 48, 49, 36, 47, 50, 18, 15, 2, 7, 13, 52, 10, 16, 48, 13, 23, 52, 41, 22, 3, 23, 28, 2, 19, 48, 25, 37, 13, 45, 43, 47, 26, 18, 6, 29, 22, 31, 13, 38, 36, 16, 8, 27, 6, 13, 29, 16, 38, 3, 50, 52, 1, 27, 5, 10, 11, 31, 7, 41, 19, 17, 38, 32, 20, 13, 28, 47, 18, 9, 44, 49, 9, 32, 11, 3, 36, 14, 35, 27, 10, 33, 45, 23, 7, 47, 2, 1, 29, 1, 4, 2, 32, 43, 21, 31, 30, 50, 25, 32, 5, 39, 49, 4, 12, 19, 34, 32, 24, 14, 49, 27, 13, 36, 15, 51, 17, 45, 48, 1, 33, 52, 42, 45, 40, 52, 17, 3, 23, 28, 6, 13, 13, 20, 27, 39, 20, 32, 19, 52, 12, 49, 6, 3, 49, 46, 24, 38, 48, 18, 17, 27, 39, 30, 6, 40, 36, 19, 23, 50, 49, 19, 43, 3, 41, 16, 7, 47, 3, 34, 48, 30, 5, 4, 51, 47, 23, 10, 12, 4, 4, 45, 46, 52, 12, 28, 7, 52, 13, 6, 25, 17, 19, 22, 49, 33, 27, 30, 4, 40, 50, 6, 30, 37, 19, 51, 18, 18, 26, 46, 42, 28, 35, 4, 17, 51, 14, 48, 32, 44, 18, 6, 1, 52, 9, 49, 41, 35, 52, 11, 3, 4, 15, 37, 12, 15, 37, 10, 12, 7, 25, 11, 42, 5, 36, 40, 48, 11, 51, 19, 6, 46, 38, 43, 6, 38, 46, 29, 51, 16, 18, 40, 8, 17, 51, 40, 30, 47, 9, 52, 1, 51, 28, 48, 7, 9, 52, 7, 45, 37, 7, 17, 29, 41, 4, 34, 2, 52, 1, 6, 2, 9, 49, 50, 7, 6, 14, 25, 29, 41, 22, 43, 7, 5, 28, 15, 23, 22, 9, 34, 33, 12, 33, 29, 9, 21, 37, 19, 52, 47, 14, 15, 28, 7, 22, 51, 10, 21, 30, 18, 45, 13, 21, 24, 33, 43, 49, 18, 4, 48, 5, 25, 2, 2, 23, 2, 51, 41, 3, 27, 12, 2, 30, 14, 46, 16, 8, 11, 30, 31, 52, 25, 44, 45, 20, 21, 21, 45, 2, 34, 51, 23, 23, 30, 14, 3, 10, 17, 33, 6, 19, 41, 7, 47, 5, 20, 8, 23, 25, 45, 52, 11, 37, 16, 42, 34, 40, 28, 43, 41, 13, 1, 18, 34, 37, 36, 18, 10, 48, 27, 18, 30, 9, 28, 4, 22, 45, 26, 27, 12, 45, 50, 5, 52, 45, 40, 11, 9, 17, 13, 37, 25, 38, 47, 31, 38, 4, 15, 20, 6, 37, 47, 41, 51, 37, 5, 39, 19, 14, 10, 50, 30, 45, 8, 51, 18, 32, 27, 12, 2, 8, 50, 9, 4, 19, 3, 44, 47, 21, 22, 28, 12, 11, 37, 19, 13, 51, 29, 48, 35, 39, 26, 26, 41, 8, 3, 43, 44, 39, 45, 35, 3, 23, 28, 39, 15, 13, 6, 42, 32, 29, 50, 43, 27, 4, 4, 33, 47, 1, 15, 35, 23, 33, 26, 29, 27, 37, 14, 37, 52, 13, 22, 12, 45, 15, 34, 6, 38, 3, 41, 24, 19, 23, 33, 18, 12, 21, 44, 34, 14, 1, 13, 19, 6, 45, 33, 47, 24, 42, 2, 52, 26, 5, 38, 22, 16, 46, 15, 2, 24, 39, 18, 20, 49, 25, 23, 5, 4, 45, 19, 10, 3, 51, 1, 29, 4, 46, 16, 9, 44, 9, 19, 31, 51, 4, 7, 49, 32, 45, 24, 18, 18, 3, 26, 52, 50, 41, 23, 3, 34, 4, 42, 21, 10, 17, 1, 33, 41, 13, 8, 26, 2, 17, 22, 35, 30, 36, 42, 36, 46, 21, 20, 14, 12, 41, 33, 39, 16, 42, 12, 10, 32, 28, 46, 48, 21, 3, 44, 31, 2, 23, 46, 45, 40, 43, 42, 18, 7, 4, 8, 37, 12, 27, 4, 51, 30, 25, 1, 52, 43, 32, 12, 37, 18, 47, 24, 42, 49, 37, 22, 8, 7, 20, 10, 6, 28, 39, 37, 37, 21, 49, 1, 22, 2, 11, 10, 36, 26, 29, 9, 49, 41, 33, 15, 11, 2, 30, 26, 46, 50, 33, 34, 2, 9, 14, 21, 8, 14, 40, 20, 11, 18, 41, 13, 47, 9, 9, 25, 18, 51, 23, 24, 52, 39, 19, 17, 45, 19, 42, 21, 23, 32, 44, 14, 8, 38, 6, 41, 28, 36, 44, 15, 2, 32, 50, 39, 30, 46, 8, 41, 40, 26, 47, 19, 20, 10, 34, 17, 25, 41, 52, 40, 1, 26, 2, 23, 3, 43, 26, 47, 16, 20, 12, 12, 22, 7, 49, 50, 39, 38, 41, 12, 23, 23, 20, 40, 28, 4, 1, 5, 35, 42, 18, 40, 10, 48, 36, 27, 37, 30, 12, 32, 29, 18, 15, 24, 23, 33, 51, 35, 46, 14, 10, 42, 48, 33, 49, 40, 11, 35, 45, 48, 35, 26, 51, 41, 3, 14, 20, 30, 11, 8, 16, 34, 51, 49, 21, 39, 23, 32, 29, 44, 22, 39, 45, 35, 42, 27]\n"
     ]
    }
   ],
   "source": [
    "N_ITERATIONS = 1000\n",
    "clubs = [range(1, 12)]\n",
    "hearts = [range(13, 24)]\n",
    "spades = [range(25, 36)]\n",
    "diamonds = [range(37, 52)]\n",
    "\n",
    "sample_space = []\n",
    "\n",
    "def pick_card():\n",
    "    return rand.randint(1,52)\n",
    "\n",
    "def simulate(n):\n",
    "    for i in range(n):\n",
    "        sample_space.append(pick_card())\n",
    "    return sample_space\n",
    "\n",
    "sample_iterations = simulate(N_ITERATIONS)\n",
    "print(sample_iterations)"
   ]
  },
  {
   "cell_type": "code",
   "execution_count": 9,
   "metadata": {},
   "outputs": [
    {
     "name": "stdout",
     "output_type": "stream",
     "text": [
      "Sample Mean: 26.159\n",
      "Sample Standard Deviation: 15.440910562528364\n"
     ]
    }
   ],
   "source": [
    "print (\"Sample Mean: {}\".format(np.mean(sample_space)))\n",
    "print (\"Sample Standard Deviation: {}\".format(np.std(sample_space)))"
   ]
  },
  {
   "cell_type": "code",
   "execution_count": 10,
   "metadata": {},
   "outputs": [
    {
     "data": {
      "image/png": "[encoded data removed]",
      "text/plain": [
       "<Figure size 432x288 with 1 Axes>"
      ]
     },
     "metadata": {},
     "output_type": "display_data"
    }
   ],
   "source": [
    "num_bins = 52\n",
    "plt.hist(sample_iterations, num_bins, facecolor='blue')\n",
    "plt.show()"
   ]
  }
 ],
 "metadata": {
  "kernelspec": {
   "display_name": "Python 3",
   "language": "python",
   "name": "python3"
  },
  "language_info": {
   "codemirror_mode": {
    "name": "ipython",
    "version": 3
   },
   "file_extension": ".py",
   "mimetype": "text/x-python",
   "name": "python",
   "nbconvert_exporter": "python",
   "pygments_lexer": "ipython3",
   "version": "3.6.5"
  }
 },
 "nbformat": 4,
 "nbformat_minor": 1
}
