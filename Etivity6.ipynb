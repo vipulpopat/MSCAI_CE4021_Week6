{
 "cells": [
  {
   "cell_type": "markdown",
   "metadata": {},
   "source": [
    "#Student Name: Vipul Popat\n",
    "#Student ID:18195121"
   ]
  },
  {
   "cell_type": "markdown",
   "metadata": {},
   "source": [
    "**Problem Statement**\n",
    "\n",
    "When two dice are rolled, find the probability of getting a greater number on the first die than the one on the second, given that the sum should equal 8.\n",
    "\n",
    "**Solution**\n",
    "\n",
    "Let the event of getting a greater number on the first die be G.\n",
    "\n",
    "There are 5 ways to get a sum of 8 when two dice are rolled = {(2,6),(3,5),(4,4), (5,3),(6,2)}.\n",
    "\n",
    "And there are two ways where the number on the first die is greater than the one on the second given that the sum should equal 8, G = {(5,3), (6,2)}.\n",
    "\n",
    "Therefore, P(Sum equals 8) = 5/36 and P(G) = 2/36.\n",
    "\n",
    "Now, P(G|sum equals 8)         = P(G and sum equals 8)/P(sum equals 8)\n",
    "\n",
    "= (2/36)/(5/36)\n",
    "\n",
    "= 2/5"
   ]
  },
  {
   "cell_type": "code",
   "execution_count": 1,
   "metadata": {
    "collapsed": true
   },
   "outputs": [],
   "source": [
    "%matplotlib inline\n",
    "import numpy as np\n",
    "import random\n",
    "import matplotlib.pyplot as plt"
   ]
  },
  {
   "cell_type": "code",
   "execution_count": 2,
   "metadata": {
    "collapsed": true
   },
   "outputs": [],
   "source": [
    "def roll_dices(n):\n",
    "    '''This function simulates the rolling of two dices'''\n",
    "    rolls = []\n",
    "    for i in range(n):\n",
    "        roll_dice1 = random.choice([1,2,3,4,5,6])\n",
    "        roll_dice2 = random.choice([1,2,3,4,5,6])\n",
    "        rolls.append([roll_dice1, roll_dice2, roll_dice1 + roll_dice2])\n",
    "    return rolls\n"
   ]
  },
  {
   "cell_type": "code",
   "execution_count": 3,
   "metadata": {
    "collapsed": false
   },
   "outputs": [
    {
     "name": "stdout",
     "output_type": "stream",
     "text": [
      "Number of runs =  2000\n",
      "Number of samples =  12000\n",
      "Number of samples where sum = 8 =  1659\n",
      "Number of samples where sum = 8 and first dice > second dice =  662\n"
     ]
    }
   ],
   "source": [
    "number_of_runs = 2000\n",
    "samples = []\n",
    "count_of_sum_8 = 0\n",
    "count_of_sum_8_where_first_gt_second = 0\n",
    "\n",
    "for run in range(number_of_runs):\n",
    "    dices_roll = roll_dices(6)\n",
    "    samples.append(dices_roll)\n",
    "    \n",
    "sampleslist = [item for sublist in samples for item in sublist]\n",
    "no_of_samples = len(sampleslist)\n",
    "sample_of_sum_8 = list(filter(lambda x: x[2] == 8, sampleslist))\n",
    "count_of_sum_8 = len(sample_of_sum_8)\n",
    "count_of_sum_8_where_first_gt_second = len(list(filter(lambda x: x[0] > x[1], sample_of_sum_8)))\n",
    "\n",
    "print(\"Number of runs = \", number_of_runs)\n",
    "print(\"Number of samples = \", no_of_samples)\n",
    "print(\"Number of samples where sum = 8 = \", count_of_sum_8)\n",
    "print(\"Number of samples where sum = 8 and first dice > second dice = \", count_of_sum_8_where_first_gt_second)\n"
   ]
  },
  {
   "cell_type": "code",
   "execution_count": 4,
   "metadata": {
    "collapsed": false
   },
   "outputs": [],
   "source": [
    "np_sampleslist = np.array(sampleslist)\n",
    "standard_deviation = np.std(np_sampleslist[:,2])\n",
    "median_roll = np.median(np_sampleslist[:,2])\n",
    "average_roll = np.sum(np_sampleslist[:,2]) / no_of_samples\n",
    "count_of_sum_8_percentage = (count_of_sum_8 / no_of_samples) * 100\n",
    "count_of_sum_8_where_first_gt_second_percentage = (count_of_sum_8_where_first_gt_second / no_of_samples) * 100"
   ]
  },
  {
   "cell_type": "code",
   "execution_count": 5,
   "metadata": {
    "collapsed": false
   },
   "outputs": [
    {
     "name": "stdout",
     "output_type": "stream",
     "text": [
      "The median roll is 7.0 with standard_deviation 2.434807772471759 and the average roll is 6.973333333333334\n",
      "The percentage chance that the sum of rolls is equal 8 is 13.825000000000001\n",
      "The percentage chance that the sum of rolls  = 8 with first > second is 5.516666666666667\n"
     ]
    }
   ],
   "source": [
    "print(\"The median roll is {} with standard_deviation {} and the average roll is {}\".format(str(median_roll), str(standard_deviation), str(average_roll)))\n",
    "print(\"The percentage chance that the sum of rolls is equal 8 is {}\".format(count_of_sum_8_percentage))\n",
    "print(\"The percentage chance that the sum of rolls  = 8 with first > second is {}\".format(count_of_sum_8_where_first_gt_second_percentage))"
   ]
  },
  {
   "cell_type": "code",
   "execution_count": 10,
   "metadata": {
    "collapsed": false
   },
   "outputs": [
    {
     "data": {
      "image/png": "[encoded data removed]",
      "text/plain": [
       "<Figure size 432x288 with 3 Axes>"
      ]
     },
     "metadata": {},
     "output_type": "display_data"
    }
   ],
   "source": [
    "_,my_plot = plt.subplots(1,3)\n",
    "my_plot[0].set_title(\"Sum of two rolled Dices\")\n",
    "my_plot[0].set_xlabel(\"Sum\")\n",
    "n, bins, patches = my_plot[0].hist(np_sampleslist[:,2], facecolor='magenta', edgecolor='black')\n",
    "patches[6].set_fc('r')\n",
    "my_plot[0].axvline(np_sampleslist[:,2].mean(), color='k', linestyle='dashed', linewidth=3)\n",
    "\n",
    "my_plot[1].set_title(\"Roll on Dice 1\")\n",
    "my_plot[1].set_xlabel(\"Number\")\n",
    "my_plot[1].hist(np_sampleslist[:,0], 6, facecolor='blue', edgecolor='black')\n",
    "\n",
    "my_plot[2].set_title(\"Roll on Dice 2\")\n",
    "my_plot[2].set_xlabel(\"Number\")\n",
    "my_plot[2].hist(np_sampleslist[:,1], 6, facecolor='green', edgecolor='black')\n",
    "\n",
    "plt.show()"
   ]
  },
  {
   "cell_type": "code",
   "execution_count": null,
   "metadata": {
    "collapsed": true
   },
   "outputs": [],
   "source": []
  }
 ],
 "metadata": {
  "kernelspec": {
   "display_name": "Python 3.6",
   "language": "python",
   "name": "python3.6"
  },
  "language_info": {
   "codemirror_mode": {
    "name": "ipython",
    "version": 3
   },
   "file_extension": ".py",
   "mimetype": "text/x-python",
   "name": "python",
   "nbconvert_exporter": "python",
   "pygments_lexer": "ipython3",
   "version": "3.6.6"
  }
 },
 "nbformat": 4,
 "nbformat_minor": 0
}
