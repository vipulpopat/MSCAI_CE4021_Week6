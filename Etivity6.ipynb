{
 "cells": [
  {
   "cell_type": "markdown",
   "metadata": {},
   "source": [
    "# Etivity 6 - Probability Theory\n",
    "\n",
    "## Student Name: Mark Murnane\n",
    "## Student ID: 18195326"
   ]
  },
  {
   "cell_type": "markdown",
   "metadata": {},
   "source": [
    "## Problem Statement\n",
    "\n",
    "\n",
    "In a standard deck of cards, what is the probability of 3 cards yielding a score of 21 or more, where the cards values are:\n",
    "\n",
    " * Aces = 1\n",
    " * Numbered card = Face value\n",
    " * Face cards = 10\n",
    " \n",
    "\n",
    "## Requirements\n",
    "\n",
    " * Calculate the Expected Value of the draw\n",
    " * Calculate the Standard Deviation of the draw\n",
    "\n",
    "\n",
    "## Reflection ##\n",
    "\n",
    "Calculating the probability of the cards being > 21 this proved to be beyond my limited stats capabilities at this point.  It turns out to be a [Hypergeometric Distribution](https://en.wikipedia.org/wiki/Hypergeometric_distribution).  Choosing just the specific value (and not greater than) would be more straightforward as there are a finite number of ways that can be achieved. \n",
    "\n",
    "In this case, an experiment with a large number of individual tests should approximate the statistical probability, with increasing accuracy as the number of tests increases.  \n",
    "\n",
    "Two tests below calculate a value for the probability of 3 cards yielding a score of 21 or more, based on experimental data.\n",
    "\n",
    "\n",
    "**Code Changes**\n",
    "\n",
    "No specific feedback was received on my code, so changes were inferred from other people's code or my own feedback to my peers.\n",
    "\n",
    "**Cormac Lavery's** code inspired the plotting of $E[V]$ and $\\mu$ on my histogram.  I hadn't previously been sure how to plot a straight line.\n",
    "\n",
    "My feedback to **Vipul Popat** caused me to re-examine and refactor the graphing code into a function.  **Andrew Kenny's** code let me to using default parameters for this new function.  Based on both, I spent quite a bit of time using a debugger to examine what was going on with the plotting and the histogram buckets being generated.  It also inspired me to use a histogram to establish the probability for my Problem Statement.\n",
    "\n",
    "\n",
    "\n",
    "## Implementation\n",
    "\n",
    "A new deck is generated for each test.  The deck is represented as Python list as numpy arrays don't offer pop functionality.  The new deck is by default randomly shuffled as would be expected before the start of any game.  This can be overridden to test if there is a difference.\n"
   ]
  },
  {
   "cell_type": "code",
   "execution_count": 7,
   "metadata": {},
   "outputs": [],
   "source": [
    "import numpy as np\n",
    "import matplotlib.pyplot as plt\n",
    "import random\n",
    "\n",
    "# Code for the solution\n",
    "\n",
    "def generate_new_deck(shuffle=True):\n",
    "    ## Generates a list representing the card values of a new deck\n",
    "    new_deck = []\n",
    "    \n",
    "    for i in range(4):\n",
    "        for j in range(1,14):\n",
    "            new_deck.append(min(j, 10))                   \n",
    "\n",
    "    # The deck should always be shuffled before being returned\n",
    "    if shuffle == True:\n",
    "        np.random.shuffle(new_deck)\n",
    "            \n",
    "    return new_deck\n",
    "        \n",
    "    \n",
    "def pick_card (card_deck):   \n",
    "    ## Randomly removes a card from the deck and reports the position and value of the card\n",
    "    selected_card = random.randrange(0, len(card_deck))\n",
    "    selected_value = card_deck[selected_card]\n",
    "    \n",
    "    card_deck.pop(selected_card)\n",
    "    \n",
    "    return selected_value, selected_card, \n",
    "\n",
    "\n",
    "def run_test_case(cards_to_draw = 3):\n",
    "    # Run an iteration of the test and return the value produced by drawing 3 cards\n",
    "    card_deck = generate_new_deck()\n",
    "    \n",
    "    expected_values = []\n",
    "    draw_score = 0\n",
    "    \n",
    "    \n",
    "    for _ in range(cards_to_draw):\n",
    "        draw_score += pick_card(card_deck)[0]\n",
    "        expected_values.append(np.mean(card_deck))\n",
    "        \n",
    "    return np.array((draw_score, *expected_values))\n",
    "\n",
    "\n",
    "def run_experiment(population_size, cards_to_draw=3):\n",
    "    \n",
    "    test_results = np.zeros((population_size, cards_to_draw + 1))    \n",
    "    \n",
    "    for i in range(population_size):      \n",
    "        test_results[i] = run_test_case(cards_to_draw) \n",
    "    \n",
    "    return test_results"
   ]
  },
  {
   "cell_type": "code",
   "execution_count": 8,
   "metadata": {},
   "outputs": [],
   "source": [
    "def plot_card_draw_distribution(test_draw_scores, min_value = 3, max_value = 30, expected_value = None, mean = None):\n",
    "    \n",
    "    plt.title(\"Distribution of Scores for 3 Card Draw\")\n",
    "    plt.xlabel(\"Draw Score\")\n",
    "    plt.ylabel(\"Score Frequency in Sample\")\n",
    "\n",
    "    # Set the x-axis up correctly with limits.  Total score is 3 <= x <= 30\n",
    "    # Need to configure the ticks and bins to have the tick marks centered under the bars\n",
    "    plt.xlim(min_value - 1, max_value+1)\n",
    "    plt.xticks(range(min_value - 1, max_value+1))\n",
    "    plt.grid(True, axis='y', linestyle='--')\n",
    "\n",
    "    bins = np.arange(min_value - 1, max_value+2) - 0.5\n",
    "\n",
    "    # Plot the histogram\n",
    "    plt.hist(test_draw_scores, bins, facecolor='#8EA9DB', edgecolor='black')\n",
    "\n",
    "    # Add in the Expected value and the Mean if specified\n",
    "    if expected_value:\n",
    "        plt.axvline(expected_value, label=\"E[V]\", color='r', linestyle='dotted')\n",
    "        \n",
    "    if mean:\n",
    "        plt.axvline(draw_score_mean, label=u\"\\u03BC\", color='g', linestyle='dashed')\n",
    "\n",
    "    if expected_value or mean:\n",
    "        plt.legend()\n",
    "\n",
    "    plt.show()"
   ]
  },
  {
   "cell_type": "markdown",
   "metadata": {},
   "source": [
    "## Tests"
   ]
  },
  {
   "cell_type": "code",
   "execution_count": 9,
   "metadata": {
    "scrolled": false
   },
   "outputs": [
    {
     "name": "stdout",
     "output_type": "stream",
     "text": [
      "The Expected Value of a new deck of cards is: 6.538462\n",
      "The Expected Value of a drawing 3 cards is assumed as: 19.615385\n",
      "\n",
      "The mean value of the card draw is 19.6858\n",
      "The median value of the card draw is 20.0000\n",
      "The standard deviation of the distribution is 5.3365\n",
      "\n",
      "\n",
      "**** The Problem Question ****\n",
      "\n",
      "The % of draws where the value is >= 21 is: 53.78%\n",
      "\n",
      "\n",
      "\n"
     ]
    },
    {
     "data": {
      "image/png": "[encoded data removed]",
      "text/plain": [
       "<Figure size 1152x648 with 1 Axes>"
      ]
     },
     "metadata": {},
     "output_type": "display_data"
    }
   ],
   "source": [
    "# Get the Expected Value of a new deck of cards\n",
    "# For a single deck of cards, as the probability is a uniform distribution, the mean is the Expected Value\n",
    "\n",
    "NUM_CARDS = 3\n",
    "POP_SIZE = 5000\n",
    "\n",
    "#####################################################\n",
    "# Expected Value\n",
    "#####################################################\n",
    "\n",
    "card_deck = generate_new_deck()\n",
    "expected_value = np.mean(card_deck)\n",
    "\n",
    "print(f\"The Expected Value of a new deck of cards is: {expected_value:.6f}\")\n",
    "print(f\"The Expected Value of a drawing 3 cards is assumed as: {3 * expected_value:.6f}\\n\")\n",
    "\n",
    "#####################################################\n",
    "# Mean, Median and Standard Deviation\n",
    "#####################################################\n",
    "\n",
    "test_results = run_experiment(POP_SIZE, NUM_CARDS)\n",
    "test_draw_scores = test_results[:,0]\n",
    "\n",
    "draw_score_mean = np.mean(test_draw_scores)\n",
    "draw_score_median = np.median(test_draw_scores)\n",
    "draw_score_stddev = np.std(test_draw_scores)\n",
    "\n",
    "print(f\"The mean value of the card draw is {draw_score_mean:.4f}\")\n",
    "print(f\"The median value of the card draw is {draw_score_median:.4f}\")\n",
    "print(f\"The standard deviation of the distribution is {draw_score_stddev:.4f}\")\n",
    "\n",
    "\n",
    "hist, bins = np.histogram(test_draw_scores, bins=range(3,31))\n",
    "\n",
    "print(\"\\n\\n**** The Problem Question ****\\n\")\n",
    "print(f\"The % of draws where the value is >= 21 is: {np.sum(hist[-10:])/POP_SIZE:.2%}\")\n",
    "print(\"\\n\\n\")\n",
    "\n",
    "#####################################################\n",
    "# Graphing the results\n",
    "#####################################################\n",
    "\n",
    "# Adjust the size of the graph as E[V] and mu are very similar\n",
    "plt.rcParams[\"figure.figsize\"] = (16,9)\n",
    "\n",
    "plot_card_draw_distribution(test_draw_scores, expected_value=NUM_CARDS*expected_value, mean=draw_score_mean)"
   ]
  },
  {
   "cell_type": "markdown",
   "metadata": {},
   "source": [
    "#### Larger Sample"
   ]
  },
  {
   "cell_type": "code",
   "execution_count": 10,
   "metadata": {},
   "outputs": [
    {
     "name": "stdout",
     "output_type": "stream",
     "text": [
      "The % of draws where the value is >= 21 is: 52.22%\n"
     ]
    },
    {
     "data": {
      "image/png": "[encoded data removed]",
      "text/plain": [
       "<Figure size 1152x648 with 1 Axes>"
      ]
     },
     "metadata": {},
     "output_type": "display_data"
    }
   ],
   "source": [
    "large_test_results = run_experiment(POP_SIZE*3, NUM_CARDS)\n",
    "large_test_draw_scores = large_test_results[:,0]\n",
    "\n",
    "hist, bins = np.histogram(large_test_draw_scores, bins=range(3,31))\n",
    "\n",
    "print(f\"The % of draws where the value is >= 21 is: {np.sum(hist[-10:])/(POP_SIZE*3):.2%}\")\n",
    "\n",
    "#####################################################\n",
    "# Graphing the results\n",
    "#####################################################\n",
    "\n",
    "plot_card_draw_distribution(large_test_draw_scores)"
   ]
  },
  {
   "cell_type": "markdown",
   "metadata": {},
   "source": [
    "## Manual Calculations\n",
    "\n",
    "\n",
    "### Expected Value\n",
    "\n",
    "The Expected Value for a single card draw can be calculated by adding the probability of drawing each number.  In the deck of 52 cards, the values 1-9 are represented 4 times each and the value 10 is represented 16 times.\n",
    "\n",
    "$\n",
    "\\quad\\quad\n",
    "\\begin{align}\n",
    "E[V] =  \\sum\\limits_{i=1}^{52}{v_i}{p_i} &= 1\\cdot\\frac{1}{52} + 1\\cdot\\frac{1}{52} + 1\\cdot\\frac{1}{52} + 1\\cdot\\frac{1}{52} + 2\\cdot\\frac{1}{52} + \\cdots + 10\\cdot\\frac{1}{52} + 10\\cdot\\frac{1}{52} + 10\\cdot\\frac{1}{52} + 10\\cdot\\frac{1}{52} \\\\\n",
    "&= 1\\cdot\\frac{4}{52} + 2\\cdot\\frac{4}{52} + 3\\cdot\\frac{4}{52} + 4\\cdot\\frac{4}{52} + 5\\cdot\\frac{4}{52} + 6\\cdot\\frac{4}{52} + 7\\cdot\\frac{4}{52} + 8\\cdot\\frac{4}{52} + 9\\cdot\\frac{4}{52} + 10\\cdot\\frac{16}{52} \\\\\n",
    "&= \\frac{340}{52} \\\\\n",
    "&= 6.538462\n",
    "\\end{align}\n",
    "$\n",
    "\n",
    "Equally, as the numbers are repeated we could simply work out the Expected Value for a single suit.  As the distribution of the values doesn't change, it is equivalent to calculating for the larger set.\n",
    "\n",
    "$\n",
    "\\quad\\quad\n",
    "\\begin{align}\n",
    "E[V] =  \\sum\\limits_{i=1}^{13}{v_i}{p_i} &= 1\\cdot\\frac{1}{13} + 2\\cdot\\frac{1}{13} + 3\\cdot\\frac{1}{13} + 4\\cdot\\frac{1}{13} + 5\\cdot\\frac{1}{13} + 6\\cdot\\frac{1}{13} + 7\\cdot\\frac{1}{13} + 8\\cdot\\frac{1}{13} + 9\\cdot\\frac{1}{13} + 10\\cdot\\frac{4}{13} \\\\\n",
    "&= \\frac{85}{13} \\\\\n",
    "&= 6.538462\n",
    "\\end{align}\n",
    "$\n",
    "\n",
    "\n",
    "As we have a _Uniform Distribution_ the above same as calculating the arithmetic mean:\n",
    "\n",
    "$\n",
    "\\quad\\quad\n",
    "\\begin{align}\n",
    "\\bar{v} &= (1 + 2 + 3 + 4 + 5 + 6 + 7 + 8 + 9 + 10 + 10 + 10 + 10)\\cdot\\frac{1}{13} \\\\\n",
    "&= (85)\\cdot\\frac{1}{13}\n",
    "\\end{align}\n",
    "$\n",
    "\n",
    "\n",
    "**N.B.** After initially stating the problem, I realised that calculating the _Expected Value_ for the combination is quite a challenge as there are $ { 52 \\choose 3} $ = 22,100 possibilities.  As part of the experiment then I chose to capture the Expected Value of the deck at each point in the draw and if possible plot those in relation to an assumed Expected Value for 3 draws of 3 x Expected Value for a single draw.\n",
    "\n",
    "### Standard Deviation\n",
    "\n",
    "For manual calculation of the Standard Deviation we need to calculate the variance of the data set, which is the average of the sum of the square differences from the mean, $\\mu$.\n",
    "\n",
    "$\n",
    "\\quad\\quad\\quad\\quad\n",
    "\\sigma = \\sqrt{\\frac{1}{N}\\sum\\limits_{i=1}^{N}{(x_i - \\mu)^2}}\n",
    "$\n",
    "\n",
    "A small subset will be used to make the calculation practical (vs. the large value sample size above).  We'll also confine this a single draw as we have a proper mean for that."
   ]
  },
  {
   "cell_type": "code",
   "execution_count": 5,
   "metadata": {},
   "outputs": [
    {
     "name": "stdout",
     "output_type": "stream",
     "text": [
      "[10.  1.  7.  8. 10.  9.  3.  2. 10.  9.]\n"
     ]
    }
   ],
   "source": [
    "stddev_test = run_experiment(10, 1)\n",
    "stddev_test_scores = stddev_test[:,0]\n",
    "\n",
    "print(stddev_test_scores)"
   ]
  },
  {
   "cell_type": "markdown",
   "metadata": {},
   "source": [
    "To calculate the Standard Deviation we need to calculate square root of the variance.  From the previous exercise we know that the mean for a single draw of cards is $\\mu$ = 6.538.\n",
    "\n",
    "$\n",
    "\\begin{align}\n",
    "\\sigma^2 &= \\frac{(10-6.538)^2 + (1 - 6.538)^2 + (7 - 6.538)^2 + (8 - 6.538)^2 + (10 - 6.538)^2 + (9 - 6.538)^2 + (3 - 6.538)^2 + (2 - 6.538)^2 + (10 - 6.538)^2 + (9 - 6.538)^2}{10} \\\\\n",
    "\\\\\n",
    "&= \\frac{(11.985 + 30.669 + 0.213 + 2.137 + 11.985 + 6.061 + 12.517 + 20.593 + 11.985 + 6.061)}{10} \\\\\n",
    "\\\\\n",
    "&= \\frac{114.210}{10} \\\\\n",
    "\\\\\n",
    "&= 11.421 \\\\\n",
    "\\\\\n",
    "\\\\\n",
    "\\sigma &= \\sqrt{11.421} \\\\\n",
    "&= 3.380\n",
    "\\end{align}\n",
    "$\n",
    "\n",
    "The value returned by numpy is:"
   ]
  },
  {
   "cell_type": "code",
   "execution_count": 6,
   "metadata": {},
   "outputs": [
    {
     "name": "stdout",
     "output_type": "stream",
     "text": [
      "3.3600595232822883\n"
     ]
    }
   ],
   "source": [
    "print(np.std(stddev_test_scores))"
   ]
  }
 ],
 "metadata": {
  "kernelspec": {
   "display_name": "Python 3",
   "language": "python",
   "name": "python3"
  },
  "language_info": {
   "codemirror_mode": {
    "name": "ipython",
    "version": 3
   },
   "file_extension": ".py",
   "mimetype": "text/x-python",
   "name": "python",
   "nbconvert_exporter": "python",
   "pygments_lexer": "ipython3",
   "version": "3.6.5"
  }
 },
 "nbformat": 4,
 "nbformat_minor": 1
}
