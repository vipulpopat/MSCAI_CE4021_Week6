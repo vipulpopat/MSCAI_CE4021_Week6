{
 "cells": [
  {
   "cell_type": "markdown",
   "metadata": {},
   "source": [
    "#Student Name: Michel Danjou\n",
    "#Student ID:18263461"
   ]
  },
  {
   "cell_type": "markdown",
   "metadata": {},
   "source": [
    "# Problem description:\n",
    "    \n",
    "A man has the flu and needs to take pills to get better.\n",
    "    \n",
    "There are 2 types of pills in his medecine cabinet.\n",
    "\n",
    "  * **pill-a**: which is just vitamines and has no effect on the flu virus.\n",
    "\n",
    "  * **pill-b**: which contains an agent killing the virus and needs to be taken for **4 consecutive days in order to defeat the virus.**\n",
    "    \n",
    "Unfortunately all the pills have been mixed together in the same box \n",
    "and there is no way to distinguish between them.\n",
    "    \n",
    "The man decides to randomly take a pill each day and wait until he gets better.\n",
    "    \n",
    "We want to know how long it will take the man to be virus free.\n",
    "    \n",
    "We want to repeat the simulation for *1000* people and figure out:\n",
    "    1. The mean value of the recovery time\n",
    "    2. The standard variation of the recovery time\n",
    "        "
   ]
  },
  {
   "cell_type": "code",
   "execution_count": 22,
   "metadata": {
    "scrolled": true
   },
   "outputs": [
    {
     "name": "stdout",
     "output_type": "stream",
     "text": [
      "Once deleted, variables cannot be recovered. Proceed (y/[n])? y\n"
     ]
    }
   ],
   "source": [
    "%reset\n",
    "\n",
    "import random\n",
    "import matplotlib.pyplot as plt\n",
    "import numpy as np\n",
    "\n",
    "def generate_box_of_pills(nb_pill_in_box):\n",
    "    pills = ['pill-a', \"pill-b\"]\n",
    "    box = []\n",
    "    for i in range(nb_pill_in_box):\n",
    "        box.append(random.choice(pills))\n",
    "    return box\n",
    "\n",
    "\n",
    "def run_experiment(box, goal):\n",
    "    pill_b_consecutive_counter = 0\n",
    "    total_nb_pills = len(box)\n",
    "    for i in range(total_nb_pills):\n",
    "        pill_taken = box.pop()\n",
    "        if (pill_taken =='pill-a'):\n",
    "            pill_b_consecutive_counter = 0\n",
    "        elif (pill_taken =='pill-b'):\n",
    "            pill_b_consecutive_counter += 1\n",
    "            if pill_b_consecutive_counter == goal:\n",
    "                return i\n",
    "        else:\n",
    "            print(\"Hum, don't know about that pill. Skippint it!\")\n",
    "            \n",
    "    return None\n",
    "    \n",
    "\n",
    "def run_test_campaign(nb_patients):        \n",
    "    test_campaign_results = []\n",
    "    for i in range(nb_patients):\n",
    "        patient_box = generate_box_of_pills(200)    \n",
    "        days = run_experiment(patient_box, nb_consecutive_days_for_pill_b_success)        \n",
    "        test_campaign_results.append(days)\n",
    "        #print(\"Patient: \", i, \" - Nb of days taken to be curred:\", days)\n",
    "\n",
    "    return test_campaign_results\n",
    "\n",
    "\n",
    "def find_mean(campain_results):\n",
    "    total_days=0\n",
    "    for i in range(len(campain_results)):\n",
    "        if campain_results[i-1] != None:\n",
    "            total_days += campain_results[i-1]\n",
    "    return int(total_days/len(campain_results))\n",
    "\n",
    "\n",
    "def remove_uncurred_people_from_campain_results(campain_results):\n",
    "    currated_results = []\n",
    "    for i in range(len(campain_results)):\n",
    "        if campain_results[i] != None:\n",
    "            #print(\"campain_result[\", i, \"]=\", campain_results[i])\n",
    "            currated_results.append(campain_results[i])\n",
    "    return currated_results\n",
    "    \n",
    "\n",
    "def find_nb_uncurred_people(campain_results):\n",
    "    nb_uncurred = 0\n",
    "    for i in range(len(campain_results)):\n",
    "        if campain_results[i-1] == None:\n",
    "            nb_uncurred += 1\n",
    "    return nb_uncurred\n",
    "\n",
    "\n",
    "def find_standard_deviation(campaign_results):\n",
    "    data = np.array(campaign_results)\n",
    "    std = data.std()\n",
    "    return std \n",
    "\n",
    "\n",
    "def find_min_max(campaign_results):\n",
    "    data = np.array(campaign_results)\n",
    "    min = data.min()\n",
    "    max = data.max()\n",
    "    return (min, max)\n",
    "\n",
    "\n",
    "def summarize(data):\n",
    "    summarized_data = []\n",
    "    for i in range(len(data)):\n",
    "        counter = 0\n",
    "        for j in range(len(data)):\n",
    "            if data[j]==i:\n",
    "                counter += 1\n",
    "        summarized_data.append(counter)\n",
    "    return summarized_data\n",
    "\n",
    "\n"
   ]
  },
  {
   "cell_type": "markdown",
   "metadata": {},
   "source": [
    "# Simulation for 1 patient\n",
    "Please note that the patient is \"poping\" the pills from the box. Internally I am using the pop() method which takes elements from the **end of the list.**"
   ]
  },
  {
   "cell_type": "code",
   "execution_count": 23,
   "metadata": {},
   "outputs": [
    {
     "name": "stdout",
     "output_type": "stream",
     "text": [
      "box: ['pill-b', 'pill-a', 'pill-a', 'pill-a', 'pill-a', 'pill-a', 'pill-b', 'pill-b', 'pill-a', 'pill-a', 'pill-b', 'pill-a', 'pill-b', 'pill-a', 'pill-b', 'pill-b', 'pill-a', 'pill-b', 'pill-b', 'pill-a', 'pill-b', 'pill-b', 'pill-b', 'pill-b', 'pill-b', 'pill-b', 'pill-b', 'pill-a', 'pill-a', 'pill-a', 'pill-b', 'pill-a', 'pill-a', 'pill-a', 'pill-a', 'pill-a', 'pill-a', 'pill-b', 'pill-a', 'pill-a', 'pill-a', 'pill-b', 'pill-a', 'pill-b', 'pill-a', 'pill-b', 'pill-b', 'pill-b', 'pill-a', 'pill-a', 'pill-a', 'pill-b', 'pill-b', 'pill-b', 'pill-b', 'pill-a', 'pill-b', 'pill-a', 'pill-b', 'pill-a', 'pill-a', 'pill-b', 'pill-a', 'pill-b', 'pill-b', 'pill-a', 'pill-b', 'pill-a', 'pill-a', 'pill-b', 'pill-b', 'pill-a', 'pill-b', 'pill-a', 'pill-a', 'pill-a', 'pill-a', 'pill-b', 'pill-a', 'pill-a', 'pill-b', 'pill-b', 'pill-b', 'pill-a', 'pill-a', 'pill-a', 'pill-a', 'pill-a', 'pill-b', 'pill-b', 'pill-a', 'pill-b', 'pill-b', 'pill-b', 'pill-b', 'pill-a', 'pill-a', 'pill-b', 'pill-a', 'pill-a', 'pill-a', 'pill-a', 'pill-b', 'pill-b', 'pill-a', 'pill-a', 'pill-b', 'pill-b', 'pill-a', 'pill-a', 'pill-b', 'pill-b', 'pill-b', 'pill-a', 'pill-b', 'pill-b', 'pill-a', 'pill-a', 'pill-b', 'pill-b', 'pill-b', 'pill-a', 'pill-b', 'pill-b', 'pill-b', 'pill-b', 'pill-b', 'pill-a', 'pill-a', 'pill-b', 'pill-a', 'pill-a', 'pill-a', 'pill-b', 'pill-a', 'pill-a', 'pill-a', 'pill-a', 'pill-a', 'pill-b', 'pill-b', 'pill-b', 'pill-b', 'pill-a', 'pill-a', 'pill-b', 'pill-b', 'pill-b', 'pill-a', 'pill-a', 'pill-b', 'pill-a', 'pill-b', 'pill-b', 'pill-b', 'pill-b', 'pill-b', 'pill-a', 'pill-a', 'pill-b', 'pill-a', 'pill-b', 'pill-b', 'pill-a', 'pill-b']\n",
      "recovery time:  34\n"
     ]
    }
   ],
   "source": [
    "# Important parameters\n",
    "nb_consecutive_days_for_pill_b_success = 4\n",
    "nb_pills_in_box = 200\n",
    "\n",
    "# Test the code for 1 patient\n",
    "box = generate_box_of_pills(nb_pills_in_box)\n",
    "recovery_time = run_experiment(box, nb_consecutive_days_for_pill_b_success)\n",
    "print(\"box:\", box)\n",
    "print(\"recovery time: \", recovery_time)"
   ]
  },
  {
   "cell_type": "markdown",
   "metadata": {},
   "source": [
    "# Simulation for a large number of patients"
   ]
  },
  {
   "cell_type": "code",
   "execution_count": 24,
   "metadata": {},
   "outputs": [],
   "source": [
    "nb_patients = 1000"
   ]
  },
  {
   "cell_type": "code",
   "execution_count": 25,
   "metadata": {},
   "outputs": [
    {
     "name": "stdout",
     "output_type": "stream",
     "text": [
      "campaign results: [8, 7, 21, 15, 15, 29, 28, 15, 19, 49, 15, 5, 47, 35, 40, 33, 39, 32, 46, 12, 14, 82, 72, 4, 3, 11, 20, 39, 16, 82, 9, 11, 5, 51, 27, 36, 10, 59, 60, 25, 8, 10, 42, 7, 10, 19, 27, 56, 27, 18, 16, 16, 9, 31, 9, 35, 33, 3, 14, 35, 48, 18, 17, 33, 30, 13, 3, 4, 23, 82, 23, 22, 13, 31, 8, 6, 33, 31, 57, 11, 85, 8, 7, 10, 19, 11, 66, 47, 75, 21, 19, 3, 3, 23, 15, 6, 59, 45, 3, 29, 10, 5, 20, 3, 3, 12, 41, 19, 24, 85, 5, 3, 23, 51, 33, 7, 14, 76, 18, 22, 37, 22, 12, 34, 50, 6, 3, 31, 5, 36, 18, 85, 6, 9, 60, 54, 13, 65, 12, 36, 61, 17, 118, 65, 21, 24, 5, 11, 16, 27, 5, 23, 28, 44, 10, 21, 53, 57, 11, 6, 21, 61, 71, 20, 15, 31, 36, 19, 93, 16, 38, 10, 11, 110, 12, 15, 4, 83, 5, 21, 48, 12, 21, 12, 31, 16, 55, 33, 28, 36, None, 82, 68, 5, 40, 14, 5, 7, 47, 12, 31, 43, 17, 31, 7, 3, 22, 42, 41, 10, 5, 8, 4, 26, 32, 12, 30, 20, 116, 3, 39, 23, 11, 8, 46, 3, 17, 48, 54, 13, 100, 30, 16, 153, 7, 50, 35, 132, 93, 13, 18, 17, 60, 3, 35, 11, 41, 29, 42, 13, 85, 44, 13, 9, 128, 46, 20, 32, 21, 41, 27, 17, 6, 39, 24, 24, 29, 39, 4, 35, 24, 15, 32, 16, 33, 18, 52, 62, 67, 23, 4, 17, 3, 45, 15, 9, 7, 46, 22, 66, 86, 11, 79, 42, 26, 11, 13, 10, 24, 10, 6, 22, 3, 40, 106, 4, 50, 33, 47, 41, 35, 70, 57, 24, 28, 3, 19, 24, 54, 20, 55, 76, 13, 34, 26, 73, 49, 11, 14, 14, 47, 7, 30, 17, 4, 35, 36, 18, 14, 77, 14, 49, 27, 7, 9, 54, 58, 23, 19, 18, 14, 46, 11, 53, 48, 25, 34, 42, 89, 3, 64, 52, 35, 19, 7, 88, 83, 24, 19, 16, 5, 3, 4, 94, 21, 24, 23, 22, 13, 14, 3, 11, 21, 21, 21, 27, 13, 5, 5, 7, 10, 22, 3, 5, 4, 20, 20, 5, 110, 24, 7, 22, 13, 21, 25, 28, 29, 61, 11, 5, 13, 67, 90, 12, 9, 13, 3, 34, 119, 10, 17, 99, 26, 92, 20, 10, 6, 17, 9, 48, 31, 13, 18, 7, 4, 3, 8, 20, 13, 28, 5, 11, 7, 14, 27, 10, 25, 22, 94, 11, 3, 36, 14, 3, 153, 4, 3, 31, 64, 46, 4, 25, 42, 143, 40, 39, 24, 24, 19, 24, 37, 41, 6, 21, 29, 11, 70, 9, 9, 5, 37, 18, 14, 27, 7, 3, 7, 116, 10, 75, 48, 91, 3, 44, 23, 6, 43, 21, 6, 123, 47, 20, 14, 20, 9, 3, 7, 140, 17, 19, 40, 3, 51, 65, 39, 28, 3, 4, 7, 29, 98, 31, 5, 19, 16, 48, 39, 20, 3, 11, 28, 4, 63, 15, 5, 10, 72, 18, 5, 24, 47, 81, 3, 3, 15, 35, 5, 7, 57, 19, 27, 47, 10, 25, 35, 49, 6, 46, 6, 14, 96, 28, 55, 33, 3, 14, 34, 97, 32, 12, 29, 41, 10, 6, 28, 17, 107, 54, 22, 36, 10, 17, 95, 26, 4, 3, 58, 50, 11, 106, 14, 47, 34, 11, 62, 126, 23, 99, 13, 26, 8, 23, 14, 15, 8, 6, 63, 53, 4, 19, 7, 15, 7, 34, 7, 78, 62, 34, 27, 11, 32, 50, 4, 20, 107, 5, 38, 3, 65, 12, 82, 24, 31, 5, 36, 11, 16, 40, 3, 10, 6, 82, 32, 107, 4, 15, 16, 7, 56, 10, 23, 8, 32, 126, 53, 17, 3, 93, 7, 34, 3, 90, 11, 49, 40, 22, 3, 7, 19, 35, 7, 45, 51, 47, 83, 48, 18, 10, 49, 22, 3, 8, 3, 65, 12, 21, 6, 15, 9, 31, 90, 9, 19, 7, 7, 47, 25, 119, 20, 33, 15, 7, 16, 10, 93, 137, 65, 14, 32, 31, 51, 18, 33, 17, 66, 19, 45, 18, 3, 78, 4, 10, 97, 14, 25, 10, 21, 7, 31, 11, 74, 10, 31, 44, 23, 4, 8, 3, 26, 18, 10, 11, 8, 9, 117, 17, 11, 11, 15, 3, 53, 47, 9, 12, 4, 3, 50, 11, 25, 23, 17, 24, 56, 11, 12, 9, 58, 24, 37, 20, 6, 59, 15, 28, 6, 11, 20, 3, 4, 9, 23, 41, 60, 3, 17, 37, 10, 5, 12, 8, 79, 7, 3, 29, 7, 15, 124, 7, 14, 25, 27, 4, 45, 27, 7, 19, 20, 3, 85, 36, 53, 9, 12, 8, 16, 5, 112, 22, 11, 3, 30, 58, 66, 3, 15, 7, 20, 14, 3, 30, 12, 3, 16, 73, 76, 45, 92, 21, 33, 28, 22, None, 28, 17, 9, 6, 6, 14, 3, 37, 100, 18, 23, 46, 107, 22, 59, 20, 11, 31, 33, 15, 16, 15, 5, 52, 26, 81, 69, 3, 41, 11, 43, 52, 18, 6, 14, 9, 66, 37, 55, 130, 18, 109, 6, 16, 102, 26, 12, 6, 5, 74, 26, 9, 3, 7, 40, 5, 28, 4, 17, 5, 39, 5, 6, 28, 32, 19, 26, 9, 8, 23, 27, 10, 40, 44, 56, 28, 4, 4, 25, 51, 4, 3, 32, 3, 17, 40, 7, 8, 17, 4, 22, 9, 22, 81, 51, 94, 38, 8, 58, 14, 63, 56, 13, 50, 9, 6, 18, 27, 12, 4, 89, 23, 43, 60, 18, 32, 31, 49, 27, 42, 35, 7, 99, 52, 10, 8, 26, 8, 46, 17, 23, 28, 6, 21, 31, 3, 54, 38, 4, 24, 6, 39, 66, 7, 30, 12, 38, 22, 8, 52, 45, 11, 34, 22, 3, 29, 3, 29]\n",
      "uncurred people: 2\n",
      "currated results: [8, 7, 21, 15, 15, 29, 28, 15, 19, 49, 15, 5, 47, 35, 40, 33, 39, 32, 46, 12, 14, 82, 72, 4, 3, 11, 20, 39, 16, 82, 9, 11, 5, 51, 27, 36, 10, 59, 60, 25, 8, 10, 42, 7, 10, 19, 27, 56, 27, 18, 16, 16, 9, 31, 9, 35, 33, 3, 14, 35, 48, 18, 17, 33, 30, 13, 3, 4, 23, 82, 23, 22, 13, 31, 8, 6, 33, 31, 57, 11, 85, 8, 7, 10, 19, 11, 66, 47, 75, 21, 19, 3, 3, 23, 15, 6, 59, 45, 3, 29, 10, 5, 20, 3, 3, 12, 41, 19, 24, 85, 5, 3, 23, 51, 33, 7, 14, 76, 18, 22, 37, 22, 12, 34, 50, 6, 3, 31, 5, 36, 18, 85, 6, 9, 60, 54, 13, 65, 12, 36, 61, 17, 118, 65, 21, 24, 5, 11, 16, 27, 5, 23, 28, 44, 10, 21, 53, 57, 11, 6, 21, 61, 71, 20, 15, 31, 36, 19, 93, 16, 38, 10, 11, 110, 12, 15, 4, 83, 5, 21, 48, 12, 21, 12, 31, 16, 55, 33, 28, 36, 82, 68, 5, 40, 14, 5, 7, 47, 12, 31, 43, 17, 31, 7, 3, 22, 42, 41, 10, 5, 8, 4, 26, 32, 12, 30, 20, 116, 3, 39, 23, 11, 8, 46, 3, 17, 48, 54, 13, 100, 30, 16, 153, 7, 50, 35, 132, 93, 13, 18, 17, 60, 3, 35, 11, 41, 29, 42, 13, 85, 44, 13, 9, 128, 46, 20, 32, 21, 41, 27, 17, 6, 39, 24, 24, 29, 39, 4, 35, 24, 15, 32, 16, 33, 18, 52, 62, 67, 23, 4, 17, 3, 45, 15, 9, 7, 46, 22, 66, 86, 11, 79, 42, 26, 11, 13, 10, 24, 10, 6, 22, 3, 40, 106, 4, 50, 33, 47, 41, 35, 70, 57, 24, 28, 3, 19, 24, 54, 20, 55, 76, 13, 34, 26, 73, 49, 11, 14, 14, 47, 7, 30, 17, 4, 35, 36, 18, 14, 77, 14, 49, 27, 7, 9, 54, 58, 23, 19, 18, 14, 46, 11, 53, 48, 25, 34, 42, 89, 3, 64, 52, 35, 19, 7, 88, 83, 24, 19, 16, 5, 3, 4, 94, 21, 24, 23, 22, 13, 14, 3, 11, 21, 21, 21, 27, 13, 5, 5, 7, 10, 22, 3, 5, 4, 20, 20, 5, 110, 24, 7, 22, 13, 21, 25, 28, 29, 61, 11, 5, 13, 67, 90, 12, 9, 13, 3, 34, 119, 10, 17, 99, 26, 92, 20, 10, 6, 17, 9, 48, 31, 13, 18, 7, 4, 3, 8, 20, 13, 28, 5, 11, 7, 14, 27, 10, 25, 22, 94, 11, 3, 36, 14, 3, 153, 4, 3, 31, 64, 46, 4, 25, 42, 143, 40, 39, 24, 24, 19, 24, 37, 41, 6, 21, 29, 11, 70, 9, 9, 5, 37, 18, 14, 27, 7, 3, 7, 116, 10, 75, 48, 91, 3, 44, 23, 6, 43, 21, 6, 123, 47, 20, 14, 20, 9, 3, 7, 140, 17, 19, 40, 3, 51, 65, 39, 28, 3, 4, 7, 29, 98, 31, 5, 19, 16, 48, 39, 20, 3, 11, 28, 4, 63, 15, 5, 10, 72, 18, 5, 24, 47, 81, 3, 3, 15, 35, 5, 7, 57, 19, 27, 47, 10, 25, 35, 49, 6, 46, 6, 14, 96, 28, 55, 33, 3, 14, 34, 97, 32, 12, 29, 41, 10, 6, 28, 17, 107, 54, 22, 36, 10, 17, 95, 26, 4, 3, 58, 50, 11, 106, 14, 47, 34, 11, 62, 126, 23, 99, 13, 26, 8, 23, 14, 15, 8, 6, 63, 53, 4, 19, 7, 15, 7, 34, 7, 78, 62, 34, 27, 11, 32, 50, 4, 20, 107, 5, 38, 3, 65, 12, 82, 24, 31, 5, 36, 11, 16, 40, 3, 10, 6, 82, 32, 107, 4, 15, 16, 7, 56, 10, 23, 8, 32, 126, 53, 17, 3, 93, 7, 34, 3, 90, 11, 49, 40, 22, 3, 7, 19, 35, 7, 45, 51, 47, 83, 48, 18, 10, 49, 22, 3, 8, 3, 65, 12, 21, 6, 15, 9, 31, 90, 9, 19, 7, 7, 47, 25, 119, 20, 33, 15, 7, 16, 10, 93, 137, 65, 14, 32, 31, 51, 18, 33, 17, 66, 19, 45, 18, 3, 78, 4, 10, 97, 14, 25, 10, 21, 7, 31, 11, 74, 10, 31, 44, 23, 4, 8, 3, 26, 18, 10, 11, 8, 9, 117, 17, 11, 11, 15, 3, 53, 47, 9, 12, 4, 3, 50, 11, 25, 23, 17, 24, 56, 11, 12, 9, 58, 24, 37, 20, 6, 59, 15, 28, 6, 11, 20, 3, 4, 9, 23, 41, 60, 3, 17, 37, 10, 5, 12, 8, 79, 7, 3, 29, 7, 15, 124, 7, 14, 25, 27, 4, 45, 27, 7, 19, 20, 3, 85, 36, 53, 9, 12, 8, 16, 5, 112, 22, 11, 3, 30, 58, 66, 3, 15, 7, 20, 14, 3, 30, 12, 3, 16, 73, 76, 45, 92, 21, 33, 28, 22, 28, 17, 9, 6, 6, 14, 3, 37, 100, 18, 23, 46, 107, 22, 59, 20, 11, 31, 33, 15, 16, 15, 5, 52, 26, 81, 69, 3, 41, 11, 43, 52, 18, 6, 14, 9, 66, 37, 55, 130, 18, 109, 6, 16, 102, 26, 12, 6, 5, 74, 26, 9, 3, 7, 40, 5, 28, 4, 17, 5, 39, 5, 6, 28, 32, 19, 26, 9, 8, 23, 27, 10, 40, 44, 56, 28, 4, 4, 25, 51, 4, 3, 32, 3, 17, 40, 7, 8, 17, 4, 22, 9, 22, 81, 51, 94, 38, 8, 58, 14, 63, 56, 13, 50, 9, 6, 18, 27, 12, 4, 89, 23, 43, 60, 18, 32, 31, 49, 27, 42, 35, 7, 99, 52, 10, 8, 26, 8, 46, 17, 23, 28, 6, 21, 31, 3, 54, 38, 4, 24, 6, 39, 66, 7, 30, 12, 38, 22, 8, 52, 45, 11, 34, 22, 3, 29, 3, 29]\n",
      "mean nb of days to be cured: 29\n",
      "min days:3, max days:153\n",
      "std: 27.252539069587897\n"
     ]
    },
    {
     "data": {
      "image/png": "[encoded data removed]",
      "text/plain": [
       "<Figure size 432x288 with 1 Axes>"
      ]
     },
     "metadata": {},
     "output_type": "display_data"
    },
    {
     "name": "stdout",
     "output_type": "stream",
     "text": [
      "summarized data: [0, 0, 0, 63, 31, 32, 28, 40, 21, 25, 30, 35, 21, 18, 25, 22, 17, 23, 20, 20, 20, 19, 20, 20, 19, 11, 12, 16, 17, 11, 7, 19, 12, 13, 10, 13, 10, 7, 5, 10, 10, 9, 7, 4, 5, 7, 9, 12, 8, 7, 7, 7, 6, 6, 6, 4, 5, 4, 5, 4, 5, 3, 3, 3, 2, 6, 6, 2, 1, 1, 2, 1, 2, 2, 2, 2, 3, 1, 2, 2, 0, 3, 6, 3, 0, 5, 1, 0, 1, 2, 3, 1, 2, 4, 3, 1, 1, 2, 1, 3, 2, 0, 1, 0, 0, 0, 2, 4, 0, 1, 2, 0, 1, 0, 0, 0, 2, 1, 1, 2, 0, 0, 0, 1, 1, 0, 2, 0, 1, 0, 1, 0, 1, 0, 0, 0, 0, 1, 0, 0, 1, 0, 0, 1, 0, 0, 0, 0, 0, 0, 0, 0, 0, 2, 0, 0, 0, 0, 0, 0, 0, 0, 0, 0, 0, 0, 0, 0, 0, 0, 0, 0, 0, 0, 0, 0, 0, 0, 0, 0, 0, 0, 0, 0, 0, 0, 0, 0, 0, 0, 0, 0, 0, 0, 0, 0, 0, 0, 0, 0, 0, 0, 0, 0, 0, 0, 0, 0, 0, 0, 0, 0, 0, 0, 0, 0, 0, 0, 0, 0, 0, 0, 0, 0, 0, 0, 0, 0, 0, 0, 0, 0, 0, 0, 0, 0, 0, 0, 0, 0, 0, 0, 0, 0, 0, 0, 0, 0, 0, 0, 0, 0, 0, 0, 0, 0, 0, 0, 0, 0, 0, 0, 0, 0, 0, 0, 0, 0, 0, 0, 0, 0, 0, 0, 0, 0, 0, 0, 0, 0, 0, 0, 0, 0, 0, 0, 0, 0, 0, 0, 0, 0, 0, 0, 0, 0, 0, 0, 0, 0, 0, 0, 0, 0, 0, 0, 0, 0, 0, 0, 0, 0, 0, 0, 0, 0, 0, 0, 0, 0, 0, 0, 0, 0, 0, 0, 0, 0, 0, 0, 0, 0, 0, 0, 0, 0, 0, 0, 0, 0, 0, 0, 0, 0, 0, 0, 0, 0, 0, 0, 0, 0, 0, 0, 0, 0, 0, 0, 0, 0, 0, 0, 0, 0, 0, 0, 0, 0, 0, 0, 0, 0, 0, 0, 0, 0, 0, 0, 0, 0, 0, 0, 0, 0, 0, 0, 0, 0, 0, 0, 0, 0, 0, 0, 0, 0, 0, 0, 0, 0, 0, 0, 0, 0, 0, 0, 0, 0, 0, 0, 0, 0, 0, 0, 0, 0, 0, 0, 0, 0, 0, 0, 0, 0, 0, 0, 0, 0, 0, 0, 0, 0, 0, 0, 0, 0, 0, 0, 0, 0, 0, 0, 0, 0, 0, 0, 0, 0, 0, 0, 0, 0, 0, 0, 0, 0, 0, 0, 0, 0, 0, 0, 0, 0, 0, 0, 0, 0, 0, 0, 0, 0, 0, 0, 0, 0, 0, 0, 0, 0, 0, 0, 0, 0, 0, 0, 0, 0, 0, 0, 0, 0, 0, 0, 0, 0, 0, 0, 0, 0, 0, 0, 0, 0, 0, 0, 0, 0, 0, 0, 0, 0, 0, 0, 0, 0, 0, 0, 0, 0, 0, 0, 0, 0, 0, 0, 0, 0, 0, 0, 0, 0, 0, 0, 0, 0, 0, 0, 0, 0, 0, 0, 0, 0, 0, 0, 0, 0, 0, 0, 0, 0, 0, 0, 0, 0, 0, 0, 0, 0, 0, 0, 0, 0, 0, 0, 0, 0, 0, 0, 0, 0, 0, 0, 0, 0, 0, 0, 0, 0, 0, 0, 0, 0, 0, 0, 0, 0, 0, 0, 0, 0, 0, 0, 0, 0, 0, 0, 0, 0, 0, 0, 0, 0, 0, 0, 0, 0, 0, 0, 0, 0, 0, 0, 0, 0, 0, 0, 0, 0, 0, 0, 0, 0, 0, 0, 0, 0, 0, 0, 0, 0, 0, 0, 0, 0, 0, 0, 0, 0, 0, 0, 0, 0, 0, 0, 0, 0, 0, 0, 0, 0, 0, 0, 0, 0, 0, 0, 0, 0, 0, 0, 0, 0, 0, 0, 0, 0, 0, 0, 0, 0, 0, 0, 0, 0, 0, 0, 0, 0, 0, 0, 0, 0, 0, 0, 0, 0, 0, 0, 0, 0, 0, 0, 0, 0, 0, 0, 0, 0, 0, 0, 0, 0, 0, 0, 0, 0, 0, 0, 0, 0, 0, 0, 0, 0, 0, 0, 0, 0, 0, 0, 0, 0, 0, 0, 0, 0, 0, 0, 0, 0, 0, 0, 0, 0, 0, 0, 0, 0, 0, 0, 0, 0, 0, 0, 0, 0, 0, 0, 0, 0, 0, 0, 0, 0, 0, 0, 0, 0, 0, 0, 0, 0, 0, 0, 0, 0, 0, 0, 0, 0, 0, 0, 0, 0, 0, 0, 0, 0, 0, 0, 0, 0, 0, 0, 0, 0, 0, 0, 0, 0, 0, 0, 0, 0, 0, 0, 0, 0, 0, 0, 0, 0, 0, 0, 0, 0, 0, 0, 0, 0, 0, 0, 0, 0, 0, 0, 0, 0, 0, 0, 0, 0, 0, 0, 0, 0, 0, 0, 0, 0, 0, 0, 0, 0, 0, 0, 0, 0, 0, 0, 0, 0, 0, 0, 0, 0, 0, 0, 0, 0, 0, 0, 0, 0, 0, 0, 0, 0, 0, 0, 0, 0, 0, 0, 0, 0, 0, 0, 0, 0, 0, 0, 0, 0, 0, 0, 0, 0, 0, 0, 0, 0, 0, 0, 0, 0, 0, 0, 0, 0, 0, 0, 0, 0, 0, 0, 0, 0, 0, 0, 0, 0, 0, 0, 0, 0, 0, 0, 0, 0, 0, 0, 0, 0, 0, 0, 0, 0, 0, 0, 0, 0, 0, 0, 0, 0, 0, 0, 0, 0, 0, 0, 0, 0, 0, 0, 0, 0, 0, 0, 0, 0, 0, 0, 0, 0, 0, 0, 0, 0, 0, 0, 0, 0, 0, 0, 0, 0, 0, 0, 0, 0, 0, 0, 0, 0, 0, 0, 0, 0, 0, 0, 0, 0, 0, 0, 0, 0, 0, 0, 0, 0, 0, 0, 0, 0, 0, 0, 0, 0, 0, 0, 0, 0, 0, 0]\n"
     ]
    },
    {
     "data": {
      "image/png": "[encoded data removed]",
      "text/plain": [
       "<Figure size 432x288 with 1 Axes>"
      ]
     },
     "metadata": {},
     "output_type": "display_data"
    }
   ],
   "source": [
    "# Run test campaign\n",
    "campaign_results = run_test_campaign(nb_patients)\n",
    "print(\"campaign results:\", campaign_results)\n",
    "print(\"uncurred people:\", find_nb_uncurred_people(campaign_results))\n",
    "\n",
    "currated_results = remove_uncurred_people_from_campain_results(campaign_results)\n",
    "min, max = find_min_max(currated_results)\n",
    "print(\"currated results:\", currated_results)\n",
    "print(\"mean nb of days to be cured:\", find_mean(currated_results))\n",
    "print(\"min days:{}, max days:{}\".format(min, max))\n",
    "\n",
    "print(\"std:\", find_standard_deviation(currated_results))\n",
    "\n",
    "num_bins = 21\n",
    "plt.hist(currated_results, num_bins, facecolor='red')\n",
    "\n",
    "plt.title(\"Days to recover\")\n",
    "plt.xlabel(\"Patient number (number)\")\n",
    "plt.ylabel(\"Days to recover (number)\")\n",
    "plt.show()\n",
    "\n",
    "summarized_data = summarize(currated_results)\n",
    "print(\"summarized data:\", summarized_data)\n",
    "\n",
    "plt.hist(np.array(summarized_data), facecolor='blue')\n",
    "plt.title(\"Summarized data. \\n Shows how many patients had similar number of days to recover\")\n",
    "plt.xlabel(\"Days to recover (number)\")\n",
    "plt.ylabel(\"Number of patients (number)\")\n",
    "plt.show()"
   ]
  },
  {
   "cell_type": "code",
   "execution_count": null,
   "metadata": {},
   "outputs": [],
   "source": []
  }
 ],
 "metadata": {
  "kernelspec": {
   "display_name": "Python 3",
   "language": "python",
   "name": "python3"
  },
  "language_info": {
   "codemirror_mode": {
    "name": "ipython",
    "version": 3
   },
   "file_extension": ".py",
   "mimetype": "text/x-python",
   "name": "python",
   "nbconvert_exporter": "python",
   "pygments_lexer": "ipython3",
   "version": "3.6.5"
  }
 },
 "nbformat": 4,
 "nbformat_minor": 1
}
