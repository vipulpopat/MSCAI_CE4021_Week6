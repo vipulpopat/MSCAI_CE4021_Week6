{
 "cells": [
  {
   "cell_type": "markdown",
   "metadata": {},
   "source": [
    "#Student Name: Martin Power\n",
    "#Student ID: 9939245"
   ]
  },
  {
   "cell_type": "markdown",
   "metadata": {},
   "source": [
    "## Probability Experiment\n",
    "\n",
    "This experiment is two draw a pair of cards from a deck of 52 cards and determine what is the expected value of the pair.\n",
    "\n",
    "From the experiment, I plan to get the probabilities of drawing all of the allowed values (e.g. 21/Blackjack) and use this to determine what value on average can be expected"
   ]
  },
  {
   "cell_type": "code",
   "execution_count": 1,
   "metadata": {
    "collapsed": true
   },
   "outputs": [],
   "source": [
    "%reset -f\n",
    "import numpy as np\n",
    "import random as rand\n",
    "import matplotlib.pyplot as plt\n",
    "from numpy.linalg import eig\n",
    "from numpy.linalg import eigh"
   ]
  },
  {
   "cell_type": "code",
   "execution_count": 2,
   "metadata": {
    "collapsed": true
   },
   "outputs": [],
   "source": [
    "# Class used to encapsulate a playing card for Experiment\n",
    "class Card():\n",
    "    \n",
    "    \n",
    "    def __init__(self, name = 'Ace', suit = 'Diamonds'):\n",
    "        self.name = name\n",
    "        self.suit = suit\n",
    "        if(self.name=='Ace'):\n",
    "            self.value = 1      # Ignoring ACE=10 for now\n",
    "            self.face  = 0\n",
    "        elif((self.name=='Jack') or (self.name=='Queen') or (self.name=='King')):\n",
    "            self.value = 10\n",
    "            self.face  = 1\n",
    "        else:\n",
    "            self.value = int(self.name)\n",
    "            self.face  = 0\n",
    "    \n",
    "    def display_info(self):\n",
    "        print(self.name, self.suit)\n",
    "    \n",
    "    def get_pair_value(self, other):\n",
    "        if((self.name=='Ace') and (other.name=='Ace')):\n",
    "            pair_value = 11\n",
    "        elif(((self.name=='Ace') and (other.face==1)) or ((other.name=='Ace') and (self.face==1))):\n",
    "            pair_value = 21\n",
    "        else:\n",
    "            pair_value = self.value + other.value\n",
    "        return pair_value\n",
    "    \n",
    "    def get_suit_idx(self):\n",
    "        if(self.suit=='Clubs'):\n",
    "            suit_idx = 0\n",
    "        elif(self.suit=='Spades'):\n",
    "            suit_idx = 1\n",
    "        elif(self.suit=='Diamonds'):\n",
    "            suit_idx = 2\n",
    "        else:\n",
    "            suit_idx = 3\n",
    "        return suit_idx\n",
    "    \n",
    "    def get_name_idx(self):\n",
    "        if(self.name=='Ace'):\n",
    "            name_idx = 0\n",
    "        elif(self.name=='Jack'):\n",
    "            name_idx = 10\n",
    "        elif(self.name=='Queen'):\n",
    "            name_idx = 11\n",
    "        elif(self.name=='King'):\n",
    "            name_idx = 12\n",
    "        else:\n",
    "            name_idx = int(self.name) - 1\n",
    "        return name_idx\n",
    "\n",
    "        \n",
    "        "
   ]
  },
  {
   "cell_type": "code",
   "execution_count": 3,
   "metadata": {
    "collapsed": true
   },
   "outputs": [],
   "source": [
    "# Runnig Experiment\n",
    "suits = ['Clubs', 'Spades', 'Diamonds', 'Hearts']\n",
    "names = ['Ace', '2', '3', '4', '5', '6', '7', '8', '9', '10', 'Jack', 'Queen', 'King']\n",
    "\n",
    "deck = [Card(name, suit) for name in names for suit in suits]\n",
    "card1 = Card()\n",
    "card2 = Card()\n",
    "\n",
    "verbose = 0\n",
    "\n",
    "iterations = 100000\n",
    "\n",
    "track_suits = {'Clubs':0, 'Spades':0, 'Diamonds':0, 'Hearts':0}\n",
    "track_names = {'Ace':0, '2':0, '3':0, '4':0, '5':0, '6':0, '7':0, '8':0, '9':0, '10':0, 'Jack':0, 'Queen':0, 'King':0}\n",
    "\n",
    "suit_freq = np.zeros(len(suits))\n",
    "name_freq = np.zeros(len(names))\n",
    "value_freq = np.zeros(iterations)\n",
    "pair_freq = np.zeros(22)\n",
    "\n",
    "for i in range(0,iterations):\n",
    "    rand.shuffle(deck)\n",
    "    card1, card2 = rand.sample(deck,2)\n",
    "    if(verbose == 1):\n",
    "        print(\"\\nShuffle\",i)\n",
    "        card1.display_info()\n",
    "        card2.display_info()\n",
    "        print(\"Pair Value is \", card1.get_pair_value(card2))\n",
    "    value_freq[i] = card1.get_pair_value(card2)    \n",
    "    pair_freq[card1.get_pair_value(card2)]+=1\n",
    "    track_suits[card1.suit]+=1\n",
    "    track_suits[card2.suit]+=1\n",
    "    track_names[card1.name]+=1\n",
    "    track_names[card2.name]+=1\n",
    "    suit_freq[card1.get_suit_idx()]+=1\n",
    "    suit_freq[card2.get_suit_idx()]+=1\n",
    "    name_freq[card1.get_name_idx()]+=1\n",
    "    name_freq[card2.get_name_idx()]+=1"
   ]
  },
  {
   "cell_type": "code",
   "execution_count": 4,
   "metadata": {
    "collapsed": false
   },
   "outputs": [
    {
     "data": {
      "image/png": "[encoded data removed]",
      "text/plain": [
       "<Figure size 432x288 with 1 Axes>"
      ]
     },
     "metadata": {},
     "output_type": "display_data"
    },
    {
     "name": "stdout",
     "output_type": "stream",
     "text": [
      "\n",
      "The Random Variable is the value of a pair of cards drawn at random from a deck of cards\n",
      "\n",
      "The expected value obtained using np.average is 13.459900000000001\n",
      "\n",
      "The expected value obtained using mean() is 13.4599\n",
      "\n",
      "The standard deviation is  4.572691985034636\n"
     ]
    }
   ],
   "source": [
    "## Outputs and Graphs\n",
    "\n",
    "# Discrete values that pair value can take. Used for expected variable calculation\n",
    "values = [3, 4, 5, 6, 7, 8 , 9, 10, 11, 12, 13, 14, 15, 16, 17, 18, 19, 20, 21]\n",
    "\n",
    "# Bins used in Histogram\n",
    "value_bins = [3, 4, 5, 6, 7, 8 , 9, 10, 11, 12, 13, 14, 15, 16, 17, 18, 19, 20, 21, 22]\n",
    "\n",
    "# Historgram\n",
    "n, bins, patches = plt.hist(value_freq, value_bins, density=True, facecolor='blue')\n",
    "plt.xlabel('Value of Pair of Cards Drawn from Deck')\n",
    "plt.ylabel('Probability')\n",
    "plt.title('Histogram of Pair Value')\n",
    "plt.axis([3, 24, 0, 0.12])\n",
    "plt.grid(True)\n",
    "plt.show()\n",
    "\n",
    "print(\"\\nThe Random Variable is the value of a pair of cards drawn at random from a deck of cards\")\n",
    "\n",
    "# Expected Value of Random Variable\n",
    "# From https://nzmaths.co.nz/category/glossary/expected-value-discrete-random-variable\n",
    "#     For a discrete random variable the expected value is calculated by summing the product\n",
    "#     of the value of the random variable and its associated probability, taken over all of\n",
    "#     the values of the random variable\n",
    "# This can be calculated in numpy as follows:\n",
    "expected_value = np.average(values,weights=n)\n",
    "# Alteravtively, for this data, you could just get the mean of the following array\n",
    "expected_value_alt = value_freq.mean()\n",
    "\n",
    "print(\"\\nThe expected value obtained using np.average is\",expected_value)\n",
    "print(\"\\nThe expected value obtained using mean() is\",expected_value_alt)\n",
    "\n",
    "\n",
    "# The standard deviation can be obtained as\n",
    "std_dev = value_freq.std()\n",
    "print(\"\\nThe standard deviation is \",std_dev)\n"
   ]
  },
  {
   "cell_type": "code",
   "execution_count": null,
   "metadata": {
    "collapsed": true
   },
   "outputs": [],
   "source": []
  },
  {
   "cell_type": "code",
   "execution_count": null,
   "metadata": {
    "collapsed": true
   },
   "outputs": [],
   "source": []
  }
 ],
 "metadata": {
  "kernelspec": {
   "display_name": "Python 3.6",
   "language": "python",
   "name": "python3.6"
  },
  "language_info": {
   "codemirror_mode": {
    "name": "ipython",
    "version": 3
   },
   "file_extension": ".py",
   "mimetype": "text/x-python",
   "name": "python",
   "nbconvert_exporter": "python",
   "pygments_lexer": "ipython3",
   "version": "3.6.6"
  }
 },
 "nbformat": 4,
 "nbformat_minor": 1
}
