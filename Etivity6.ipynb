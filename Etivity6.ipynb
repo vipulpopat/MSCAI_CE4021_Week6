{
 "cells": [
  {
   "cell_type": "markdown",
   "metadata": {},
   "source": [
    "#Student Name: Cormac Lavery\n",
    "#Student ID: 16139658"
   ]
  },
  {
   "cell_type": "markdown",
   "metadata": {},
   "source": [
    "Experiment summary:\n",
    "Given six fair dice what is the probability that the sum of the throws is greater than 30?\n"
   ]
  },
  {
   "cell_type": "code",
   "execution_count": 1,
   "metadata": {},
   "outputs": [],
   "source": [
    "%matplotlib inline\n",
    "import numpy as np\n",
    "import random\n",
    "import matplotlib.pyplot as plt"
   ]
  },
  {
   "cell_type": "code",
   "execution_count": 88,
   "metadata": {},
   "outputs": [
    {
     "name": "stdout",
     "output_type": "stream",
     "text": [
      "the median roll was 21.0 with standard_deviation 4.190672783396479 and the average roll is 21.00785\n",
      "the percentage chance that the roll is greater than 30 is 0.9787499999999999\n"
     ]
    },
    {
     "data": {
      "text/plain": [
       "[<matplotlib.lines.Line2D at 0x1151879e8>]"
      ]
     },
     "execution_count": 88,
     "metadata": {},
     "output_type": "execute_result"
    },
    {
     "data": {
      "image/png": "[encoded data removed]",
      "text/plain": [
       "<matplotlib.figure.Figure at 0x114cf91d0>"
      ]
     },
     "metadata": {},
     "output_type": "display_data"
    }
   ],
   "source": [
    "def throw_dice(n):\n",
    "    '''returns the sum of n dice'''\n",
    "    roll_sum = 0\n",
    "    for i in range(n):\n",
    "        roll = random.choice([1,2,3,4,5,6])\n",
    "        roll_sum += roll\n",
    "    return roll_sum\n",
    "\n",
    "number_of_observations = 80000\n",
    "observations = []\n",
    "total_sum = 0\n",
    "greater_than_30_count = 0\n",
    "\n",
    "for _ in range(number_of_observations):\n",
    "    roll = throw_dice(6)\n",
    "    total_sum += roll\n",
    "    observations.append(roll)\n",
    "    if roll >30:\n",
    "        greater_than_30_count += 1\n",
    "\n",
    "standard_deviation = np.std(observations)\n",
    "median_roll = np.median(observations)\n",
    "average_roll = total_sum / number_of_observations\n",
    "greater_than_30_percentage = (greater_than_30_count / number_of_observations) * 100\n",
    "\n",
    "print(\"the median roll was {} with standard_deviation {} and the average roll is {}\".format(str(median_roll), str(standard_deviation), str(average_roll)))\n",
    "print(\"the percentage chance that the roll is greater than 30 is {}\".format(greater_than_30_percentage))\n",
    "\n",
    "count, bins, _ = plt.hist(observations, 30, density=True)\n",
    "plt.plot(bins, 1/(sigma * np.sqrt(2 * np.pi)) * np.exp( - (bins - median_roll)**2 / (2 * sigma**2) ),linewidth=2, color='r')"
   ]
  },
  {
   "cell_type": "code",
   "execution_count": null,
   "metadata": {},
   "outputs": [],
   "source": []
  }
 ],
 "metadata": {
  "kernelspec": {
   "display_name": "Python 3",
   "language": "python",
   "name": "python3"
  },
  "language_info": {
   "codemirror_mode": {
    "name": "ipython",
    "version": 3
   },
   "file_extension": ".py",
   "mimetype": "text/x-python",
   "name": "python",
   "nbconvert_exporter": "python",
   "pygments_lexer": "ipython3",
   "version": "3.6.3"
  }
 },
 "nbformat": 4,
 "nbformat_minor": 1
}
