{
 "cells": [
  {
   "cell_type": "markdown",
   "metadata": {},
   "source": [
    "#Student Name: Michel Danjou\n",
    "#Student ID:18263461"
   ]
  },
  {
   "cell_type": "markdown",
   "metadata": {},
   "source": [
    "# Problem description:\n",
    "    \n",
    "A man (Neo) has a cold and needs to take pills to get better.\n",
    "\n",
    "There are 2 types of pills in his medecine cabinet.\n",
    "\n",
    "  * **Blue pills**: which are just vitamines and have no effect on the cold.\n",
    "\n",
    "  * **Red pills**: which contain an agent killing the virus and 5 of them are\n",
    "    necessary in order to work.\n",
    "\n",
    "Unfortunately all the pills have been mixed together in the same box and there\n",
    " is no way to distinguish them.\n",
    "\n",
    "Neo decides to grab a handful of pills.\n",
    "**If he grabs at least 5 red pills he will get better, otherwise he won't.**\n",
    "\n",
    "We are interested in finding Neo's chances of getting cured after 1 grab.\n",
    "\n",
    "We are going to devise a simulation which we will repeat a large number\n",
    "of times. A new box of pills will be generated for each try.\n",
    "\n",
    "The aim is to determine the following:\n",
    "\n",
    "1. The mean value of the number of red pills after 1 grab.\n",
    "2. The standard variation associated with the above.\n",
    "\n",
    "We will compare the results of our algorithm for calculating the mean value\n",
    " and standard deviation with the one given byNumpy.\n"
   ]
  },
  {
   "cell_type": "markdown",
   "metadata": {},
   "source": [
    "## Understanding the requirements\n",
    "The requirements mentions that we have to produce these values:\n",
    "  * The expected value of your random variable. \n",
    "  * The standard deviation of your random variable\n",
    "\n",
    "### Expected value\n",
    "*Source: https://en.wikipedia.org/wiki/Expected_value*\n",
    "\n",
    "In probability theory, the expected value of a random variable, intuitively, is the long-run average value of repetitions of the experiment it represents. For example, the expected value in rolling a six-sided die is 3.5, because the average of all the numbers that come up in an extremely large number of rolls is close to 3.5. Less roughly, the law of large numbers states that the arithmetic mean of the values almost surely converges to the expected value as the number of repetitions approaches infinity. **The expected value is also known as the expectation, mathematical expectation, EV, average, mean value, mean, or first moment. **\n",
    "\n",
    "We will be taking the average as the Mean/Expected value.\n",
    "\n",
    "\n",
    "### Standard deviation\n",
    "*Source: https://en.wikipedia.org/wiki/Standard_deviation*\n",
    "\n",
    "We will be applying the following formula:\n",
    "\n",
    "\\begin{equation*}\n",
    "\\left ( \\sqrt{\\frac{1}{M} \\sum_{i=1}^n (x_i - \\bar x)^2 }  \\right) \n",
    "\\end{equation*}\n",
    "\n"
   ]
  },
  {
   "cell_type": "code",
   "execution_count": 36,
   "metadata": {
    "scrolled": true
   },
   "outputs": [
    {
     "name": "stdout",
     "output_type": "stream",
     "text": [
      "Once deleted, variables cannot be recovered. Proceed (y/[n])? y\n"
     ]
    }
   ],
   "source": [
    "%reset\n",
    "\n",
    "import random\n",
    "import matplotlib.pyplot as plt\n",
    "import numpy as np\n",
    "import math\n",
    "\n",
    "\n",
    "def generate_box_of_pills(nb_pill_in_box):\n",
    "    \"\"\"\n",
    "    Create a box of pills.\n",
    "    There are 2 types of pills: blue_pill, and red_pill\n",
    "    Each pill as an equal chance of being in the box.\n",
    "\n",
    "    This is a discreet uniform distribution.\n",
    "\n",
    "    \"\"\"\n",
    "    pills = ['blue_pill', \"red_pill\"]\n",
    "    box = []\n",
    "    for i in range(nb_pill_in_box):\n",
    "        box.append(random.choice(pills))\n",
    "    return box\n",
    "\n",
    "\n",
    "def run_experiment(box, grab_amount):\n",
    "    \"\"\"\n",
    "    The user grabs a certain amount of pills from the box (grab_amount)\n",
    "    and then counts the number of red_pill\n",
    "\n",
    "    Pills are removed from the end of the array.(poped)\n",
    "    \"\"\"\n",
    "    red_pill_count = 0\n",
    "\n",
    "    for i in range(grab_amount):\n",
    "        pill_taken = box.pop()\n",
    "\n",
    "        if pill_taken == 'red_pill':\n",
    "            red_pill_count += 1\n",
    "\n",
    "    return red_pill_count\n",
    "\n",
    "\n",
    "def run_test_campaign(nb_simulations, nb_pills_in_box, grab_amount, goal):\n",
    "    \"\"\"\n",
    "    Create a new box of pills for each patient.\n",
    "    Each patient grabs a certain amount of pills from the box. (grab_amount)\n",
    "\n",
    "    Increase a counter each time the number of red_pill matches or exceeds the goal.\n",
    "    (goal_counter)\n",
    "    Store the amount of red_pill grabbed. (results)\n",
    "\n",
    "    Return a tuple composed of the (results, goal_counter)\n",
    "\n",
    "    \"\"\"\n",
    "    goal_counter = 0\n",
    "    results = []\n",
    "\n",
    "    for i in range(nb_simulations):\n",
    "        patient_box = generate_box_of_pills(nb_pills_in_box)\n",
    "        red_pill_count = run_experiment(patient_box, grab_amount)\n",
    "        results.append(red_pill_count)\n",
    "\n",
    "        if red_pill_count >= goal:\n",
    "            goal_counter += 1\n",
    "\n",
    "    return results, goal_counter\n",
    "\n",
    "\n",
    "def mean(data):\n",
    "    \"\"\"\n",
    "    Calculate the mean value of a dataset\n",
    "    \"\"\"\n",
    "    nb_samples = len(data)\n",
    "    total = 0\n",
    "    for i in range(0, nb_samples):\n",
    "        total += data[i]\n",
    "    return total / nb_samples\n",
    "\n",
    "\n",
    "def std(data):\n",
    "    \"\"\"\n",
    "    Calculate the standard value of a dataset\n",
    "    \"\"\"\n",
    "    m = mean(data)\n",
    "    nb_samples = len(data)\n",
    "    accumulator = 0\n",
    "    for i in range(0, nb_samples-1):\n",
    "        accumulator += (data[i] - m)**2\n",
    "    std_dev = math.sqrt(accumulator / nb_samples)\n",
    "    return std_dev\n",
    "\n"
   ]
  },
  {
   "cell_type": "markdown",
   "metadata": {},
   "source": [
    "# Simulation for 1 grab"
   ]
  },
  {
   "cell_type": "code",
   "execution_count": 37,
   "metadata": {},
   "outputs": [],
   "source": [
    "NB_RED_PILL_GOAL = 5\n",
    "NB_PILLS_IN_BOX = 50\n",
    "GRAB_AMOUNT = 10\n"
   ]
  },
  {
   "cell_type": "code",
   "execution_count": 38,
   "metadata": {},
   "outputs": [
    {
     "name": "stdout",
     "output_type": "stream",
     "text": [
      "================================================================================\n",
      "box: ['blue_pill', 'red_pill', 'red_pill', 'red_pill', 'blue_pill', 'blue_pill', 'red_pill', 'red_pill', 'red_pill', 'blue_pill', 'red_pill', 'blue_pill', 'red_pill', 'blue_pill', 'blue_pill', 'blue_pill', 'blue_pill', 'red_pill', 'blue_pill', 'red_pill', 'red_pill', 'blue_pill', 'red_pill', 'red_pill', 'blue_pill', 'red_pill', 'blue_pill', 'red_pill', 'blue_pill', 'red_pill', 'red_pill', 'red_pill', 'blue_pill', 'red_pill', 'red_pill', 'red_pill', 'blue_pill', 'red_pill', 'blue_pill', 'blue_pill', 'red_pill', 'blue_pill', 'blue_pill', 'red_pill', 'red_pill', 'red_pill', 'blue_pill', 'blue_pill', 'red_pill', 'blue_pill']\n",
      "red_pill_count:  2\n"
     ]
    }
   ],
   "source": [
    "def experiment():\n",
    "    \"\"\"\n",
    "    Test the code for 1 simulation\n",
    "    \"\"\"\n",
    "    print(\"=\"*80)\n",
    "    box = generate_box_of_pills(NB_PILLS_IN_BOX)\n",
    "    print(\"box:\", box)\n",
    "    red_pill_count = run_experiment(box, NB_RED_PILL_GOAL)\n",
    "    print(\"red_pill_count: \", red_pill_count)\n",
    "\n",
    "experiment()    "
   ]
  },
  {
   "cell_type": "markdown",
   "metadata": {},
   "source": [
    "# Simulation for a large number of grabs"
   ]
  },
  {
   "cell_type": "code",
   "execution_count": 39,
   "metadata": {},
   "outputs": [],
   "source": [
    "NB_SIMULATIONS = 1000"
   ]
  },
  {
   "cell_type": "code",
   "execution_count": 40,
   "metadata": {},
   "outputs": [
    {
     "name": "stdout",
     "output_type": "stream",
     "text": [
      "================================================================================\n",
      "Campaign results [7, 5, 6, 6, 4, 4, 3, 6, 5, 4, 7, 5, 3, 7, 6, 6, 1, 4, 7, 4, 7, 7, 4, 6, 3, 6, 6, 6, 3, 4, 6, 3, 6, 6, 4, 2, 3, 3, 4, 6, 3, 5, 6, 3, 5, 6, 5, 5, 6, 4, 5, 3, 5, 5, 5, 5, 5, 4, 4, 6, 6, 6, 4, 6, 3, 8, 5, 6, 5, 5, 3, 4, 4, 8, 4, 5, 5, 6, 5, 4, 5, 6, 4, 5, 4, 5, 6, 3, 4, 2, 7, 4, 4, 5, 6, 4, 6, 4, 6, 5, 4, 6, 3, 5, 6, 4, 5, 3, 5, 6, 5, 6, 6, 4, 4, 5, 3, 3, 9, 9, 7, 4, 5, 3, 7, 8, 4, 2, 3, 7, 5, 3, 6, 7, 4, 5, 5, 5, 4, 6, 5, 3, 6, 4, 5, 5, 7, 2, 3, 6, 6, 4, 3, 4, 8, 6, 7, 4, 3, 6, 7, 5, 3, 5, 4, 6, 1, 4, 3, 4, 7, 5, 2, 6, 4, 5, 7, 5, 5, 5, 3, 6, 5, 5, 8, 5, 5, 3, 7, 7, 5, 5, 7, 6, 3, 8, 7, 4, 7, 6, 4, 5, 5, 5, 6, 2, 5, 4, 6, 3, 8, 7, 4, 2, 8, 7, 5, 5, 5, 8, 6, 4, 3, 6, 5, 4, 4, 6, 7, 6, 4, 5, 6, 7, 4, 3, 5, 3, 5, 7, 5, 5, 4, 5, 3, 6, 5, 2, 4, 6, 5, 6, 6, 3, 7, 6, 3, 4, 2, 2, 3, 4, 3, 4, 4, 4, 2, 2, 5, 4, 4, 6, 7, 5, 1, 4, 2, 8, 3, 3, 2, 5, 7, 6, 6, 8, 0, 6, 3, 4, 5, 4, 5, 5, 5, 7, 4, 5, 6, 7, 4, 4, 4, 8, 7, 3, 5, 7, 4, 3, 2, 0, 2, 5, 7, 3, 6, 7, 7, 8, 5, 1, 4, 5, 5, 5, 4, 5, 7, 8, 2, 1, 5, 5, 2, 5, 3, 5, 6, 8, 5, 5, 8, 6, 5, 6, 5, 4, 5, 3, 6, 5, 4, 7, 1, 7, 6, 8, 2, 5, 5, 6, 4, 5, 2, 3, 8, 1, 7, 6, 4, 4, 5, 7, 8, 5, 7, 7, 5, 4, 8, 8, 2, 5, 8, 7, 5, 4, 6, 5, 4, 4, 7, 5, 2, 7, 4, 4, 3, 5, 6, 3, 4, 3, 3, 5, 3, 6, 7, 6, 3, 6, 2, 5, 5, 6, 5, 2, 6, 3, 1, 6, 6, 6, 5, 3, 5, 5, 4, 5, 7, 6, 2, 4, 8, 4, 6, 3, 2, 6, 3, 4, 6, 5, 7, 4, 5, 6, 3, 4, 2, 3, 2, 3, 4, 3, 5, 7, 4, 8, 3, 4, 6, 4, 5, 7, 6, 3, 6, 6, 3, 5, 4, 4, 9, 4, 3, 6, 5, 6, 5, 6, 5, 7, 6, 3, 7, 8, 4, 3, 5, 7, 5, 5, 5, 3, 4, 5, 4, 7, 3, 6, 5, 7, 5, 7, 5, 5, 5, 2, 6, 3, 7, 5, 6, 3, 3, 4, 3, 4, 8, 7, 3, 5, 7, 6, 4, 7, 5, 4, 5, 7, 5, 5, 5, 5, 5, 5, 5, 4, 6, 6, 3, 6, 7, 3, 2, 4, 4, 5, 6, 4, 5, 7, 6, 5, 5, 7, 5, 6, 4, 4, 3, 8, 5, 8, 4, 7, 5, 6, 3, 3, 3, 4, 4, 5, 5, 4, 5, 4, 9, 6, 5, 3, 3, 6, 4, 4, 5, 4, 5, 2, 6, 6, 6, 5, 3, 5, 2, 8, 5, 6, 3, 5, 6, 5, 6, 2, 5, 6, 3, 6, 6, 8, 4, 3, 6, 3, 4, 7, 4, 2, 4, 3, 4, 5, 4, 5, 4, 2, 8, 3, 2, 5, 3, 2, 4, 6, 6, 8, 4, 4, 6, 2, 9, 5, 9, 6, 8, 3, 5, 4, 8, 7, 6, 7, 6, 6, 7, 9, 3, 4, 4, 4, 3, 6, 6, 6, 5, 4, 8, 6, 7, 3, 7, 4, 4, 7, 2, 3, 4, 6, 3, 5, 7, 5, 7, 5, 3, 3, 3, 7, 4, 4, 5, 6, 4, 6, 6, 4, 3, 5, 6, 4, 4, 4, 5, 3, 5, 3, 5, 5, 7, 5, 4, 6, 5, 5, 6, 4, 10, 2, 5, 7, 5, 6, 2, 3, 7, 6, 2, 6, 5, 4, 6, 7, 6, 6, 4, 2, 6, 5, 7, 5, 6, 6, 5, 3, 5, 5, 5, 4, 3, 5, 5, 5, 5, 5, 3, 6, 7, 4, 3, 6, 4, 6, 3, 3, 5, 6, 6, 5, 4, 6, 5, 2, 7, 4, 3, 4, 4, 5, 5, 7, 4, 7, 5, 3, 4, 7, 4, 1, 2, 6, 7, 8, 5, 5, 5, 5, 4, 8, 5, 8, 5, 5, 6, 4, 5, 6, 5, 6, 6, 5, 4, 5, 5, 5, 5, 6, 5, 3, 6, 3, 3, 0, 4, 6, 7, 2, 7, 7, 6, 3, 7, 4, 3, 8, 6, 3, 6, 3, 5, 5, 5, 5, 4, 4, 7, 5, 5, 4, 3, 6, 6, 6, 4, 6, 2, 4, 4, 6, 6, 5, 5, 7, 8, 5, 2, 6, 7, 5, 5, 8, 1, 7, 4, 5, 6, 6, 9, 3, 6, 5, 3, 5, 5, 3, 4, 4, 7, 6, 6, 3, 5, 8, 6, 5, 4, 6, 4, 4, 5, 3, 6, 4, 4, 5, 4, 3, 3, 6, 6, 7, 5, 4, 4, 5, 5, 5, 7, 5, 6, 6, 5, 5, 4, 7, 5, 3, 5, 6, 6, 6, 5, 5, 5, 5, 7, 6, 5, 6, 3, 4, 4, 6, 5, 6, 5, 3, 6, 5, 2, 5, 6, 3, 6, 5, 5, 4, 8, 5, 4, 5, 7, 8, 6, 5, 7, 3, 4, 5, 6, 6, 6, 5, 3, 5, 5, 6, 5, 2, 6, 5, 4, 7, 5, 3, 1, 5, 5, 5, 4, 6, 6, 6, 2, 5, 6, 6]\n",
      "GRAB_AMOUNT     : 10\n",
      "NB_RED_PILL_GOAL: 5\n",
      "NB_PILLS_IN_BOX : 50\n",
      "NB_SIMULATIONS  : 1000\n",
      "nb_success      : 619\n",
      "\n",
      "Numpy\n",
      "mean: 4.913\n",
      "std : 1.6054379464806479\n",
      "\n",
      "Homebrew algorithm\n",
      "mean: 4.913\n",
      "std : 1.6050699146766085\n"
     ]
    },
    {
     "data": {
      "image/png": "[encoded data removed]",
      "text/plain": [
       "<Figure size 432x288 with 1 Axes>"
      ]
     },
     "metadata": {},
     "output_type": "display_data"
    },
    {
     "name": "stdout",
     "output_type": "stream",
     "text": [
      "Percentage goals reached: 61.9\n"
     ]
    },
    {
     "data": {
      "image/png": "[encoded data removed]",
      "text/plain": [
       "<Figure size 432x288 with 1 Axes>"
      ]
     },
     "metadata": {},
     "output_type": "display_data"
    },
    {
     "name": "stdout",
     "output_type": "stream",
     "text": [
      "Count: [0.003 0.011 0.051 0.133 0.183 0.264 0.199 0.103 0.044 0.009]\n",
      "Bins : [ 0.  1.  2.  3.  4.  5.  6.  7.  8.  9. 10.]\n"
     ]
    }
   ],
   "source": [
    "def large_campaign():\n",
    "    \"\"\"\n",
    "    Run test campaign\n",
    "    \"\"\"\n",
    "    results, nb_success = run_test_campaign(\n",
    "        NB_SIMULATIONS, NB_PILLS_IN_BOX,\n",
    "        GRAB_AMOUNT, NB_RED_PILL_GOAL)\n",
    "\n",
    "    print(\"=\"*80)\n",
    "    print(\"Campaign results\", results)\n",
    "    print(\"GRAB_AMOUNT     :\", GRAB_AMOUNT)\n",
    "    print(\"NB_RED_PILL_GOAL:\", NB_RED_PILL_GOAL)\n",
    "    print(\"NB_PILLS_IN_BOX :\", NB_PILLS_IN_BOX)\n",
    "    print(\"NB_SIMULATIONS  :\", NB_SIMULATIONS)\n",
    "    print(\"nb_success      :\", nb_success)\n",
    "\n",
    "    print(\"\\nNumpy\")\n",
    "    print(\"mean:\", np.array(results).mean())\n",
    "    print(\"std :\", np.array(results).std())\n",
    "\n",
    "    m = mean(results)\n",
    "    s = std(results)\n",
    "    print(\"\\nHomebrew algorithm\")\n",
    "    print(\"mean:\", m)\n",
    "    print(\"std :\", s)\n",
    "\n",
    "    num_bins = NB_PILLS_IN_BOX\n",
    "    plt.hist(results, num_bins, facecolor='red')\n",
    "    plt.title(\"red_pill grabbed histogram\")\n",
    "    plt.xlabel(\"red_pill grabbed (number)\")\n",
    "    plt.ylabel(\"Nb occurences (number)\")\n",
    "    plt.show()\n",
    "\n",
    "    percentage_goals_reached = (nb_success / NB_SIMULATIONS) * 100\n",
    "    print(\"Percentage goals reached:\", percentage_goals_reached)\n",
    "\n",
    "    count, bins, _ = plt.hist(results, density=True)\n",
    "    plt.plot(bins, 1 / (s * np.sqrt(2 * np.pi)) * np.exp(-(bins - m)**2 / (2 * s**2)), color='r')\n",
    "    plt.show()\n",
    "    print(\"Count:\", count)\n",
    "    print(\"Bins :\", bins)\n",
    "\n",
    "\n",
    "large_campaign()\n"
   ]
  },
  {
   "cell_type": "markdown",
   "metadata": {},
   "source": [
    "# Reflection\n",
    "  * We can see that the mean and standard deviation calculated by iterating over the samples match the results given by NumPy\n",
    "  * The mean is roughly at 5 which we would expect for a grab size of 10 and a box of roughly equal number of red and blue pills.\n",
    "  * The percentage of grabs which contain 5 or more red pills is *61*.\n"
   ]
  },
  {
   "cell_type": "markdown",
   "metadata": {},
   "source": [
    "## People who have helped me on this Etivity are:\n",
    "- CORMAC LAVERY (plot)\n",
    "- CATHAL CRONIN (plot)\n",
    "- MARK MURNANE (maths)\n",
    "    "
   ]
  },
  {
   "cell_type": "code",
   "execution_count": null,
   "metadata": {},
   "outputs": [],
   "source": []
  }
 ],
 "metadata": {
  "kernelspec": {
   "display_name": "Python 3",
   "language": "python",
   "name": "python3"
  },
  "language_info": {
   "codemirror_mode": {
    "name": "ipython",
    "version": 3
   },
   "file_extension": ".py",
   "mimetype": "text/x-python",
   "name": "python",
   "nbconvert_exporter": "python",
   "pygments_lexer": "ipython3",
   "version": "3.6.5"
  }
 },
 "nbformat": 4,
 "nbformat_minor": 1
}
