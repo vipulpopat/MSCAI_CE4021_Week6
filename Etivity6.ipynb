{
 "cells": [
  {
   "cell_type": "markdown",
   "metadata": {},
   "source": [
    "#Student Name: Cormac Lavery\n",
    "#Student ID: 16139658"
   ]
  },
  {
   "cell_type": "markdown",
   "metadata": {},
   "source": [
    "Experiment summary:\n",
    "At a given casino where all bets are at a normally distributed random odds and for a normally distributed random amount what is the least number of bets less than 200 where they will make a profit 75% of the time\n"
   ]
  },
  {
   "cell_type": "code",
   "execution_count": 1,
   "metadata": {},
   "outputs": [],
   "source": [
    "%matplotlib inline\n",
    "import numpy as np\n",
    "import random\n",
    "import matplotlib.pyplot as plt"
   ]
  },
  {
   "cell_type": "code",
   "execution_count": 42,
   "metadata": {},
   "outputs": [],
   "source": [
    "def calculate_losses(number_bets = 10):\n",
    "    '''returns the losses for a given number of bets, negative values are associated with profits'''\n",
    "    mean_bet_result, std_deviation_bet_result = -0.05, 1\n",
    "    mean_bet_size, std_deviation_bet_size = 100, 20\n",
    "    losses = 0\n",
    "    for i in range(number_bets):\n",
    "        losses += (random.normalvariate(mean_bet_result, std_deviation_bet_result) * random.normalvariate(mean_bet_size, std_deviation_bet_size)) \n",
    "    return losses\n",
    "\n",
    "number_of_observations = 1000\n",
    "experiment_results = []\n",
    "\n",
    "for bet_count in range(1, 200):\n",
    "    profit = 0\n",
    "    losses = 0\n",
    "    profitable_days = 0\n",
    "    observations = []\n",
    "    for i in range(number_of_observations):\n",
    "        current_profit = calculate_losses(bet_count)\n",
    "        observations.append(current_profit)\n",
    "        if current_profit < 0:\n",
    "            profit -= current_profit\n",
    "            profitable_days += 1\n",
    "        else:\n",
    "            losses += current_profit\n",
    "    experiment_results.append((bet_count, profitable_days/number_of_observations, (profit - losses) / number_of_observations, observations))"
   ]
  },
  {
   "cell_type": "code",
   "execution_count": 43,
   "metadata": {},
   "outputs": [
    {
     "name": "stdout",
     "output_type": "stream",
     "text": [
      "148 bets results in a profit 75.1% of the time with average profit of 773.0916828211185 and median profit -832.3714881854469 and standard deviation of 1203.92494331439 \n"
     ]
    },
    {
     "data": {
      "image/png": "[encoded data removed]",
      "text/plain": [
       "<matplotlib.figure.Figure at 0x11640ae80>"
      ]
     },
     "metadata": {},
     "output_type": "display_data"
    }
   ],
   "source": [
    "suitable_results = []\n",
    "for result in experiment_results:\n",
    "    if result[1] * 100 > 75:\n",
    "        suitable_results.append(result)\n",
    "least_result = suitable_results[0]\n",
    "\n",
    "plt.title(\"{} bets losses distribution\".format(least_result[0]))\n",
    "plt.hist(least_result[3])\n",
    "\n",
    "observations = np.array(least_result[3])\n",
    "median_profit = np.median(observations)\n",
    "standard_deviation_profit = np.std(observations)\n",
    "print(\"{} bets results in a profit {}% of the time with average profit of {} and median profit {} and standard deviation of {} \"\n",
    "     .format(least_result[0], least_result[1] * 100, least_result[2], median_profit, standard_deviation_profit))"
   ]
  },
  {
   "cell_type": "code",
   "execution_count": null,
   "metadata": {},
   "outputs": [],
   "source": []
  },
  {
   "cell_type": "code",
   "execution_count": null,
   "metadata": {},
   "outputs": [],
   "source": []
  }
 ],
 "metadata": {
  "kernelspec": {
   "display_name": "Python 3",
   "language": "python",
   "name": "python3"
  },
  "language_info": {
   "codemirror_mode": {
    "name": "ipython",
    "version": 3
   },
   "file_extension": ".py",
   "mimetype": "text/x-python",
   "name": "python",
   "nbconvert_exporter": "python",
   "pygments_lexer": "ipython3",
   "version": "3.6.3"
  }
 },
 "nbformat": 4,
 "nbformat_minor": 1
}
