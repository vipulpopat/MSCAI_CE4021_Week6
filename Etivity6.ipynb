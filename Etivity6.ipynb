{
 "cells": [
  {
   "cell_type": "markdown",
   "metadata": {},
   "source": [
    "#Student Name: Ganapathy S\n",
    "#Student ID: 18202799"
   ]
  },
  {
   "cell_type": "code",
   "execution_count": 6,
   "metadata": {},
   "outputs": [
    {
     "name": "stdout",
     "output_type": "stream",
     "text": [
      "mean 3.492\n",
      "variance 3.033936\n"
     ]
    },
    {
     "data": {
      "image/png": "[encoded data removed]",
      "text/plain": [
       "<Figure size 432x288 with 1 Axes>"
      ]
     },
     "metadata": {},
     "output_type": "display_data"
    }
   ],
   "source": [
    "import pylab\n",
    "import math\n",
    "import random as random\n",
    "\n",
    "trails = 500\n",
    "random_try = []\n",
    "for i in range(trails):\n",
    "    random_try.append(random.randint(0,500))\n",
    "\n",
    "# Rolling the dice 500 times\n",
    "v = pylab.randint(1,7,size=(trails))\n",
    "\n",
    "print('mean',pylab.mean(v))\n",
    "print('variance',pylab.var(v))\n",
    "\n",
    "pylab.hist(v,bins=6, facecolor='green', edgecolor='black') # histogram of the outcoming\n",
    "pylab.xlim(1,6)\n",
    "pylab.show()"
   ]
  },
  {
   "cell_type": "code",
   "execution_count": null,
   "metadata": {},
   "outputs": [],
   "source": []
  }
 ],
 "metadata": {
  "kernelspec": {
   "display_name": "Python 3",
   "language": "python",
   "name": "python3"
  },
  "language_info": {
   "codemirror_mode": {
    "name": "ipython",
    "version": 3
   },
   "file_extension": ".py",
   "mimetype": "text/x-python",
   "name": "python",
   "nbconvert_exporter": "python",
   "pygments_lexer": "ipython3",
   "version": "3.5.2"
  }
 },
 "nbformat": 4,
 "nbformat_minor": 1
}
