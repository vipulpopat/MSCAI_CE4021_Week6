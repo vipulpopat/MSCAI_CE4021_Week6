{
 "cells": [
  {
   "cell_type": "markdown",
   "metadata": {},
   "source": [
    "#Student Name: Abhijit Sinha\n",
    "#Student ID: 18195067"
   ]
  },
  {
   "cell_type": "markdown",
   "metadata": {
    "collapsed": true
   },
   "source": [
    "### Problem Description\n",
    "\n",
    "A student is writing an exam without proper preparation, but wants a 100 out of 100 score. What are the chances of the score being a perfect 100 if the student tries 1000 attempts"
   ]
  },
  {
   "cell_type": "code",
   "execution_count": 1,
   "metadata": {
    "collapsed": true
   },
   "outputs": [],
   "source": [
    "import numpy as np\n",
    "import random as random\n",
    "import matplotlib.pyplot as plt"
   ]
  },
  {
   "cell_type": "code",
   "execution_count": 2,
   "metadata": {
    "collapsed": false
   },
   "outputs": [
    {
     "name": "stdout",
     "output_type": "stream",
     "text": [
      "Mean of Samples:  50.381\n",
      "Standard Deviation:  29.100203418533006\n",
      "Number of times the student gets a score of 100:  5\n"
     ]
    }
   ],
   "source": [
    "# Run the experiment\n",
    "num_trails = 1000\n",
    "current_value = 0\n",
    "samples = []\n",
    "\n",
    "for i in range(num_trails):\n",
    "    samples.append(random.randint(0,100))\n",
    "\n",
    "# Mean\n",
    "mean = np.mean(samples)\n",
    "print(\"Mean of Samples: \", mean)\n",
    "\n",
    "# Standard deviation\n",
    "std_deviation = np.std(samples)\n",
    "print(\"Standard Deviation: \", std_deviation)\n",
    "\n",
    "print(\"Number of times the student gets a score of 100: \", samples.count(100))"
   ]
  },
  {
   "cell_type": "code",
   "execution_count": 3,
   "metadata": {
    "collapsed": false
   },
   "outputs": [
    {
     "data": {
      "image/png": "[encoded data removed]",
      "text/plain": [
       "<Figure size 432x288 with 1 Axes>"
      ]
     },
     "metadata": {},
     "output_type": "display_data"
    }
   ],
   "source": [
    "# Plot a histogram for the list of samples \n",
    "num_bins = 100 \n",
    "plt.title(\"Pick a number experiment\")\n",
    "plt.hist(samples, num_bins, facecolor='blue', label=\"Exam score\")\n",
    "plt.show()"
   ]
  },
  {
   "cell_type": "code",
   "execution_count": null,
   "metadata": {
    "collapsed": true
   },
   "outputs": [],
   "source": []
  }
 ],
 "metadata": {
  "kernelspec": {
   "display_name": "Python 3.6",
   "language": "python",
   "name": "python3.6"
  },
  "language_info": {
   "codemirror_mode": {
    "name": "ipython",
    "version": 3
   },
   "file_extension": ".py",
   "mimetype": "text/x-python",
   "name": "python",
   "nbconvert_exporter": "python",
   "pygments_lexer": "ipython3",
   "version": "3.6.6"
  }
 },
 "nbformat": 4,
 "nbformat_minor": 0
}
