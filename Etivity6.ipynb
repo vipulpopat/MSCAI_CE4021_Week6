{
 "cells": [
  {
   "cell_type": "markdown",
   "metadata": {},
   "source": [
    "#Student Name: Cormac Lavery\n",
    "#Student ID: 16139658"
   ]
  },
  {
   "cell_type": "markdown",
   "metadata": {},
   "source": [
    "Experiment summary:\n",
    "At a given casino where all bets are at a normally distributed random odds and for a normally distributed random amount what is the least number of bets less than 200 where they will make a profit 75% of the time\n"
   ]
  },
  {
   "cell_type": "code",
   "execution_count": 1,
   "metadata": {},
   "outputs": [],
   "source": [
    "%matplotlib inline\n",
    "import numpy as np\n",
    "import random\n",
    "import matplotlib.pyplot as plt"
   ]
  },
  {
   "cell_type": "code",
   "execution_count": 51,
   "metadata": {},
   "outputs": [],
   "source": [
    "def calculate_losses(number_bets = 10):\n",
    "    '''returns the losses for a given number of bets, negative values are associated with profits'''\n",
    "    mean_bet_result, std_deviation_bet_result = -0.05, 1\n",
    "    mean_bet_size, std_deviation_bet_size = 100, 20\n",
    "    losses = 0\n",
    "    bet_amount_total = 0\n",
    "    for i in range(number_bets):\n",
    "        current_wager = random.normalvariate(mean_bet_size, std_deviation_bet_size)\n",
    "        bet_amount_total += current_wager\n",
    "        losses += (random.normalvariate(mean_bet_result, std_deviation_bet_result) * current_wager) \n",
    "    return losses, bet_amount_total\n",
    "\n",
    "number_of_observations = 1000\n",
    "experiment_results = []\n",
    "\n",
    "for bet_count in range(1, 200):\n",
    "    profit = 0\n",
    "    losses = 0\n",
    "    profitable_days = 0\n",
    "    total_wager_average = 0\n",
    "    observations = []\n",
    "    for i in range(number_of_observations):\n",
    "        current_loss, bet_amount = calculate_losses(bet_count)\n",
    "        total_wager_average += bet_amount / number_of_observations\n",
    "        observations.append(current_profit)\n",
    "        if current_profit < 0:\n",
    "            profit -= current_loss\n",
    "            profitable_days += 1\n",
    "        else:\n",
    "            losses += current_loss\n",
    "    experiment_results.append((bet_count, profitable_days/number_of_observations, (profit - losses) / number_of_observations, observations, total_wager_average))"
   ]
  },
  {
   "cell_type": "code",
   "execution_count": 52,
   "metadata": {},
   "outputs": [
    {
     "ename": "IndexError",
     "evalue": "list index out of range",
     "output_type": "error",
     "traceback": [
      "\u001b[0;31m---------------------------------------------------------------------------\u001b[0m",
      "\u001b[0;31mIndexError\u001b[0m                                Traceback (most recent call last)",
      "\u001b[0;32m<ipython-input-52-fc7bea86090d>\u001b[0m in \u001b[0;36m<module>\u001b[0;34m()\u001b[0m\n\u001b[1;32m      3\u001b[0m     \u001b[0;32mif\u001b[0m \u001b[0mresult\u001b[0m\u001b[0;34m[\u001b[0m\u001b[0;36m1\u001b[0m\u001b[0;34m]\u001b[0m \u001b[0;34m*\u001b[0m \u001b[0;36m100\u001b[0m \u001b[0;34m>\u001b[0m \u001b[0;36m75\u001b[0m\u001b[0;34m:\u001b[0m\u001b[0;34m\u001b[0m\u001b[0m\n\u001b[1;32m      4\u001b[0m         \u001b[0msuitable_results\u001b[0m\u001b[0;34m.\u001b[0m\u001b[0mappend\u001b[0m\u001b[0;34m(\u001b[0m\u001b[0mresult\u001b[0m\u001b[0;34m)\u001b[0m\u001b[0;34m\u001b[0m\u001b[0m\n\u001b[0;32m----> 5\u001b[0;31m \u001b[0mleast_result\u001b[0m \u001b[0;34m=\u001b[0m \u001b[0msuitable_results\u001b[0m\u001b[0;34m[\u001b[0m\u001b[0;36m0\u001b[0m\u001b[0;34m]\u001b[0m\u001b[0;34m\u001b[0m\u001b[0m\n\u001b[0m\u001b[1;32m      6\u001b[0m \u001b[0;34m\u001b[0m\u001b[0m\n\u001b[1;32m      7\u001b[0m \u001b[0;34m\u001b[0m\u001b[0m\n",
      "\u001b[0;31mIndexError\u001b[0m: list index out of range"
     ]
    }
   ],
   "source": [
    "suitable_results = []\n",
    "for result in experiment_results:\n",
    "    if result[1] * 100 > 75:\n",
    "        suitable_results.append(result)\n",
    "least_result = suitable_results[0]\n",
    "\n",
    "\n",
    "plt.title(\"{} bets losses distribution\".format(least_result[0]))\n",
    "plt.hist(least_result[3])\n",
    "\n",
    "observations = np.array(least_result[3])\n",
    "median_profit = np.median(observations)\n",
    "standard_deviation_profit = np.std(observations)\n",
    "print(\"{} bets results in a profit {}% of the time with average profit of {} and median profit {} and standard deviation of {} \"\n",
    "     .format(least_result[0], least_result[1] * 100, least_result[2], median_profit, standard_deviation_profit))"
   ]
  },
  {
   "cell_type": "code",
   "execution_count": null,
   "metadata": {},
   "outputs": [],
   "source": []
  },
  {
   "cell_type": "code",
   "execution_count": null,
   "metadata": {},
   "outputs": [],
   "source": []
  }
 ],
 "metadata": {
  "kernelspec": {
   "display_name": "Python 3",
   "language": "python",
   "name": "python3"
  },
  "language_info": {
   "codemirror_mode": {
    "name": "ipython",
    "version": 3
   },
   "file_extension": ".py",
   "mimetype": "text/x-python",
   "name": "python",
   "nbconvert_exporter": "python",
   "pygments_lexer": "ipython3",
   "version": "3.6.3"
  }
 },
 "nbformat": 4,
 "nbformat_minor": 1
}
