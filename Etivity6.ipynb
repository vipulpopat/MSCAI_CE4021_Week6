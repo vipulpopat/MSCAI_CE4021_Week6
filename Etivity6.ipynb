{
 "cells": [
  {
   "cell_type": "markdown",
   "metadata": {},
   "source": [
    "# Etivity 6 - Probability Theory\n",
    "\n",
    "## Student Name: Mark Murnane\n",
    "## Student ID: 18195326"
   ]
  },
  {
   "cell_type": "markdown",
   "metadata": {},
   "source": [
    "## Problem Description\n",
    "\n",
    "\n",
    "In a standard deck of cards, what is the probability of 3 cards yielding a score of 21 or more, where the cards values are:\n",
    "\n",
    " * Aces = 1\n",
    " * Numbered card = Face value\n",
    " * Face cards = 10\n",
    " \n",
    "## Requirements\n",
    "\n",
    " * Calculate the Expected Value of the draw\n",
    " * Calculate the Standard Deviation of the draw\n",
    " \n",
    "\n",
    "## Implementation\n",
    "\n",
    "A new deck is generated for each test.  The deck is represented as Python list as numpy arrays don't offer pop functionality.  The new deck is by default randomly shuffled as would be expected before the start of any game.  This can be overridden to test if there is a difference.\n"
   ]
  },
  {
   "cell_type": "code",
   "execution_count": 2,
   "metadata": {},
   "outputs": [],
   "source": [
    "import numpy as np\n",
    "import matplotlib.pyplot as plt\n",
    "import random\n",
    "\n",
    "# Code for the solution\n",
    "\n",
    "def generate_new_deck(shuffle=True):\n",
    "    ## Generates a list representing the card values of a new deck\n",
    "    new_deck = []\n",
    "    \n",
    "    for i in range(4):\n",
    "        for j in range(1,14):\n",
    "            new_deck.append(min(j, 10))                   \n",
    "\n",
    "    # The deck should always be shuffled before being returned\n",
    "    if shuffle == True:\n",
    "        np.random.shuffle(new_deck)\n",
    "            \n",
    "    return new_deck\n",
    "        \n",
    "    \n",
    "def pick_card (card_deck):   \n",
    "    ## Randomly removes a card from the deck and reports the position and value of the card\n",
    "    selected_card = random.randrange(0, len(card_deck))\n",
    "    selected_value = card_deck[selected_card]\n",
    "    \n",
    "    card_deck.pop(selected_card)\n",
    "    \n",
    "    return selected_value, selected_card, \n",
    "\n",
    "\n",
    "def run_test_case(cards_to_draw = 3):\n",
    "    # Run an iteration of the test and return the value produced by drawing 3 cards\n",
    "    card_deck = generate_new_deck()\n",
    "    \n",
    "    expected_values = []\n",
    "    draw_score = 0\n",
    "    \n",
    "    \n",
    "    for _ in range(cards_to_draw):\n",
    "        draw_score += pick_card(card_deck)[0]\n",
    "        expected_values.append(np.mean(card_deck))\n",
    "        \n",
    "    return (draw_score, *expected_values)\n",
    "\n",
    "\n",
    "def run_experiment(population_size, cards_to_draw):\n",
    "    \n",
    "    test_results = np.zeros((population_size, cards_to_draw + 1))\n",
    "    \n",
    "    for i in range(population_size):      \n",
    "        test_results[i] = np.array(run_test_case(cards_to_draw)) \n",
    "    \n",
    "    return test_results"
   ]
  },
  {
   "cell_type": "markdown",
   "metadata": {},
   "source": [
    "## Tests"
   ]
  },
  {
   "cell_type": "code",
   "execution_count": 16,
   "metadata": {},
   "outputs": [
    {
     "name": "stdout",
     "output_type": "stream",
     "text": [
      "The Expected Value of a new deck of cards is: 6.538462\n",
      "The Expected Value of a drawing 3 cards is assumed as: 19.615385\n",
      "\n",
      "The mean value of the card draw is 19.5808\n",
      "The median value of the card draw is 20.0000\n",
      "The standard deviation of the distribution is 5.3069\n"
     ]
    },
    {
     "data": {
      "image/png": "[encoded data removed]",
      "text/plain": [
       "<Figure size 432x288 with 1 Axes>"
      ]
     },
     "metadata": {},
     "output_type": "display_data"
    }
   ],
   "source": [
    "# Get the Expected Value of a new deck of cards\n",
    "# For a single deck of cards, as the probability is a uniform distribution, the mean is the Expected Value\n",
    "card_deck = generate_new_deck()\n",
    "expected_value = np.mean(card_deck)\n",
    "\n",
    "print(f\"The Expected Value of a new deck of cards is: {expected_value:.6f}\")\n",
    "print(f\"The Expected Value of a drawing 3 cards is assumed as: {3 * expected_value:.6f}\")\n",
    "print()\n",
    "\n",
    "test_results = run_experiment(5000, 3)\n",
    "test_draw_scores = test_results[:,0]\n",
    "\n",
    "draw_score_mean = np.mean(test_draw_scores)\n",
    "draw_score_median = np.median(test_draw_scores)\n",
    "draw_score_stddev = np.std(test_draw_scores)\n",
    "\n",
    "# The number of bins is based on the m\n",
    "bins = 30\n",
    "\n",
    "print(f\"The mean value of the card draw is {draw_score_mean:.4f}\")\n",
    "print(f\"The median value of the card draw is {draw_score_median:.4f}\")\n",
    "print(f\"The standard deviation of the distribution is {draw_score_stddev:.4f}\")\n",
    "\n",
    "plt.title(\"Distribution of Scores for 3 Card Draw\")\n",
    "plt.xlabel(\"Draw Score\")\n",
    "plt.ylabel(\"Score Frequency in Sample\")\n",
    "plt.xlim(3, 30)\n",
    "plt.hist(test_draw_scores, bins, facecolor='blue')\n",
    "plt.grid(True)\n",
    "plt.show()"
   ]
  },
  {
   "cell_type": "markdown",
   "metadata": {},
   "source": [
    "Interesingt to note that some scores do not appear in the sample.  Any combination of values should between 3 and 30 should be possible, but the histogram frequently shows up gaps."
   ]
  },
  {
   "cell_type": "markdown",
   "metadata": {},
   "source": [
    "## Manual Calculations\n",
    "\n",
    "### Expected Value\n",
    "\n",
    "The Expected Value for a single card draw can be calculated by adding the probability of drawing each number.  In the deck of 52 cards, the values 1-9 are represented 4 times each and the value 10 is represented 16 times.\n",
    "\n",
    "$\n",
    "\\quad\\quad\n",
    "\\begin{align}\n",
    "E[V] =  \\sum\\limits_{i=1}^{52}{v_i}{p_i} &= 1\\cdot\\frac{1}{52} + 1\\cdot\\frac{1}{52} + 1\\cdot\\frac{1}{52} + 1\\cdot\\frac{1}{52} + 2\\cdot\\frac{1}{52} + \\cdots + 10\\cdot\\frac{1}{52} + 10\\cdot\\frac{1}{52} + 10\\cdot\\frac{1}{52} + 10\\cdot\\frac{1}{52} \\\\\n",
    "&= 1\\cdot\\frac{4}{52} + 2\\cdot\\frac{4}{52} + 3\\cdot\\frac{4}{52} + 4\\cdot\\frac{4}{52} + 5\\cdot\\frac{4}{52} + 6\\cdot\\frac{4}{52} + 7\\cdot\\frac{4}{52} + 8\\cdot\\frac{4}{52} + 9\\cdot\\frac{4}{52} + 10\\cdot\\frac{16}{52} \\\\\n",
    "&= \\frac{340}{52} \\\\\n",
    "&= 6.538462\n",
    "\\end{align}\n",
    "$\n",
    "\n",
    "Equally, as the numbers are repeated we could simply work out the Expected Value for a single suit.  As the distribution of the values doesn't change, it is equivalent to calculating for the larger set.\n",
    "\n",
    "$\n",
    "\\quad\\quad\n",
    "\\begin{align}\n",
    "E[V] =  \\sum\\limits_{i=1}^{13}{v_i}{p_i} &= 1\\cdot\\frac{1}{13} + 2\\cdot\\frac{1}{13} + 3\\cdot\\frac{1}{13} + 4\\cdot\\frac{1}{13} + 5\\cdot\\frac{1}{13} + 6\\cdot\\frac{1}{13} + 7\\cdot\\frac{1}{13} + 8\\cdot\\frac{1}{13} + 9\\cdot\\frac{1}{13} + 10\\cdot\\frac{4}{13} \\\\\n",
    "&= \\frac{85}{13} \\\\\n",
    "&= 6.538462\n",
    "\\end{align}\n",
    "$\n",
    "\n",
    "\n",
    "As we have a _Uniform Distribution_ the above same as calculating the arithmetic mean:\n",
    "\n",
    "$\n",
    "\\quad\\quad\n",
    "\\begin{align}\n",
    "\\bar{v} &= (1 + 2 + 3 + 4 + 5 + 6 + 7 + 8 + 9 + 10 + 10 + 10 + 10)\\cdot\\frac{1}{13} \\\\\n",
    "&= (85)\\cdot\\frac{1}{13}\n",
    "\\end{align}\n",
    "$\n",
    "\n",
    "\n",
    "**N.B.** After initially stating the problem, I realised that calculating the _Expected Value_ for the combination is quite a challenge as there are $ { 52 \\choose 3} $ = 22,100 possibilities.  As part of the experiment then I've chosen to capture the Expected Value of the deck at each point in the draw and if possible plot those in relation to an assumed Expected Value for 3 draws of 3 x Expected Value for a single draw.\n",
    "\n",
    "### Standard Deviation\n",
    "\n",
    "For manual calculation of the Standard Deviation we need to calculate the variance of the data set, which is the average of the sum of the square differences from the mean, $\\mu$.\n",
    "\n",
    "$\n",
    "\\quad\\quad\\quad\\quad\n",
    "\\sigma = \\sqrt{\\frac{1}{N}\\sum\\limits_{i=1}^{N}{(x_i - \\mu)^2}}\n",
    "$\n",
    "\n",
    "A small subset will be used to make the calculation practical (vs. the large value sample size above).  We'll also confine this a single draw as we have a proper mean for that."
   ]
  },
  {
   "cell_type": "code",
   "execution_count": 11,
   "metadata": {},
   "outputs": [
    {
     "name": "stdout",
     "output_type": "stream",
     "text": [
      "[10.  3.  3.  7. 10.  5.  9.  5.  7.  2.]\n"
     ]
    }
   ],
   "source": [
    "stddev_test = run_experiment(10, 1)\n",
    "stddev_test_scores = stddev_test[:,0]\n",
    "\n",
    "print(stddev_test_scores)"
   ]
  },
  {
   "cell_type": "markdown",
   "metadata": {},
   "source": [
    "To calculate the Standard Deviation we need to calculate square root of the variance.  From the previous exercise we know that the mean for a single draw of cards is $\\mu\\ = 6.538.\n",
    "\n",
    "```\n",
    "\\begin{align}\n",
    "\\sigma^2 &= \\frac{(10-6.538)^2 + (3 - 6.538)^2 + (3 - 6.538)^2 + (7 - 6.538)^2 + (10 - 6.538)^2 + (5 - 6.538)^2 + (9 - 6.538)^2 + (5 - 6.538)^2 + (7 - 6.538)^2 + (2 - 6.538)^2}{10} \\\\\n",
    "\\\\\n",
    "&= \\frac{(11.985 + 12.517 + 12.517 + 0.213 + 11.985 + 2.365 + 6.061 + 2.365 + 0.213 + 20.593)}{10} \\\\\n",
    "\\\\\n",
    "&= \\frac{80.814}{10} \\\\\n",
    "\\\\\n",
    "&= 8.0814 \\\\\n",
    "\\\\\n",
    "\\\\\n",
    "\\sigma &= \\sqrt{8.0814} \\\\\n",
    "&= 2.843\n",
    "\\end{align}\n",
    "```\n",
    "\n",
    "The value returned by numpy is:"
   ]
  },
  {
   "cell_type": "code",
   "execution_count": 12,
   "metadata": {},
   "outputs": [
    {
     "name": "stdout",
     "output_type": "stream",
     "text": [
      "2.808914381037628\n"
     ]
    }
   ],
   "source": [
    "print(np.std(stddev_test_scores))"
   ]
  }
 ],
 "metadata": {
  "kernelspec": {
   "display_name": "Python 3",
   "language": "python",
   "name": "python3"
  },
  "language_info": {
   "codemirror_mode": {
    "name": "ipython",
    "version": 3
   },
   "file_extension": ".py",
   "mimetype": "text/x-python",
   "name": "python",
   "nbconvert_exporter": "python",
   "pygments_lexer": "ipython3",
   "version": "3.6.5"
  }
 },
 "nbformat": 4,
 "nbformat_minor": 1
}
