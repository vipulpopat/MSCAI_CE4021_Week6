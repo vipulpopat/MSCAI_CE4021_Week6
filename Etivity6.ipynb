{
 "cells": [
  {
   "cell_type": "markdown",
   "metadata": {},
   "source": [
    "#Student Name: Abhijit Sinha\n",
    "#Student ID: 18195067"
   ]
  },
  {
   "cell_type": "markdown",
   "metadata": {
    "collapsed": true
   },
   "source": [
    "### Problem Description\n",
    "\n",
    "A student is writing an exam without proper preparation, but wants a 100 out of 100 score. What are the chances of the score being a perfect 100 if the student tries 100, 1000 and 10000 attempts"
   ]
  },
  {
   "cell_type": "markdown",
   "metadata": {},
   "source": [
    "### Refection:\n",
    "- Added a random element by including multiple choice options in the problem. Thanks for Martin Power for the providing the idea.\n",
    "- Created functions to reuse code for performing multiple tests attempts."
   ]
  },
  {
   "cell_type": "code",
   "execution_count": 11,
   "metadata": {
    "collapsed": true
   },
   "outputs": [],
   "source": [
    "%matplotlib inline\n",
    "\n",
    "import numpy as np\n",
    "import random as random\n",
    "import matplotlib.pyplot as plt"
   ]
  },
  {
   "cell_type": "code",
   "execution_count": 12,
   "metadata": {
    "collapsed": false
   },
   "outputs": [],
   "source": [
    "def random_test(num_trials):\n",
    "    \"\"\"Function to randomly shuffle the test answers and returns the correct answers from student\"\"\"\n",
    "    \n",
    "    samples = []\n",
    "    for i in range(num_trials):\n",
    "        correct_answers = 0\n",
    "        \n",
    "        for j in range(num_questions):\n",
    "            correct_answer = random.choice(sample_space)\n",
    "            student_guess = random.choice(sample_space)\n",
    "            \n",
    "            if student_guess == correct_answer:\n",
    "                correct_answers += 1\n",
    "            samples.append(correct_answers)\n",
    "            \n",
    "    return samples\n",
    "\n",
    "\n",
    "def plot_histogram(samples, num_bins):\n",
    "    \"\"\"Plot a histogram for the list of samples\"\"\"\n",
    "\n",
    "    plt.title(\"Chances of getting a perfect Score\")\n",
    "    plt.hist(samples, num_bins, facecolor='blue', label=\"Exam score\")\n",
    "    plt.show()\n",
    "    \n",
    "    \n",
    "def simulate_test(attempts):\n",
    "    \"\"\"Function to simulate the attempts a student takes for the test\"\"\"\n",
    "    test_result = random_test(attempts)\n",
    "\n",
    "    # Mean\n",
    "    mean = np.mean(test_result)\n",
    "    print(\"Mean of Samples: \", mean)\n",
    "\n",
    "    # Standard deviation\n",
    "    std_deviation = np.std(test_result)\n",
    "    print(\"Standard Deviation: \", std_deviation)\n",
    "    \n",
    "    # Plot histogram\n",
    "    plot_histogram(test_result, num_questions)\n"
   ]
  },
  {
   "cell_type": "code",
   "execution_count": 13,
   "metadata": {
    "collapsed": false
   },
   "outputs": [
    {
     "name": "stdout",
     "output_type": "stream",
     "text": [
      "Mean of Samples:  12.383\n",
      "Standard Deviation:  7.672229858391887\n",
      "Obtained Grade:  B\n"
     ]
    },
    {
     "data": {
      "image/png": "[encoded data removed]",
      "text/plain": [
       "<Figure size 432x288 with 1 Axes>"
      ]
     },
     "metadata": {},
     "output_type": "display_data"
    }
   ],
   "source": [
    "sample_space = [\"a\", \"b\", \"c\", \"d\"]\n",
    "num_questions = 100\n",
    "\n",
    "\n",
    "# Run the experiment for 100 attempts\n",
    "simulate_test(100)\n"
   ]
  },
  {
   "cell_type": "code",
   "execution_count": 14,
   "metadata": {
    "collapsed": false
   },
   "outputs": [
    {
     "name": "stdout",
     "output_type": "stream",
     "text": [
      "Mean of Samples:  12.66221\n",
      "Standard Deviation:  7.782464128789801\n",
      "Obtained Grade:  B\n"
     ]
    },
    {
     "data": {
      "image/png": "[encoded data removed]",
      "text/plain": [
       "<Figure size 432x288 with 1 Axes>"
      ]
     },
     "metadata": {},
     "output_type": "display_data"
    }
   ],
   "source": [
    "# Run the experiment for 1000 attempts\n",
    "simulate_test(1000)"
   ]
  },
  {
   "cell_type": "code",
   "execution_count": 15,
   "metadata": {
    "collapsed": false
   },
   "outputs": [
    {
     "name": "stdout",
     "output_type": "stream",
     "text": [
      "Mean of Samples:  12.617704\n",
      "Standard Deviation:  7.849810046643422\n",
      "Obtained Grade:  C\n"
     ]
    },
    {
     "data": {
      "image/png": "[encoded data removed]",
      "text/plain": [
       "<Figure size 432x288 with 1 Axes>"
      ]
     },
     "metadata": {},
     "output_type": "display_data"
    }
   ],
   "source": [
    "# Run the experiment for 10000 attempts\n",
    "simulate_test(10000)"
   ]
  },
  {
   "cell_type": "code",
   "execution_count": null,
   "metadata": {
    "collapsed": true
   },
   "outputs": [],
   "source": []
  }
 ],
 "metadata": {
  "kernelspec": {
   "display_name": "Python 3.6",
   "language": "python",
   "name": "python3.6"
  },
  "language_info": {
   "codemirror_mode": {
    "name": "ipython",
    "version": 3
   },
   "file_extension": ".py",
   "mimetype": "text/x-python",
   "name": "python",
   "nbconvert_exporter": "python",
   "pygments_lexer": "ipython3",
   "version": "3.6.6"
  }
 },
 "nbformat": 4,
 "nbformat_minor": 0
}
