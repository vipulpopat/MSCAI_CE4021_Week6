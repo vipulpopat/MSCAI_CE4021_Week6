{
 "cells": [
  {
   "cell_type": "markdown",
   "metadata": {},
   "source": [
    "#Student Name: Gerard Kerley\n",
    "#Student ID: 18195229"
   ]
  },
  {
   "cell_type": "markdown",
   "metadata": {},
   "source": [
    "### Task (Complete by Saturday Week 6)\n",
    "- Describe a simple problem that contains a chance element.\n",
    "- Use a continuous random variable or a discrete random variable.\n",
    "- Use a normal distribution or a uniform distribution.\n",
    "- Write Python code to simulate an experiment with your problem.\n",
    "- The simulation can include a simulated action (e.g. rolling dice) or a simulated observation (e.g. observing rain or sunshine). \n",
    "\n",
    "The code should run the experiment a sufficient number of times such that you can calculate/approximate the following:\n",
    "\n",
    "- The expected value of your random variable.\n",
    "- The standard deviation of your random variable.\n",
    "- Plot the distribution found in your simulated experiment\n",
    " \n",
    "You may only use the following modules:\n",
    "- Random\n",
    "- Numpy\n",
    "- Matplotlib\n",
    "You are not required to perform exception handling or tests.\n",
    "\n",
    "GIT push your implementation and post the description of your problem to E-tivity 6: Probability Theory.\n",
    "\n",
    "- Include calculated values of points 1 and 2 above.\n",
    "- Provide a link to your branch."
   ]
  },
  {
   "cell_type": "markdown",
   "metadata": {},
   "source": [
    "## Experiment\n",
    "Rolling 2 unbiased 6-sided dice\n",
    "1. 1,000 times\n",
    "- 10,000 times\n",
    "- 100,000 times"
   ]
  },
  {
   "cell_type": "code",
   "execution_count": 1,
   "metadata": {
    "collapsed": true
   },
   "outputs": [],
   "source": [
    "import random\n",
    "import numpy as np\n",
    "import matplotlib.pyplot as plt\n",
    "\n",
    "def dice_roll():\n",
    "    return random.randint(1,6)\n",
    "\n",
    "def run_experiment(trials):\n",
    "    sample_space = []\n",
    "    for i in range(trials):\n",
    "        sample_space.append(dice_roll() + dice_roll())\n",
    "    return sample_space"
   ]
  },
  {
   "cell_type": "code",
   "execution_count": 2,
   "metadata": {
    "collapsed": false
   },
   "outputs": [
    {
     "name": "stdout",
     "output_type": "stream",
     "text": [
      "First 20 throws: [6, 7, 8, 7, 4, 4, 7, 7, 6, 3, 8, 10, 3, 7, 7, 4, 7, 4, 7, 5] ...\n"
     ]
    }
   ],
   "source": [
    "result_of_100_trials = run_experiment(100)\n",
    "result_of_1K_trials = run_experiment(1000)\n",
    "result_of_10K_trials = run_experiment(10000)\n",
    "result_of_100K_trials = run_experiment(100000)\n",
    "\n",
    "print (\"First 20 throws: {} ...\".format(result_of_1K_trials[:20]))"
   ]
  },
  {
   "cell_type": "markdown",
   "metadata": {},
   "source": [
    "## Outputs"
   ]
  },
  {
   "cell_type": "code",
   "execution_count": 3,
   "metadata": {
    "collapsed": false
   },
   "outputs": [
    {
     "name": "stdout",
     "output_type": "stream",
     "text": [
      "========= 100 TRIALS =================\n",
      "Expected value (mean): 7.17\n",
      "Sample Standard Deviation: 2.1450174824462387\n",
      "========= 1,000 TRIALS ===============\n",
      "Expected value (mean): 6.885\n",
      "Sample Standard Deviation: 2.5067458985704953\n",
      "========= 10,000 TRIALS ==============\n",
      "Expected value (mean): 6.9918\n",
      "Sample Standard Deviation: 2.4136140453684805\n",
      "========= 100,000 TRIALS =============\n",
      "Expected value (mean): 6.9993\n",
      "Sample Standard Deviation: 2.415657159035611\n"
     ]
    }
   ],
   "source": [
    "print (\"========= 100 TRIALS =================\")\n",
    "print (\"Expected value (mean): {}\".format(np.mean(result_of_100_trials)))\n",
    "print (\"Sample Standard Deviation: {}\".format(np.std(result_of_100_trials)))\n",
    "print (\"========= 1,000 TRIALS ===============\")\n",
    "print (\"Expected value (mean): {}\".format(np.mean(result_of_1K_trials)))\n",
    "print (\"Sample Standard Deviation: {}\".format(np.std(result_of_1K_trials)))\n",
    "print (\"========= 10,000 TRIALS ==============\")\n",
    "print (\"Expected value (mean): {}\".format(np.mean(result_of_10K_trials)))\n",
    "print (\"Sample Standard Deviation: {}\".format(np.std(result_of_10K_trials)))\n",
    "print (\"========= 100,000 TRIALS =============\")\n",
    "print (\"Expected value (mean): {}\".format(np.mean(result_of_100K_trials)))\n",
    "print (\"Sample Standard Deviation: {}\".format(np.std(result_of_100K_trials)))"
   ]
  },
  {
   "cell_type": "markdown",
   "metadata": {},
   "source": [
    "## Graphs"
   ]
  },
  {
   "cell_type": "code",
   "execution_count": 4,
   "metadata": {
    "collapsed": false
   },
   "outputs": [
    {
     "data": {
      "image/png": "[encoded data removed]",
      "text/plain": [
       "<Figure size 432x288 with 1 Axes>"
      ]
     },
     "metadata": {},
     "output_type": "display_data"
    }
   ],
   "source": [
    "num_bins = 11\n",
    "plt.title(\"100 TRIALS\")\n",
    "plt.xlabel('Total of 2 dice')\n",
    "plt.ylabel('Number of occurences')\n",
    "plt.hist(result_of_100_trials, num_bins, facecolor='red')\n",
    "plt.show()"
   ]
  },
  {
   "cell_type": "code",
   "execution_count": 5,
   "metadata": {
    "collapsed": false
   },
   "outputs": [
    {
     "data": {
      "image/png": "[encoded data removed]",
      "text/plain": [
       "<Figure size 432x288 with 1 Axes>"
      ]
     },
     "metadata": {},
     "output_type": "display_data"
    }
   ],
   "source": [
    "num_bins = 11\n",
    "plt.title(\"1,000 TRIALS\")\n",
    "plt.xlabel('Total of 2 dice')\n",
    "plt.ylabel('Number of occurences')\n",
    "plt.hist(result_of_1K_trials, num_bins, facecolor='orange')\n",
    "plt.show()"
   ]
  },
  {
   "cell_type": "code",
   "execution_count": 6,
   "metadata": {
    "collapsed": false
   },
   "outputs": [
    {
     "data": {
      "image/png": "[encoded data removed]",
      "text/plain": [
       "<Figure size 432x288 with 1 Axes>"
      ]
     },
     "metadata": {},
     "output_type": "display_data"
    }
   ],
   "source": [
    "num_bins = 11\n",
    "plt.title(\"10,000 TRIALS\")\n",
    "plt.xlabel('Total of 2 dice')\n",
    "plt.ylabel('Number of occurences')\n",
    "plt.hist(result_of_10K_trials, num_bins, facecolor='blue')\n",
    "plt.show()"
   ]
  },
  {
   "cell_type": "code",
   "execution_count": 7,
   "metadata": {
    "collapsed": false
   },
   "outputs": [
    {
     "data": {
      "image/png": "[encoded data removed]",
      "text/plain": [
       "<Figure size 432x288 with 1 Axes>"
      ]
     },
     "metadata": {},
     "output_type": "display_data"
    }
   ],
   "source": [
    "num_bins = 11\n",
    "plt.title(\"100,000 TRIALS\")\n",
    "plt.xlabel('Total of 2 dice')\n",
    "plt.ylabel('Number of occurences')\n",
    "plt.hist(result_of_100K_trials, num_bins, facecolor='green')\n",
    "plt.show()"
   ]
  },
  {
   "cell_type": "markdown",
   "metadata": {},
   "source": [
    "### The histogram approaches a symmetrical normal distribution as the number of trials increases."
   ]
  },
  {
   "cell_type": "code",
   "execution_count": null,
   "metadata": {
    "collapsed": true
   },
   "outputs": [],
   "source": []
  }
 ],
 "metadata": {
  "kernelspec": {
   "display_name": "Python 3.6",
   "language": "python",
   "name": "python3.6"
  },
  "language_info": {
   "codemirror_mode": {
    "name": "ipython",
    "version": 3
   },
   "file_extension": ".py",
   "mimetype": "text/x-python",
   "name": "python",
   "nbconvert_exporter": "python",
   "pygments_lexer": "ipython3",
   "version": "3.6.6"
  }
 },
 "nbformat": 4,
 "nbformat_minor": 0
}
