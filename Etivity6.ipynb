{
 "cells": [
  {
   "cell_type": "markdown",
   "metadata": {},
   "source": [
    "#Student Name: Chelliah Kanthanathan\n",
    "#Student ID: 18263003"
   ]
  },
  {
   "cell_type": "markdown",
   "metadata": {},
   "source": [
    "Problem description is simple stock market scenario where as number of stock transaction everyday is selected from the random value between 1000 and 10000. Every company in stock market will choose random no of transactions. At the end of the day the total number of transactions are noted down.\n",
    "\n",
    "Then I run a simulation for 1 year, 5 year or 10 years. So for example with 10 years the observations list will include total number of transactions per day for 3650 days. Then from this observation the mean/average, median and standard deviations are calculated. The standard deviation is plotted using histogram where as it is shown as nice bell curve with a normal distribution.\n",
    "\n",
    "Also T=the expected total stock transactions is 28000 per day. Then the Variation above expected stock transaction is calculated and printed in percentage.\n",
    "\n",
    "Class Stockmarket: This class populates daily transactions for every company listed in stock market. This class also notes down the total number of transaction per day.\n",
    "\n",
    "Class Simulate_observation: This class has function simulation that takes number of days for observation and simulate daily stock market transactions for every day. Then the observations are stored in a list which represent total number of transactions per day over a number of days."
   ]
  },
  {
   "cell_type": "code",
   "execution_count": 2,
   "metadata": {},
   "outputs": [
    {
     "name": "stdout",
     "output_type": "stream",
     "text": [
      "Observation period in days: 1825\n",
      "Total number of Stock Transactions:  49892072\n",
      "\n",
      "Expected stock transaction per day: 28000\n",
      "Variation above expected stock transaction in %: 44.38356164383562\n",
      "\n",
      "Standard Deviation: 6014.019935140826\n",
      "Median stock transaction: 27145.0\n",
      "Average stock transaction: 27338.121643835617\n"
     ]
    },
    {
     "data": {
      "image/png": "[encoded data removed]",
      "text/plain": [
       "<Figure size 432x288 with 1 Axes>"
      ]
     },
     "metadata": {},
     "output_type": "display_data"
    }
   ],
   "source": [
    "import random\n",
    "import numpy as np\n",
    "import matplotlib.pyplot as plt\n",
    "\n",
    "class Daily_stockmarket():\n",
    "    \"\"\"This class populates daily transactions for every company listed in stock market.\n",
    "    It randomly select the number of transaction from list using random.choice()\n",
    "    This class also notes down the total number of transaction per day\"\"\"\n",
    "    \n",
    "    companies = ['Apple','Google','Samsung','Microsoft','Amazon']\n",
    "    no_of_transaction = ['1000','2000','5000','7000','9000','10000']\n",
    "    \n",
    "    def __init__(self):\n",
    "        self.stock_market = {}\n",
    "        self.total_no_of_daily_transactions = 0\n",
    "        \n",
    "    def populate_stock_market_daily_transaction(self):\n",
    "        for company in range(len(self.companies)):\n",
    "            self.stock_market[self.companies[company]] = random.randint(1000,10000)  \n",
    "            self.total_no_of_daily_transactions += int(self.stock_market[self.companies[company]])\n",
    "    \n",
    "    def print_stock_market_data(self):\n",
    "        print (self.stock_market)\n",
    "        print (self.total_no_of_daily_transactions)\n",
    "        \n",
    "    def return_total_no_of_daily_transactions(self):\n",
    "        return self.total_no_of_daily_transactions\n",
    "\n",
    "class Simulate_observation():\n",
    "    \"\"\"This class has function simulation that takes number of days for observation and \n",
    "    simulate daily stock market transactions for every day. Then the observations are \n",
    "    stored in a list which represent total number of transactions per day over a number \n",
    "    of days. It also notes down the variation count greater than expected transaction per day \"\"\"\n",
    "    \n",
    "    def __init__(self,no_of_days):\n",
    "        self.no_of_days = no_of_days\n",
    "        self.observations = []\n",
    "        self.total_transaction = 0\n",
    "        self.variation_count = 0\n",
    "        self.expected_transaction_per_Day = 28000\n",
    "        \n",
    "    def simulation(self):\n",
    "        for i in range(self.no_of_days):\n",
    "            daily_stock_market = Daily_stockmarket()\n",
    "            daily_stock_market.populate_stock_market_daily_transaction()\n",
    "            self.observations.append(daily_stock_market.return_total_no_of_daily_transactions())\n",
    "            if (daily_stock_market.return_total_no_of_daily_transactions() > self.expected_transaction_per_Day):\n",
    "                self.variation_count += 1\n",
    "            self.total_transaction += daily_stock_market.return_total_no_of_daily_transactions()\n",
    "        \n",
    "    def return_observations(self):\n",
    "        return self.observations\n",
    "    \n",
    "    def return_expected_transaction_per_day(self):\n",
    "        return self.expected_transaction_per_Day\n",
    "    \n",
    "    def return_total_transaction(self):\n",
    "        return self.total_transaction\n",
    "    \n",
    "    def calculate_variation(self):\n",
    "        return (self.variation_count / self.no_of_days) * 100\n",
    "\n",
    "# Main\n",
    "if __name__ == \"__main__\":\n",
    "    \n",
    "    # Randomly select the period of observation\n",
    "    no_of_days = [365,1825,3650] # 1year, 5 years, 10 years\n",
    "    observation_period = random.choice(no_of_days) \n",
    "    \n",
    "    # Simulate observation for selected obervation period\n",
    "    simulate = Simulate_observation(observation_period)\n",
    "    simulate.simulation()\n",
    "    \n",
    "    # Calculate variation from expected transaction per day\n",
    "    # Calcualte average transaction, median daily transaction and standard deviation for observation period\n",
    "    variation_with_expected_transaction = simulate.calculate_variation()\n",
    "    average_daily_transaction = simulate.return_total_transaction() / observation_period\n",
    "    median_daily_transaction = np.median(simulate.return_observations())\n",
    "    standard_deviation = np.std(simulate.return_observations())\n",
    "    \n",
    "    # print the output\n",
    "    print (\"Observation period in days:\", observation_period)\n",
    "    print (\"Total number of Stock Transactions: \", simulate.return_total_transaction())\n",
    "    \n",
    "    print (\"\\nExpected stock transaction per day:\", simulate.return_expected_transaction_per_day())\n",
    "    print (\"Variation above expected stock transaction in %:\", variation_with_expected_transaction)\n",
    "    print (\"\\nStandard Deviation:\", standard_deviation)\n",
    "    print (\"Median stock transaction:\", median_daily_transaction)\n",
    "    print (\"Average stock transaction:\", average_daily_transaction)\n",
    "    \n",
    "    # Plot the deviation for observation period\n",
    "    num_bins = 25\n",
    "    plt.xlabel('Stock Transaction Deviation')\n",
    "    plt.ylabel('Number')\n",
    "    plt.title('Histogram of Stock Market Standard Deviation')\n",
    "    plt.hist(simulate.return_observations(),num_bins,facecolor='orange')\n",
    "    plt.show()"
   ]
  }
 ],
 "metadata": {
  "kernelspec": {
   "display_name": "Python 3",
   "language": "python",
   "name": "python3"
  },
  "language_info": {
   "codemirror_mode": {
    "name": "ipython",
    "version": 3
   },
   "file_extension": ".py",
   "mimetype": "text/x-python",
   "name": "python",
   "nbconvert_exporter": "python",
   "pygments_lexer": "ipython3",
   "version": "3.6.5"
  }
 },
 "nbformat": 4,
 "nbformat_minor": 1
}
