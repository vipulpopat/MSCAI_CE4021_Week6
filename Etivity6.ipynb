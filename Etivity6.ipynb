{
 "cells": [
  {
   "cell_type": "markdown",
   "metadata": {},
   "source": [
    "#Student Name: Abhijit Sinha\n",
    "#Student ID: 18195067"
   ]
  },
  {
   "cell_type": "markdown",
   "metadata": {
    "collapsed": true
   },
   "source": [
    "### Problem Description\n",
    "\n",
    "A student is writing an exam without proper preparation, but wants a 100 out of 100 score. What are the chances of the score being a perfect 100 if the student tries 1000 attempts"
   ]
  },
  {
   "cell_type": "code",
   "execution_count": 2,
   "metadata": {
    "collapsed": true
   },
   "outputs": [],
   "source": [
    "%matplotlib inline\n",
    "\n",
    "import numpy as np\n",
    "import random as random\n",
    "import matplotlib.pyplot as plt"
   ]
  },
  {
   "cell_type": "code",
   "execution_count": 3,
   "metadata": {
    "collapsed": false
   },
   "outputs": [
    {
     "name": "stdout",
     "output_type": "stream",
     "text": [
      "Mean of Samples:  49.107\n",
      "Standard Deviation:  29.586611009035828\n",
      "Number of times the student gets a score of 100:  7\n"
     ]
    }
   ],
   "source": [
    "# Run the experiment\n",
    "num_trails = 1000\n",
    "current_value = 0\n",
    "samples = []\n",
    "\n",
    "for i in range(num_trails):\n",
    "    samples.append(random.randint(0,100))\n",
    "\n",
    "# Mean\n",
    "mean = np.mean(samples)\n",
    "print(\"Mean of Samples: \", mean)\n",
    "\n",
    "# Standard deviation\n",
    "std_deviation = np.std(samples)\n",
    "print(\"Standard Deviation: \", std_deviation)\n",
    "\n",
    "print(\"Number of times the student gets a score of 100: \", samples.count(100))"
   ]
  },
  {
   "cell_type": "code",
   "execution_count": 4,
   "metadata": {
    "collapsed": false
   },
   "outputs": [
    {
     "data": {
      "text/plain": [
       "(array([17., 11.,  6., 16.,  7., 14.,  6., 10.,  6.,  8., 18., 17., 10.,\n",
       "        11., 12.,  9.,  9., 11.,  9.,  6., 12., 13., 12., 14.,  7.,  7.,\n",
       "        13.,  8., 10.,  7.,  4., 12.,  9., 14.,  6.,  5., 14., 10.,  7.,\n",
       "        11.,  6.,  7., 14.,  9., 15.,  9.,  8.,  9.,  7., 10.,  9.,  8.,\n",
       "         7., 13.,  9., 12.,  7., 13., 13., 11., 11.,  7.,  6., 10., 10.,\n",
       "         5., 15., 12.,  9., 13.,  8., 12.,  6., 11., 12., 10.,  6.,  9.,\n",
       "         8.,  9., 11.,  8., 10.,  9., 10., 10., 10., 12., 15., 13.,  4.,\n",
       "         9., 10.,  7., 12.,  8.,  5., 17., 13., 14.]),\n",
       " array([  0.,   1.,   2.,   3.,   4.,   5.,   6.,   7.,   8.,   9.,  10.,\n",
       "         11.,  12.,  13.,  14.,  15.,  16.,  17.,  18.,  19.,  20.,  21.,\n",
       "         22.,  23.,  24.,  25.,  26.,  27.,  28.,  29.,  30.,  31.,  32.,\n",
       "         33.,  34.,  35.,  36.,  37.,  38.,  39.,  40.,  41.,  42.,  43.,\n",
       "         44.,  45.,  46.,  47.,  48.,  49.,  50.,  51.,  52.,  53.,  54.,\n",
       "         55.,  56.,  57.,  58.,  59.,  60.,  61.,  62.,  63.,  64.,  65.,\n",
       "         66.,  67.,  68.,  69.,  70.,  71.,  72.,  73.,  74.,  75.,  76.,\n",
       "         77.,  78.,  79.,  80.,  81.,  82.,  83.,  84.,  85.,  86.,  87.,\n",
       "         88.,  89.,  90.,  91.,  92.,  93.,  94.,  95.,  96.,  97.,  98.,\n",
       "         99., 100.]),\n",
       " <a list of 100 Patch objects>)"
      ]
     },
     "execution_count": 4,
     "metadata": {},
     "output_type": "execute_result"
    },
    {
     "data": {
      "image/png": "[encoded data removed]",
      "text/plain": [
       "<Figure size 432x288 with 1 Axes>"
      ]
     },
     "metadata": {},
     "output_type": "display_data"
    }
   ],
   "source": [
    "# Plot a histogram for the list of samples \n",
    "num_bins = 100 \n",
    "plt.title(\"Pick a number experiment\")\n",
    "plt.hist(samples, num_bins, facecolor='blue', label=\"Exam score\")\n",
    "plt.show"
   ]
  },
  {
   "cell_type": "code",
   "execution_count": null,
   "metadata": {
    "collapsed": true
   },
   "outputs": [],
   "source": []
  }
 ],
 "metadata": {
  "kernelspec": {
   "display_name": "Python 3.6",
   "language": "python",
   "name": "python3.6"
  },
  "language_info": {
   "codemirror_mode": {
    "name": "ipython",
    "version": 3
   },
   "file_extension": ".py",
   "mimetype": "text/x-python",
   "name": "python",
   "nbconvert_exporter": "python",
   "pygments_lexer": "ipython3",
   "version": "3.6.6"
  }
 },
 "nbformat": 4,
 "nbformat_minor": 0
}
