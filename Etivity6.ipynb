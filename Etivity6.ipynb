{
 "cells": [
  {
   "cell_type": "code",
   "execution_count": 1,
   "metadata": {},
   "outputs": [],
   "source": [
    "#Student Name:Eamon OGairbhith\n",
    "#Student ID:9638296\n",
    "\n",
    "#this calculates the length of time it takes (in days) for a rain water tank of given volume (litres) to reach it's maximum given a certain\n",
    "#roof area (metres squared) and the below presumtions\n",
    "\n",
    "# how many days does it take to fill a rain water harvesting tank of a given size (in Litres)?\n",
    "# the rainfall is collected from a roof that has a been given a horizontal area\n",
    "# on average it rains 5 days in every 7\n",
    "# on days that it rains, the rainfall amount is between 1mm and 15mm\n",
    "# the amount of water consumed from the tank each day varies between a min and a maximum amount (Litres)"
   ]
  },
  {
   "cell_type": "code",
   "execution_count": 2,
   "metadata": {},
   "outputs": [],
   "source": [
    "import numpy as np"
   ]
  },
  {
   "cell_type": "code",
   "execution_count": 4,
   "metadata": {},
   "outputs": [],
   "source": [
    "def day_rain_amt(max_day_rain, roof_area):\n",
    "    \"\"\" calculate daily rainfall amount\n",
    "    inputs:\n",
    "    maximum daily rainfall amount\n",
    "    roof horizontal area\"\"\"\n",
    "    \n",
    "    # allow for the fact that it rains 5 days in every 7 days\n",
    "    rain = np.random.choice([ 1, 0, 1, 0, 1, 1, 1])\n",
    "    \n",
    "    return np.random.randint(1, max_day_rain) * rain * roof_area"
   ]
  },
  {
   "cell_type": "code",
   "execution_count": 5,
   "metadata": {},
   "outputs": [],
   "source": [
    "def day_draw_amt(min_day_draw, max_day_draw):\n",
    "    \"\"\" calculate daily tank draw amount\"\"\"\n",
    "    \n",
    "    return np.random.randint(min_day_draw, max_day_draw)"
   ]
  },
  {
   "cell_type": "code",
   "execution_count": 6,
   "metadata": {},
   "outputs": [
    {
     "name": "stdout",
     "output_type": "stream",
     "text": [
      "1200 89\n",
      "0 131\n",
      "100 116\n",
      "1000 95\n",
      "200 105\n",
      "1200 145\n",
      "700 80\n",
      "100 107\n",
      "800 97\n",
      "400 95\n",
      "It took 10 days to fill the tank\n"
     ]
    }
   ],
   "source": [
    "# test\n",
    "max_vol = 4500\n",
    "vol = 0\n",
    "days = 0\n",
    "while vol < max_vol:\n",
    "    day_rain = day_rain_amt(15, 100)\n",
    "    vol += day_rain\n",
    "    day_draw = day_draw_amt(80, 150)\n",
    "    vol -= day_draw\n",
    "    days += 1\n",
    "    print(day_rain, day_draw)\n",
    "print(\"It took {} days to fill the tank\".format(days))"
   ]
  },
  {
   "cell_type": "code",
   "execution_count": 7,
   "metadata": {},
   "outputs": [],
   "source": [
    "# simulate with a large number of experiments\n",
    "# collect the experiment results in an array of observations\n",
    "max_vol = 4500\n",
    "exps = 100_000\n",
    "obs = []\n",
    "for i in range(exps):\n",
    "    vol = 0\n",
    "    days = 0\n",
    "    while vol < max_vol:\n",
    "        vol += day_rain_amt(15, 100)\n",
    "        vol -= day_draw_amt(80, 150)\n",
    "        days += 1\n",
    "    obs.append(days)"
   ]
  },
  {
   "cell_type": "code",
   "execution_count": 8,
   "metadata": {},
   "outputs": [
    {
     "data": {
      "text/plain": [
       "100000"
      ]
     },
     "execution_count": 8,
     "metadata": {},
     "output_type": "execute_result"
    }
   ],
   "source": [
    "len(obs)"
   ]
  },
  {
   "cell_type": "code",
   "execution_count": 9,
   "metadata": {},
   "outputs": [],
   "source": [
    "import matplotlib.pyplot as plt\n",
    "%matplotlib inline"
   ]
  },
  {
   "cell_type": "code",
   "execution_count": 10,
   "metadata": {},
   "outputs": [],
   "source": [
    "sdev = np.std(obs)\n",
    "med = np.median(obs)\n",
    "avg = np.average(obs)"
   ]
  },
  {
   "cell_type": "code",
   "execution_count": 11,
   "metadata": {},
   "outputs": [
    {
     "name": "stdout",
     "output_type": "stream",
     "text": [
      "3.9131589203097796 11.0 11.71262\n"
     ]
    }
   ],
   "source": [
    "print(sdev, med, avg)"
   ]
  },
  {
   "cell_type": "code",
   "execution_count": 12,
   "metadata": {},
   "outputs": [
    {
     "data": {
      "image/png": "[encoded data removed]",
      "text/plain": [
       "<Figure size 432x288 with 1 Axes>"
      ]
     },
     "metadata": {},
     "output_type": "display_data"
    }
   ],
   "source": [
    "_, bins, _ = plt.hist(obs, density=True, bins=10)\n",
    "\n",
    "#taken from Cormac's code"
   ]
  },
  {
   "cell_type": "code",
   "execution_count": null,
   "metadata": {},
   "outputs": [],
   "source": [
    "bins"
   ]
  },
  {
   "cell_type": "code",
   "execution_count": null,
   "metadata": {},
   "outputs": [],
   "source": [
    "len(bins)"
   ]
  },
  {
   "cell_type": "code",
   "execution_count": null,
   "metadata": {},
   "outputs": [],
   "source": []
  }
 ],
 "metadata": {
  "kernelspec": {
   "display_name": "Python 3",
   "language": "python",
   "name": "python3"
  },
  "language_info": {
   "codemirror_mode": {
    "name": "ipython",
    "version": 3
   },
   "file_extension": ".py",
   "mimetype": "text/x-python",
   "name": "python",
   "nbconvert_exporter": "python",
   "pygments_lexer": "ipython3",
   "version": "3.6.5"
  }
 },
 "nbformat": 4,
 "nbformat_minor": 2
}
