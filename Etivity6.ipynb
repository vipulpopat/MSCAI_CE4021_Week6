{
 "cells": [
  {
   "cell_type": "markdown",
   "metadata": {},
   "source": [
    "#Student Name: Cormac Lavery\n",
    "#Student ID: 16139658"
   ]
  },
  {
   "cell_type": "markdown",
   "metadata": {},
   "source": [
    "Experiment summary:\n",
    "A chicken coops lays between 1 and 6 eggs a day, Farmer brown has 6 coops. The local co-op will only accept consignments of 1000 eggs at a time, on average how may days will it take farmer brown to fill the consignment? What is the least number of coops that farmer brown will need to on average be able to fill a consigment daily\n"
   ]
  },
  {
   "cell_type": "code",
   "execution_count": 110,
   "metadata": {},
   "outputs": [],
   "source": [
    "%matplotlib inline\n",
    "import numpy as np\n",
    "import random\n",
    "import matplotlib.pyplot as plt"
   ]
  },
  {
   "cell_type": "code",
   "execution_count": null,
   "metadata": {},
   "outputs": [],
   "source": [
    "def lay_eggs(n_coops, lower_bound, upper_bound):\n",
    "    '''returns the sum of n dice'''\n",
    "    egg_count = 0\n",
    "    for i in range(n_coops):\n",
    "        eggs = random.randint(lower_bound, upper_bound)\n",
    "        egg_count += eggs\n",
    "    return egg_count\n",
    "\n",
    "number_of_observations_experiment_1 = 10000\n",
    "observations_experiment_1 = []\n",
    "\n",
    "#check how many days it takes farmer brown to fill a consigment\n",
    "\n",
    "for _ in range(number_of_observations_experiment_1):\n",
    "    egg_count = 0\n",
    "    day_count = 0\n",
    "    while(egg_count < 1000):\n",
    "        egg_count += lay_eggs(6, 1, 6)\n",
    "        day_count += 1\n",
    "    observations_experiment_1.append(day_count)\n",
    "    \n",
    "#check what percentage of the time farmer brown will be able to fill a consigment with x number of coops\n",
    "#minimum amount to get 1000 in a day is equal to 1000/6 = 167 max_number = 1000/1 = 1000\n",
    "\n",
    "number_of_observations_experiment_2 = 1000\n",
    "\n",
    "observations_experiment_2 = []\n",
    "for coop_count in range(167, 350):\n",
    "    count_sucessfull = 0\n",
    "    observations = []\n",
    "    for _ in range(number_of_observations_experiment_2):\n",
    "        egg_count = lay_eggs(coop_count, 1, 6)\n",
    "        observations.append(egg_count)\n",
    "        if egg_count > 1000:\n",
    "            count_sucessfull += 1\n",
    "    observations_experiment_2.append((coop_count, count_sucessfull / number_of_observations_experiment_2, observations))\n"
   ]
  },
  {
   "cell_type": "code",
   "execution_count": null,
   "metadata": {},
   "outputs": [],
   "source": [
    "standard_deviation = np.std(observations_experiment_1)\n",
    "median_number_of_days = np.median(observations_experiment_1)\n",
    "average_number_of_days = np.average(observations_experiment_1)\n",
    "\n",
    "#histogram normal overlay from sample on https://docs.scipy.org/doc/numpy-1.15.0/reference/generated/numpy.random.normal.html\n",
    "\n",
    "_, bins, _ = plt.hist(observations_experiment_1, 10, density=True)\n",
    "plt.plot(bins, 1/(standard_deviation * np.sqrt(2 * np.pi)) *\n",
    "               np.exp( - (bins - median_number_of_days)**2 / (2 * standard_deviation**2) ),\n",
    "         linewidth=2, color='r')\n",
    "plt.title(\"Distribution of days required for 6 coops to fill 1000 egg consigment\")\n",
    "plt.xlabel(\"number of days\")\n",
    "plt.ylabel(\"rate that consignment filled in days over 1\")\n",
    "plt.show()\n",
    "\n",
    "print(\"the median number of days to produce 1000 eggs was {} with standard_deviation {} and average of {}\".format(str(median_number_of_days), str(standard_deviation), str(average_number_of_days)))\n",
    "\n",
    "coop_count, results, observations = zip(*observations_experiment_2)\n",
    "lowest_viable_coop_count = None\n",
    "for observation in observations_experiment_2:\n",
    "    if(observation[1] >= .5):\n",
    "        lowest_viable_coop_count = observation\n",
    "        break\n",
    "\n",
    "standard_deviation_2 = np.std(lowest_viable_coop_count[2])\n",
    "median_number_of_eggs = np.median(lowest_viable_coop_count[2])\n",
    "average_number_of_eggs = np.average(lowest_viable_coop_count[2])\n",
    "\n",
    "plt.plot(coop_count, results)\n",
    "plt.title(\"Daily consignment reached\")\n",
    "plt.xlabel(\"number of coops\")\n",
    "plt.ylabel(\"% of time 1000 eggs produced\")\n",
    "plt.axhline(y=0.5, color='r', linestyle='dotted')\n",
    "plt.axvline(x=lowest_viable_coop_count[0], color='r', linestyle='dotted')\n",
    "plt.show()\n",
    "\n",
    "_, bins, _ = plt.hist(lowest_viable_coop_count[2], 10, density=Tue)\n",
    "plt.plot(bins, 1/(standard_deviation_2 * np.sqrt(2 * np.pi)) *\n",
    "               np.exp( - (bins - median_number_of_eggs)**2 / (2 * standard_deviation_2**2) ),\n",
    "         linewidth=2, color='r')\n",
    "plt.title(\"Distribution of eggs produced for {} number of coops in one day\".format(lowest_viable_coop_count[0]))\n",
    "plt.xlabel(\"number of eggs produced\")\n",
    "plt.ylabel(\"rate of occurence out of 1\")\n",
    "plt.show()\n",
    "\n",
    "print(\"the lowest number of coops required to on average provide 1000 eggs daily is {}\".format(lowest_viable_coop_count[0]))\n",
    "print(\"the median number of eggs produced was {} with standard_deviation of {} and average of {}\"\n",
    "     .format(median_number_of_eggs, standard_deviation_2, average_number_of_eggs))"
   ]
  },
  {
   "cell_type": "code",
   "execution_count": null,
   "metadata": {},
   "outputs": [],
   "source": []
  }
 ],
 "metadata": {
  "kernelspec": {
   "display_name": "Python 3",
   "language": "python",
   "name": "python3"
  },
  "language_info": {
   "codemirror_mode": {
    "name": "ipython",
    "version": 3
   },
   "file_extension": ".py",
   "mimetype": "text/x-python",
   "name": "python",
   "nbconvert_exporter": "python",
   "pygments_lexer": "ipython3",
   "version": "3.6.3"
  }
 },
 "nbformat": 4,
 "nbformat_minor": 1
}
