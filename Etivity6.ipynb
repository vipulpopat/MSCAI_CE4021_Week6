{
 "cells": [
  {
   "cell_type": "markdown",
   "metadata": {},
   "source": [
    "#Student Name: Chelliah Kanthanathan\n",
    "#Student ID: 18263003"
   ]
  },
  {
   "cell_type": "code",
   "execution_count": 2,
   "metadata": {},
   "outputs": [
    {
     "name": "stdout",
     "output_type": "stream",
     "text": [
      "Total number of Stock Transactions: 102756000\n",
      "Standard Deviation: 7599.6269772457945\n",
      "Median Daily Transactionn: 28000.0\n",
      "Average Daily Transactionn: 28152.328767123287\n"
     ]
    },
    {
     "data": {
      "image/png": "[encoded data removed]",
      "text/plain": [
       "<Figure size 432x288 with 1 Axes>"
      ]
     },
     "metadata": {},
     "output_type": "display_data"
    }
   ],
   "source": [
    "import random\n",
    "import numpy as np\n",
    "import matplotlib.pyplot as plt\n",
    "\n",
    "class Daily_stockmarket():\n",
    "    companies = ['Apple','Google','Samsung','Microsoft','Amazon']\n",
    "    no_of_transaction = ['1000','2000','5000','7000','9000','10000']\n",
    "    \n",
    "    def __init__(self):\n",
    "        self.stock_market = {}\n",
    "        self.total_no_of_daily_transactions = 0\n",
    "        \n",
    "    def populate_stock_market_daily_transaction(self):\n",
    "        for company in range(len(self.companies)):\n",
    "            self.stock_market[self.companies[company]] = random.choice(self.no_of_transaction)   \n",
    "            self.total_no_of_daily_transactions += int(self.stock_market[self.companies[company]])\n",
    "    \n",
    "    def print_stock_market_data(self):\n",
    "        print (self.stock_market)\n",
    "        print (self.total_no_of_daily_transactions)\n",
    "        \n",
    "    def return_total_no_of_daily_transactions(self):\n",
    "        return self.total_no_of_daily_transactions\n",
    "\n",
    "class Simulate_observation():\n",
    "    def __init__(self,no_of_days):\n",
    "        self.no_of_days = no_of_days\n",
    "        self.observations = []\n",
    "        self.total_transaction = 0\n",
    "        \n",
    "    def simulation(self):\n",
    "        for i in range(self.no_of_days):\n",
    "            daily_stock_market = Daily_stockmarket()\n",
    "            daily_stock_market.populate_stock_market_daily_transaction()\n",
    "            self.observations.append(daily_stock_market.return_total_no_of_daily_transactions())\n",
    "            self.total_transaction += daily_stock_market.return_total_no_of_daily_transactions()\n",
    "        \n",
    "        print (\"Total number of Stock Transactions: \" + str(self.total_transaction))\n",
    "        \n",
    "    def return_observations(self):\n",
    "        return self.observations\n",
    "    \n",
    "    def return_total_transaction(self):\n",
    "        return self.total_transaction\n",
    "\n",
    "# Main\n",
    "if __name__ == \"__main__\":\n",
    "    year = 365\n",
    "    five_years = 5*year\n",
    "    ten_years = 2*five_years\n",
    "    simulate = Simulate_observation(ten_years)\n",
    "    simulate.simulation()\n",
    "    \n",
    "    average_daily_transaction = simulate.return_total_transaction() / ten_years\n",
    "    median_daily_transaction = np.median(simulate.return_observations())\n",
    "    standard_deviation = np.std(simulate.return_observations())\n",
    "    \n",
    "    print (\"Standard Deviation:\", standard_deviation)\n",
    "    print (\"Median Daily Transactionn:\", median_daily_transaction)\n",
    "    print (\"Average Daily Transactionn:\", average_daily_transaction)\n",
    "    \n",
    "    num_bins = 25\n",
    "    plt.xlabel('Transaction Deviation')\n",
    "    plt.ylabel('Number of Days')\n",
    "    plt.title('Histogram of Stock Market Standard Deviation')\n",
    "    plt.hist(simulate.return_observations(),num_bins,facecolor='orange')\n",
    "    plt.show()"
   ]
  },
  {
   "cell_type": "code",
   "execution_count": null,
   "metadata": {},
   "outputs": [],
   "source": []
  }
 ],
 "metadata": {
  "kernelspec": {
   "display_name": "Python 3",
   "language": "python",
   "name": "python3"
  },
  "language_info": {
   "codemirror_mode": {
    "name": "ipython",
    "version": 3
   },
   "file_extension": ".py",
   "mimetype": "text/x-python",
   "name": "python",
   "nbconvert_exporter": "python",
   "pygments_lexer": "ipython3",
   "version": "3.6.5"
  }
 },
 "nbformat": 4,
 "nbformat_minor": 1
}
