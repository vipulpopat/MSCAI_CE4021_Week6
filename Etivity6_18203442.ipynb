{
 "cells": [
  {
   "cell_type": "markdown",
   "metadata": {},
   "source": [
    "**Student Name:** Andrew Kenny\n",
    "\n",
    "**Student ID:** 18203442\n",
    "\n",
    "**Task:** Describe a simple problem that contains a chance element. Use a continuous random variable or a discrete random variable. Use a normal distribution or a uniform distribution.\n",
    "\n",
    "Write Python code to:\n",
    "- Simulate an experiment with your problem. The simulation can include a simulated action (e.g. rolling dice) or a simulated observation (e.g. observing rain or sunshine). \n",
    "- Run the experiment a sufficient number of times to allow for calculations\n",
    "- Calculate the expected value of your random variable\n",
    "- Calculate the standard deviation of your random variable\n",
    "- Plot the distribution found in your simulated experiment"
   ]
  },
  {
   "cell_type": "markdown",
   "metadata": {},
   "source": [
    "### Problem Description\n",
    "\n",
    "The more times that a coin is flipped, the closer it should get to a 50/50 split of heads and tails. \n",
    "\n",
    "This experiment will simulate a coin flip 100 times, 1000 times and 10000 times and calculate the probability of landing on heads to identify whether the probability increases with the number of simulated flips.\n",
    "\n",
    "Discrete variable as is countable in a finite amount of time.\n",
    "\n",
    "Uniform distribution as landing on heads or tails is equally likely."
   ]
  },
  {
   "cell_type": "markdown",
   "metadata": {},
   "source": [
    "### Experiments"
   ]
  },
  {
   "cell_type": "code",
   "execution_count": 146,
   "metadata": {
    "collapsed": true
   },
   "outputs": [],
   "source": [
    "# Import modules\n",
    "\n",
    "import numpy as np\n",
    "import random as random\n",
    "import matplotlib.pyplot as plt"
   ]
  },
  {
   "cell_type": "code",
   "execution_count": 151,
   "metadata": {
    "collapsed": false
   },
   "outputs": [],
   "source": [
    "# Experiment 1 - 100 Coin Flips\n",
    "\n",
    "N = 100\n",
    "\n",
    "# Simulates Coin Flipping where 1 = Heads and 0 = Tails\n",
    "exp1_flip = np.random.choice([1, 0], N)\n",
    "# Stores Results\n",
    "exp1_results = np.bincount(exp1_flip)\n",
    "# Calculates Probability of landing on Heads\n",
    "exp1_heads =  exp1_results[1]/N"
   ]
  },
  {
   "cell_type": "code",
   "execution_count": 152,
   "metadata": {
    "collapsed": false
   },
   "outputs": [],
   "source": [
    "# Experiment 2 - 1000 Coin Flips\n",
    "\n",
    "N = 1000\n",
    "\n",
    "exp2_flip = np.random.choice([1, 0], N)\n",
    "exp2_results = np.bincount(exp2_flip)\n",
    "exp2_heads =  exp2_results[1]/N"
   ]
  },
  {
   "cell_type": "code",
   "execution_count": 153,
   "metadata": {
    "collapsed": false
   },
   "outputs": [],
   "source": [
    "# Experiment 3 - 10000 Coin Flips\n",
    "\n",
    "N = 10000\n",
    "\n",
    "exp3_flip = np.random.choice([1, 0], N)\n",
    "exp3_results = np.bincount(exp3_flip)\n",
    "exp3_heads =  exp3_results[1]/N"
   ]
  },
  {
   "cell_type": "markdown",
   "metadata": {},
   "source": [
    "### Outputs & Graphs"
   ]
  },
  {
   "cell_type": "code",
   "execution_count": 154,
   "metadata": {
    "collapsed": false
   },
   "outputs": [
    {
     "name": "stdout",
     "output_type": "stream",
     "text": [
      "#####################################################################\n",
      "EXPERIMENT 1 - 100 COIN FLIPS\n",
      "#####################################################################\n",
      "100 coinflips returns [No. Tails], [No. Heads]:  [56 44]\n",
      "The probability of landing on heads is:  0.44\n",
      "The Standard Deviation is:  0.4963869458396343\n",
      "---------------------------------------------------------------------\n",
      "Experiment 1 Histrogram\n",
      "---------------------------------------------------------------------\n"
     ]
    },
    {
     "data": {
      "image/png": "[encoded data removed]",
      "text/plain": [
       "<Figure size 432x288 with 1 Axes>"
      ]
     },
     "metadata": {},
     "output_type": "display_data"
    },
    {
     "name": "stdout",
     "output_type": "stream",
     "text": [
      "#####################################################################\n",
      "EXPERIMENT 2 - 1000 COIN FLIPS\n",
      "#####################################################################\n",
      "1000 coinflips returns [No. Tails], [No. Heads]:  [490 510]\n",
      "The probability of landing on heads is:  0.51\n",
      "The Standard Deviation is  0.4998999899979995\n",
      "---------------------------------------------------------------------\n",
      "Experiment 2 Histrogram\n",
      "---------------------------------------------------------------------\n"
     ]
    },
    {
     "data": {
      "image/png": "[encoded data removed]",
      "text/plain": [
       "<Figure size 432x288 with 1 Axes>"
      ]
     },
     "metadata": {},
     "output_type": "display_data"
    },
    {
     "name": "stdout",
     "output_type": "stream",
     "text": [
      "#####################################################################\n",
      "EXPERIMENT 3 - 10000 COIN FLIPS\n",
      "#####################################################################\n",
      "1000 coinflips returns [No. Tails], [No. Heads]:  [5033 4967]\n",
      "The probability of landing on heads is:  0.4967\n",
      "The Standard Deviation is:  0.4999891098814053\n",
      "---------------------------------------------------------------------\n",
      "Experiment 3 Histrogram\n",
      "---------------------------------------------------------------------\n"
     ]
    },
    {
     "data": {
      "image/png": "[encoded data removed]",
      "text/plain": [
       "<Figure size 432x288 with 1 Axes>"
      ]
     },
     "metadata": {},
     "output_type": "display_data"
    }
   ],
   "source": [
    "print(\"#####################################################################\")\n",
    "print(\"EXPERIMENT 1 - 100 COIN FLIPS\")\n",
    "print(\"#####################################################################\")\n",
    "print(\"100 coinflips returns [No. Tails], [No. Heads]: \", exp1_results)\n",
    "print(\"The probability of landing on heads is: \", exp1_heads)\n",
    "print(\"The Standard Deviation is: \", np.std(exp1_flip))\n",
    "\n",
    "print(\"---------------------------------------------------------------------\")\n",
    "print(\"Experiment 1 Histrogram\")\n",
    "print(\"---------------------------------------------------------------------\")\n",
    "num_bins = 3\n",
    "plt.hist(exp1_flip, num_bins, facecolor='blue')\n",
    "plt.title(\"Distribution of Heads & Tails (100 Flips)\")\n",
    "plt.show()\n",
    "\n",
    "print(\"#####################################################################\")\n",
    "print(\"EXPERIMENT 2 - 1000 COIN FLIPS\")\n",
    "print(\"#####################################################################\")\n",
    "print(\"1000 coinflips returns [No. Tails], [No. Heads]: \", exp2_results)\n",
    "print(\"The probability of landing on heads is: \", exp2_heads)\n",
    "print(\"The Standard Deviation is \", np.std(exp2_flip))\n",
    "\n",
    "print(\"---------------------------------------------------------------------\")\n",
    "print(\"Experiment 2 Histrogram\")\n",
    "print(\"---------------------------------------------------------------------\")\n",
    "num_bins = 3\n",
    "plt.hist(exp2_flip, num_bins, facecolor='green')\n",
    "plt.title(\"Distribution of Heads & Tails (1,000 Flips)\")\n",
    "plt.show()\n",
    "\n",
    "print(\"#####################################################################\")\n",
    "print(\"EXPERIMENT 3 - 10000 COIN FLIPS\")\n",
    "print(\"#####################################################################\")\n",
    "print(\"1000 coinflips returns [No. Tails], [No. Heads]: \", exp3_results)\n",
    "print(\"The probability of landing on heads is: \", exp3_heads)\n",
    "print(\"The Standard Deviation is: \", np.std(exp3_flip))\n",
    "\n",
    "print(\"---------------------------------------------------------------------\")\n",
    "print(\"Experiment 3 Histrogram\")\n",
    "print(\"---------------------------------------------------------------------\")\n",
    "num_bins = 3\n",
    "plt.hist(exp3_flip, num_bins, facecolor='red')\n",
    "plt.title(\"Distribution of Heads & Tails (10,000 Flips)\")\n",
    "plt.show()"
   ]
  },
  {
   "cell_type": "markdown",
   "metadata": {},
   "source": [
    "### Results\n",
    "\n",
    "The simulated coinflips return a probability of landing on heads of: 0.44, 0.51 and 0.49999 for 100, 1000 and 10000 flips respectively. This supports the hypothesis that the more times that a coin is flipped, the closer it should be to a 50/50 split of heads and tails."
   ]
  }
 ],
 "metadata": {
  "kernelspec": {
   "display_name": "Python 3.6",
   "language": "python",
   "name": "python3.6"
  }
 },
 "nbformat": 4,
 "nbformat_minor": 0
}
