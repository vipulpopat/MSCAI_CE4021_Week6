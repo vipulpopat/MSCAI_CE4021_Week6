{
 "cells": [
  {
   "cell_type": "markdown",
   "metadata": {},
   "source": [
    "#Student Name: Gerard Kerley\n",
    "#Student ID: 18195229"
   ]
  },
  {
   "cell_type": "markdown",
   "metadata": {},
   "source": [
    "### Task (Complete by Saturday Week 6)\n",
    "- Describe a simple problem that contains a chance element.\n",
    "- Use a continuous random variable or a discrete random variable.\n",
    "- Use a normal distribution or a uniform distribution.\n",
    "- Write Python code to simulate an experiment with your problem.\n",
    "- The simulation can include a simulated action (e.g. rolling dice) or a simulated observation (e.g. observing rain or sunshine). \n",
    "\n",
    "The code should run the experiment a sufficient number of times such that you can calculate/approximate the following:\n",
    "\n",
    "- The expected value of your random variable.\n",
    "- The standard deviation of your random variable.\n",
    "- Plot the distribution found in your simulated experiment\n",
    " \n",
    "You may only use the following modules:\n",
    "- Random\n",
    "- Numpy\n",
    "- Matplotlib\n",
    "You are not required to perform exception handling or tests.\n",
    "\n",
    "GIT push your implementation and post the description of your problem to E-tivity 6: Probability Theory.\n",
    "\n",
    "- Include calculated values of points 1 and 2 above.\n",
    "- Provide a link to your branch."
   ]
  },
  {
   "cell_type": "markdown",
   "metadata": {},
   "source": [
    "## Experiment"
   ]
  },
  {
   "cell_type": "markdown",
   "metadata": {},
   "source": [
    "Rolling 2 unbiased 6-sided dice"
   ]
  },
  {
   "cell_type": "code",
   "execution_count": 1,
   "metadata": {
    "collapsed": true
   },
   "outputs": [],
   "source": [
    "import random\n",
    "import numpy as np\n",
    "import matplotlib.pyplot as plt"
   ]
  },
  {
   "cell_type": "code",
   "execution_count": 2,
   "metadata": {
    "collapsed": false
   },
   "outputs": [
    {
     "name": "stdout",
     "output_type": "stream",
     "text": [
      "First 20 throws: [9, 8, 6, 6, 6, 7, 7, 10, 8, 7, 6, 4, 7, 8, 6, 8, 7, 3, 9, 6] ...\n"
     ]
    }
   ],
   "source": [
    "trials = 100000\n",
    "sample_space = []\n",
    "\n",
    "def dice_roll():\n",
    "    return random.randint(1,6)\n",
    "\n",
    "for i in range(trials):\n",
    "    sample_space.append(dice_roll() + dice_roll())\n",
    "\n",
    "print (\"First 20 throws: {} ...\".format(sample_space[:20]))"
   ]
  },
  {
   "cell_type": "markdown",
   "metadata": {},
   "source": [
    "## Outputs"
   ]
  },
  {
   "cell_type": "code",
   "execution_count": 3,
   "metadata": {
    "collapsed": false
   },
   "outputs": [
    {
     "name": "stdout",
     "output_type": "stream",
     "text": [
      "Expected value (mean): 6.99682\n",
      "Sample Standard Deviation: 2.4201136104736904\n"
     ]
    }
   ],
   "source": [
    "print (\"Expected value (mean): {}\".format(np.mean(sample_space)))\n",
    "print (\"Sample Standard Deviation: {}\".format(np.std(sample_space)))"
   ]
  },
  {
   "cell_type": "markdown",
   "metadata": {},
   "source": [
    "## Graphs"
   ]
  },
  {
   "cell_type": "code",
   "execution_count": 4,
   "metadata": {
    "collapsed": false
   },
   "outputs": [
    {
     "data": {
      "image/png": "[encoded data removed]",
      "text/plain": [
       "<Figure size 432x288 with 1 Axes>"
      ]
     },
     "metadata": {},
     "output_type": "display_data"
    }
   ],
   "source": [
    "num_bins = 11\n",
    "plt.title(\"2 dice roll experiment\")\n",
    "plt.xlabel('Total of 2 dice')\n",
    "plt.ylabel('Number of occurences')\n",
    "plt.hist(sample_space, num_bins, facecolor='green')\n",
    "plt.show()"
   ]
  },
  {
   "cell_type": "markdown",
   "metadata": {
    "collapsed": true
   },
   "source": [
    "The outcome is a normal distribution"
   ]
  },
  {
   "cell_type": "code",
   "execution_count": null,
   "metadata": {
    "collapsed": true
   },
   "outputs": [],
   "source": []
  }
 ],
 "metadata": {
  "kernelspec": {
   "display_name": "Python 3.6",
   "language": "python",
   "name": "python3.6"
  },
  "language_info": {
   "codemirror_mode": {
    "name": "ipython",
    "version": 3
   },
   "file_extension": ".py",
   "mimetype": "text/x-python",
   "name": "python",
   "nbconvert_exporter": "python",
   "pygments_lexer": "ipython3",
   "version": "3.6.6"
  }
 },
 "nbformat": 4,
 "nbformat_minor": 0
}
