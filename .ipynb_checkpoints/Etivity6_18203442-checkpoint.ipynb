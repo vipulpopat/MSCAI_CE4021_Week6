{
 "cells": [
  {
   "cell_type": "markdown",
   "metadata": {},
   "source": [
    "**Student Name:** Andrew Kenny\n",
    "\n",
    "**Student ID:** 18203442\n",
    "\n",
    "**Task:** Describe a simple problem that contains a chance element. Use a continuous random variable or a discrete random variable. Use a normal distribution or a uniform distribution.\n",
    "\n",
    "Write Python code to:\n",
    "- Simulate an experiment with your problem.\n",
    "- Run the experiment a sufficient number of times to allow for calculations\n",
    "- Calculate the expected value of your random variable\n",
    "- Calculate the standard deviation of your random variable\n",
    "- Plot the distribution found in your simulated experiment\n",
    "\n",
    "**Acknowledgement:** Mark Murnane for suggestion to create a function to run the experiment (see under original code)"
   ]
  },
  {
   "cell_type": "markdown",
   "metadata": {},
   "source": [
    "### Problem Description\n",
    "\n",
    "The more times that a coin is flipped, the closer it should get to a 50/50 split of heads and tails. \n",
    "\n",
    "This experiment will simulate a coin flip 100 times, 1000 times and 10000 times and calculate the probability of landing on heads to identify whether the probability increases with the number of simulated flips.\n",
    "\n",
    "Discrete variable as is countable in a finite amount of time.\n",
    "\n",
    "Uniform distribution as landing on heads or tails is equally likely."
   ]
  },
  {
   "cell_type": "markdown",
   "metadata": {},
   "source": [
    "### Experiments"
   ]
  },
  {
   "cell_type": "code",
   "execution_count": 165,
   "metadata": {
    "collapsed": true
   },
   "outputs": [],
   "source": [
    "# Import modules\n",
    "\n",
    "import numpy as np\n",
    "import random as random\n",
    "import matplotlib.pyplot as plt"
   ]
  },
  {
   "cell_type": "code",
   "execution_count": 170,
   "metadata": {
    "collapsed": false
   },
   "outputs": [],
   "source": [
    "# Experiment 1 - 100 Coin Flips\n",
    "\n",
    "N = 100\n",
    "\n",
    "# Simulates Coin Flipping where 1 = Heads and 0 = Tails\n",
    "exp1_flip = np.random.choice([1, 0], N)\n",
    "# Stores Results\n",
    "exp1_results = np.bincount(exp1_flip)\n",
    "# Calculates Probability of landing on Heads\n",
    "exp1_heads =  exp1_results[1]/N"
   ]
  },
  {
   "cell_type": "code",
   "execution_count": 171,
   "metadata": {
    "collapsed": false
   },
   "outputs": [],
   "source": [
    "# Experiment 2 - 1000 Coin Flips\n",
    "\n",
    "N = 1000\n",
    "\n",
    "exp2_flip = np.random.choice([1, 0], N)\n",
    "exp2_results = np.bincount(exp2_flip)\n",
    "exp2_heads =  exp2_results[1]/N"
   ]
  },
  {
   "cell_type": "code",
   "execution_count": 172,
   "metadata": {
    "collapsed": false
   },
   "outputs": [],
   "source": [
    "# Experiment 3 - 10000 Coin Flips\n",
    "\n",
    "N = 10000\n",
    "\n",
    "exp3_flip = np.random.choice([1, 0], N)\n",
    "exp3_results = np.bincount(exp3_flip)\n",
    "exp3_heads =  exp3_results[1]/N"
   ]
  },
  {
   "cell_type": "markdown",
   "metadata": {},
   "source": [
    "### Outputs & Graphs"
   ]
  },
  {
   "cell_type": "code",
   "execution_count": 173,
   "metadata": {
    "collapsed": false
   },
   "outputs": [
    {
     "name": "stdout",
     "output_type": "stream",
     "text": [
      "#####################################################################\n",
      "EXPERIMENT 1 - 100 COIN FLIPS\n",
      "#####################################################################\n",
      "100 coinflips returns [No. Tails], [No. Heads]:  [47 53]\n",
      "The probability of landing on heads is:  0.53\n",
      "The Standard Deviation is:  0.49909918853871116\n",
      "---------------------------------------------------------------------\n",
      "Experiment 1 Histrogram\n",
      "---------------------------------------------------------------------\n"
     ]
    },
    {
     "data": {
      "image/png": "[encoded data removed]",
      "text/plain": [
       "<Figure size 432x288 with 1 Axes>"
      ]
     },
     "metadata": {},
     "output_type": "display_data"
    },
    {
     "name": "stdout",
     "output_type": "stream",
     "text": [
      "#####################################################################\n",
      "EXPERIMENT 2 - 1000 COIN FLIPS\n",
      "#####################################################################\n",
      "1000 coinflips returns [No. Tails], [No. Heads]:  [529 471]\n",
      "The probability of landing on heads is:  0.471\n",
      "The Standard Deviation is  0.4991582915268462\n",
      "---------------------------------------------------------------------\n",
      "Experiment 2 Histrogram\n",
      "---------------------------------------------------------------------\n"
     ]
    },
    {
     "data": {
      "image/png": "[encoded data removed]",
      "text/plain": [
       "<Figure size 432x288 with 1 Axes>"
      ]
     },
     "metadata": {},
     "output_type": "display_data"
    },
    {
     "name": "stdout",
     "output_type": "stream",
     "text": [
      "#####################################################################\n",
      "EXPERIMENT 3 - 10000 COIN FLIPS\n",
      "#####################################################################\n",
      "1000 coinflips returns [No. Tails], [No. Heads]:  [5018 4982]\n",
      "The probability of landing on heads is:  0.4982\n",
      "The Standard Deviation is:  0.4999967599895024\n",
      "---------------------------------------------------------------------\n",
      "Experiment 3 Histrogram\n",
      "---------------------------------------------------------------------\n"
     ]
    },
    {
     "data": {
      "image/png": "[encoded data removed]",
      "text/plain": [
       "<Figure size 432x288 with 1 Axes>"
      ]
     },
     "metadata": {},
     "output_type": "display_data"
    }
   ],
   "source": [
    "print(\"#####################################################################\")\n",
    "print(\"EXPERIMENT 1 - 100 COIN FLIPS\")\n",
    "print(\"#####################################################################\")\n",
    "print(\"100 coinflips returns [No. Tails], [No. Heads]: \", exp1_results)\n",
    "print(\"The probability of landing on heads is: \", exp1_heads)\n",
    "print(\"The Standard Deviation is: \", np.std(exp1_flip))\n",
    "\n",
    "print(\"---------------------------------------------------------------------\")\n",
    "print(\"Experiment 1 Histrogram\")\n",
    "print(\"---------------------------------------------------------------------\")\n",
    "num_bins = 3\n",
    "plt.hist(exp1_flip, num_bins, facecolor='blue')\n",
    "plt.title(\"Distribution of Heads & Tails (100 Flips)\")\n",
    "plt.show()\n",
    "\n",
    "print(\"#####################################################################\")\n",
    "print(\"EXPERIMENT 2 - 1000 COIN FLIPS\")\n",
    "print(\"#####################################################################\")\n",
    "print(\"1000 coinflips returns [No. Tails], [No. Heads]: \", exp2_results)\n",
    "print(\"The probability of landing on heads is: \", exp2_heads)\n",
    "print(\"The Standard Deviation is \", np.std(exp2_flip))\n",
    "\n",
    "print(\"---------------------------------------------------------------------\")\n",
    "print(\"Experiment 2 Histrogram\")\n",
    "print(\"---------------------------------------------------------------------\")\n",
    "num_bins = 3\n",
    "plt.hist(exp2_flip, num_bins, facecolor='green')\n",
    "plt.title(\"Distribution of Heads & Tails (1,000 Flips)\")\n",
    "plt.show()\n",
    "\n",
    "print(\"#####################################################################\")\n",
    "print(\"EXPERIMENT 3 - 10000 COIN FLIPS\")\n",
    "print(\"#####################################################################\")\n",
    "print(\"1000 coinflips returns [No. Tails], [No. Heads]: \", exp3_results)\n",
    "print(\"The probability of landing on heads is: \", exp3_heads)\n",
    "print(\"The Standard Deviation is: \", np.std(exp3_flip))\n",
    "\n",
    "print(\"---------------------------------------------------------------------\")\n",
    "print(\"Experiment 3 Histrogram\")\n",
    "print(\"---------------------------------------------------------------------\")\n",
    "num_bins = 3\n",
    "plt.hist(exp3_flip, num_bins, facecolor='red')\n",
    "plt.title(\"Distribution of Heads & Tails (10,000 Flips)\")\n",
    "plt.show()"
   ]
  },
  {
   "cell_type": "markdown",
   "metadata": {},
   "source": [
    "### Coin Flip Function"
   ]
  },
  {
   "cell_type": "code",
   "execution_count": 174,
   "metadata": {
    "collapsed": false
   },
   "outputs": [],
   "source": [
    "def coin_flip(num_flips):\n",
    "    \"\"\"Function to simulate a coin flip for x number of times that returns:\n",
    "    1. Probability of landing on heads\n",
    "    2. Standard Deviation\n",
    "    \"\"\"\n",
    "    prob_heads = 0\n",
    "    \n",
    "    flip = np.random.choice([1, 0], num_flips)\n",
    "    results = np.bincount(flip)\n",
    "    prob_heads = results[1]/num_flips\n",
    "    stdev = np.std(flip)\n",
    "    return prob_heads, stdev"
   ]
  },
  {
   "cell_type": "markdown",
   "metadata": {},
   "source": [
    "### Function Ouputs"
   ]
  },
  {
   "cell_type": "code",
   "execution_count": 175,
   "metadata": {
    "collapsed": false
   },
   "outputs": [
    {
     "name": "stdout",
     "output_type": "stream",
     "text": [
      "#############################################################################################\n",
      "EXPERIMENT 1 - 100 COIN FLIPS\n",
      "---------------------------------------------------------------------------------------------\n",
      "Coin Flip Results (Probability of Heads, Standard Deviation):  (0.56, 0.4963869458396343)\n",
      "#############################################################################################\n",
      "EXPERIMENT 2 - 1000 COIN FLIPS\n",
      "---------------------------------------------------------------------------------------------\n",
      "Coin Flip Results (Probability of Heads, Standard Deviation):  (0.525, 0.4993746088859544)\n",
      "#############################################################################################\n",
      "EXPERIMENT 3 - 10000 COIN FLIPS\n",
      "---------------------------------------------------------------------------------------------\n",
      "Coin Flip Results (Probability of Heads, Standard Deviation):  (0.5082, 0.49993275547817423)\n"
     ]
    }
   ],
   "source": [
    "print(\"#############################################################################################\")\n",
    "print(\"EXPERIMENT 1 - 100 COIN FLIPS\")\n",
    "print(\"---------------------------------------------------------------------------------------------\")\n",
    "print(\"Coin Flip Results (Probability of Heads, Standard Deviation): \", coin_flip(100))\n",
    "\n",
    "print(\"#############################################################################################\")\n",
    "print(\"EXPERIMENT 2 - 1000 COIN FLIPS\")\n",
    "print(\"---------------------------------------------------------------------------------------------\")\n",
    "print(\"Coin Flip Results (Probability of Heads, Standard Deviation): \", coin_flip(1000))\n",
    "\n",
    "print(\"#############################################################################################\")\n",
    "print(\"EXPERIMENT 3 - 10000 COIN FLIPS\")\n",
    "print(\"---------------------------------------------------------------------------------------------\")\n",
    "print(\"Coin Flip Results (Probability of Heads, Standard Deviation): \", coin_flip(10000))"
   ]
  }
 ],
 "metadata": {
  "kernelspec": {
   "display_name": "Python 3.6",
   "language": "python",
   "name": "python3.6"
  },
  "language_info": {
   "codemirror_mode": {
    "name": "ipython",
    "version": 3
   },
   "file_extension": ".py",
   "mimetype": "text/x-python",
   "name": "python",
   "nbconvert_exporter": "python",
   "pygments_lexer": "ipython3",
   "version": "3.6.6"
  }
 },
 "nbformat": 4,
 "nbformat_minor": 0
}
