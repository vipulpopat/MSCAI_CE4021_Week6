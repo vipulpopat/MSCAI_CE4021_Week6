{
 "cells": [
  {
   "cell_type": "markdown",
   "metadata": {},
   "source": [
    "**Student Name:** Andrew Kenny\n",
    "\n",
    "**Student ID:** 18203442\n",
    "\n",
    "**Task:** Describe a simple problem that contains a chance element. Use a continuous random variable or a discrete random variable. Use a normal distribution or a uniform distribution.\n",
    "\n",
    "Write Python code to:\n",
    "- Simulate an experiment with your problem. The simulation can include a simulated action (e.g. rolling dice) or a simulated observation (e.g. observing rain or sunshine). \n",
    "- Run the experiment a sufficient number of times to allow for calculations\n",
    "- Calculate the expected value of your random variable\n",
    "- Calculate the standard deviation of your random variable\n",
    "- Plot the distribution found in your simulated experiment"
   ]
  },
  {
   "cell_type": "markdown",
   "metadata": {},
   "source": [
    "### Problem Description\n",
    "\n",
    "The more times that a coin is flipped, the closer it should get to a 50/50 split for heads and tails. This experiment will simulate a coin flip 10 times, 100 times, 500 times and 1000 times to confirm this.\n",
    "\n",
    "Discrete variable as is countable in a finite amount of time.\n",
    "\n",
    "Uniform distribution as landing on heads or tails is equally likely."
   ]
  },
  {
   "cell_type": "markdown",
   "metadata": {},
   "source": [
    "### Experiment"
   ]
  },
  {
   "cell_type": "code",
   "execution_count": 2,
   "metadata": {
    "collapsed": true
   },
   "outputs": [],
   "source": [
    "# Import modules\n",
    "\n",
    "import numpy as np\n",
    "import random as random\n",
    "import matplotlib.pyplot as plt"
   ]
  },
  {
   "cell_type": "code",
   "execution_count": 20,
   "metadata": {
    "collapsed": false
   },
   "outputs": [],
   "source": [
    "# Simulate Coin Flipping\n",
    "\n",
    "coin_flip = np.random.choice([1, 0], N)\n",
    "results = np.bincount(coin_flip)"
   ]
  },
  {
   "cell_type": "code",
   "execution_count": 21,
   "metadata": {
    "collapsed": true
   },
   "outputs": [],
   "source": [
    "# Run Experiment\n",
    "\n",
    "\n",
    "# Calculations\n",
    "\n",
    "heads_ratio = results[1]/N\n",
    "\n",
    "N = 100\n",
    "results = []\n",
    "\n"
   ]
  },
  {
   "cell_type": "markdown",
   "metadata": {},
   "source": [
    "### Outputs & Graphs"
   ]
  },
  {
   "cell_type": "code",
   "execution_count": 22,
   "metadata": {
    "collapsed": false
   },
   "outputs": [
    {
     "name": "stdout",
     "output_type": "stream",
     "text": [
      "[0 0 0 0 1 0 0 0 0 0 1 1 0 1 1 1 1 0 0 1 1 1 1 0 1 1 1 0 0 1 0 1 1 1 1 0 1\n",
      " 1 0 0 0 0 1 0 0 0 1 1 0 0 1 1 1 1 1 1 0 1 0 1 1 0 0 1 0 0 0 1 1 1 0 0 0 1\n",
      " 1 0 0 0 0 1 1 1 1 0 0 0 0 1 0 1 1 1 1 1 0 1 0 0 1 0]\n",
      "0.51\n"
     ]
    }
   ],
   "source": [
    "print(coin_flip)\n",
    "print(heads_ratio)"
   ]
  },
  {
   "cell_type": "code",
   "execution_count": 123,
   "metadata": {
    "collapsed": false
   },
   "outputs": [
    {
     "data": {
      "image/png": "[encoded data removed]",
      "text/plain": [
       "<Figure size 432x288 with 1 Axes>"
      ]
     },
     "metadata": {},
     "output_type": "display_data"
    }
   ],
   "source": [
    "#You can use matplotlib to plot a histogram of a list of samples as follows:\n",
    "num_bins = 3\n",
    "plt.hist(heads_ratio, num_bins, facecolor='blue')\n",
    "plt.show()"
   ]
  },
  {
   "cell_type": "code",
   "execution_count": null,
   "metadata": {
    "collapsed": false
   },
   "outputs": [],
   "source": []
  },
  {
   "cell_type": "code",
   "execution_count": null,
   "metadata": {
    "collapsed": false
   },
   "outputs": [],
   "source": []
  },
  {
   "cell_type": "code",
   "execution_count": null,
   "metadata": {
    "collapsed": true
   },
   "outputs": [],
   "source": []
  }
 ],
 "metadata": {
  "kernelspec": {
   "display_name": "Python 3.6",
   "language": "python",
   "name": "python3.6"
  }
 },
 "nbformat": 4,
 "nbformat_minor": 0
}
