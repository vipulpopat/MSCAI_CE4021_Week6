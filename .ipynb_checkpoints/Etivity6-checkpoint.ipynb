{
 "cells": [
  {
   "cell_type": "markdown",
   "metadata": {},
   "source": [
    "#Student Name: Niall Tierney\n",
    "#Student ID:18200044"
   ]
  },
  {
   "cell_type": "code",
   "execution_count": 1,
   "metadata": {},
   "outputs": [],
   "source": [
    "import numpy as np\n",
    "import matplotlib.pyplot as plt\n",
    "%matplotlib inline\n",
    "\n",
    "\n",
    "n=10000\n",
    "#dice is from 1 to 6\n",
    "#to get values from normal in this range\n",
    "#I wrote mean with 3, then 99% values will vary from 3-3 (0) and 3+3 (6)\n",
    "dist=np.round(np.random.normal(3,1,10000))\n",
    "\n",
    "#calculating expected value, also called average\n",
    "exp_value=np.sum(dist)/n\n",
    "#calculating variance first, then get standard deviation\n",
    "sd=np.sum((dist-exp_value)**2)/n\n",
    "sd=np.sqrt(sd)"
   ]
  },
  {
   "cell_type": "code",
   "execution_count": 2,
   "metadata": {},
   "outputs": [
    {
     "name": "stdout",
     "output_type": "stream",
     "text": [
      "Expected value:  3.0072\n",
      "Standard deviation:  1.0384354385324106\n"
     ]
    },
    {
     "data": {
      "image/png": "[encoded data removed]",
      "text/plain": [
       "<Figure size 432x288 with 1 Axes>"
      ]
     },
     "metadata": {},
     "output_type": "display_data"
    }
   ],
   "source": [
    "print(\"Expected value: \",exp_value)\n",
    "print(\"Standard deviation: \",sd)\n",
    "\n",
    "\n",
    "num_bins = 6\n",
    "plt.hist(dist, num_bins, facecolor='blue')\n",
    "plt.xlabel('Bins')\n",
    "plt.ylabel('Frequency values of dice roll')\n",
    "plt.show()"
   ]
  },
  {
   "cell_type": "code",
   "execution_count": null,
   "metadata": {},
   "outputs": [],
   "source": []
  }
 ],
 "metadata": {
  "kernelspec": {
   "display_name": "Python 3",
   "language": "python",
   "name": "python3"
  },
  "language_info": {
   "codemirror_mode": {
    "name": "ipython",
    "version": 3
   },
   "file_extension": ".py",
   "mimetype": "text/x-python",
   "name": "python",
   "nbconvert_exporter": "python",
   "pygments_lexer": "ipython3",
   "version": "3.6.5"
  }
 },
 "nbformat": 4,
 "nbformat_minor": 1
}
