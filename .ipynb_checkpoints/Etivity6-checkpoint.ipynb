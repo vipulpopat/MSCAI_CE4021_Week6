{
 "cells": [
  {
   "cell_type": "markdown",
   "metadata": {},
   "source": [
    "#Student Name: Vipul Popat\n",
    "#Student ID:18195121"
   ]
  },
  {
   "cell_type": "markdown",
   "metadata": {},
   "source": [
    "**Problem Statement**\n",
    "\n",
    "When two dice are rolled, find the probability of getting a greater number on the first die than the one on the second, given that the sum should equal 8.\n",
    "\n",
    "**Solution**\n",
    "\n",
    "Let the event of getting a greater number on the first die be G.\n",
    "\n",
    "There are 5 ways to get a sum of 8 when two dice are rolled = {(2,6),(3,5),(4,4), (5,3),(6,2)}.\n",
    "\n",
    "And there are two ways where the number on the first die is greater than the one on the second given that the sum should equal 8, G = {(5,3), (6,2)}.\n",
    "\n",
    "Therefore, P(Sum equals 8) = 5/36 and P(G) = 2/36.\n",
    "\n",
    "Now, P(G|sum equals 8)         = P(G and sum equals 8)/P(sum equals 8)\n",
    "\n",
    "= (2/36)/(5/36)\n",
    "\n",
    "= 2/5"
   ]
  },
  {
   "cell_type": "code",
   "execution_count": 1,
   "metadata": {
    "collapsed": true
   },
   "outputs": [],
   "source": [
    "%matplotlib inline\n",
    "import numpy as np\n",
    "import random\n",
    "import matplotlib.pyplot as plt"
   ]
  },
  {
   "cell_type": "code",
   "execution_count": 11,
   "metadata": {
    "collapsed": true
   },
   "outputs": [],
   "source": [
    "def roll_dices(n):\n",
    "    '''This function simulates the rolling of two dices'''\n",
    "    rolls = []\n",
    "    for i in range(n):\n",
    "        roll_dice1 = random.choice([1,2,3,4,5,6])\n",
    "        roll_dice2 = random.choice([1,2,3,4,5,6])\n",
    "        rolls.append([roll_dice1, roll_dice2, roll_dice1 + roll_dice2])\n",
    "    return rolls\n"
   ]
  },
  {
   "cell_type": "code",
   "execution_count": 45,
   "metadata": {
    "collapsed": false
   },
   "outputs": [
    {
     "name": "stdout",
     "output_type": "stream",
     "text": [
      "Number of runs =  2000\n",
      "Number of samples =  12000\n",
      "Number of samples where sum = 8 =  1678\n",
      "Number of samples where sum = 8 and first dice > second dice =  656\n"
     ]
    }
   ],
   "source": [
    "number_of_runs = 2000\n",
    "samples = []\n",
    "count_of_sum_8 = 0\n",
    "count_of_sum_8_where_first_gt_second = 0\n",
    "\n",
    "for run in range(number_of_runs):\n",
    "    dices_roll = roll_dices(6)\n",
    "    samples.append(dices_roll)\n",
    "    \n",
    "sampleslist = [item for sublist in samples for item in sublist]\n",
    "\n",
    "sample_of_sum_8 = list(filter(lambda x: x[2] == 8, sampleslist))\n",
    "count_of_sum_8 = len(sample_of_sum_8)\n",
    "count_of_sum_8_where_first_gt_second = len(list(filter(lambda x: x[0] > x[1], sample_of_sum_8)))\n",
    "\n",
    "print(\"Number of runs = \", number_of_runs)\n",
    "print(\"Number of samples = \", len(sampleslist))\n",
    "print(\"Number of samples where sum = 8 = \", count_of_sum_8)\n",
    "print(\"Number of samples where sum = 8 and first dice > second dice = \", count_of_sum_8_where_first_gt_second)\n"
   ]
  },
  {
   "cell_type": "code",
   "execution_count": null,
   "metadata": {
    "collapsed": true
   },
   "outputs": [],
   "source": []
  },
  {
   "cell_type": "code",
   "execution_count": null,
   "metadata": {
    "collapsed": true
   },
   "outputs": [],
   "source": []
  }
 ],
 "metadata": {
  "kernelspec": {
   "display_name": "Python 3.6",
   "language": "python",
   "name": "python3.6"
  },
  "language_info": {
   "codemirror_mode": {
    "name": "ipython",
    "version": 3
   },
   "file_extension": ".py",
   "mimetype": "text/x-python",
   "name": "python",
   "nbconvert_exporter": "python",
   "pygments_lexer": "ipython3",
   "version": "3.6.6"
  }
 },
 "nbformat": 4,
 "nbformat_minor": 0
}
