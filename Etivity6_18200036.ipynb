{
 "cells": [
  {
   "cell_type": "markdown",
   "metadata": {},
   "source": [
    "## Student Name: Brian Parle\n",
    "## Student ID: 18200036\n",
    "\n",
    "#### Task (Complete by Saturday Week 6)\n",
    "Describe a simple problem that contains a chance element. Use a continuous random variable or a discrete random variable.Use a normal distribution or a uniform distribution.\n",
    "\n",
    "Write Python code to simulate an experiment with your problem. The simulation can include a simulated action (e.g. rolling dice) or a simulated observation (e.g. observing rain or sunshine). The code should run the experiment a sufficient number of times such that you can calculate/approximate the following:\n",
    "\n",
    "1. The expected value of your random variable.\n",
    "2. The standard deviation of your random variable.\n",
    "\n",
    "Additionally you should be able to:\n",
    "3. Plot the distribution found in your simulated experiment\n",
    " \n",
    "N.B.:\n",
    "- Use the Jupyter Notebook provided in the repository for week 6.\n",
    "- You do not need to encapsulate your code in functions or methods.\n",
    "- Structure your notebook as follows:\n",
    " * Markdown cell with problem description\n",
    " * Cell(s) with experiment\n",
    " * Cell(s) with outputs and graphs\n",
    "- You may only use the following modules:\n",
    " * Random\n",
    " * Numpy\n",
    " * Matplotlib\n",
    "- You are not required to perform exception handling.\n",
    "- You are not required to provide tests for your code.\n",
    "\n",
    "HINTS:\n",
    "- You can use matplotlib to plot a histogram of a list of samples as follows:\n",
    "\n",
    "num_bins = 21\n",
    "\n",
    "plt.hist(samples, num_bins, facecolor='blue')\n",
    "\n",
    "plt.show()\n",
    "\n",
    "GIT push your implementation and post the description of your problem to E-tivity 6: Probability Theory.\n",
    "- Include calculated values of points 1 and 2 above.\n",
    "- Provide a link to your branch.\n"
   ]
  },
  {
   "cell_type": "markdown",
   "metadata": {},
   "source": [
    "### Problem Statement\n",
    "Randomly pick numbers between 1 and 10.\n",
    "Use a uniform distribution.\n",
    "Explore the distribution at different sample sizes."
   ]
  },
  {
   "cell_type": "code",
   "execution_count": 48,
   "metadata": {},
   "outputs": [
    {
     "name": "stdout",
     "output_type": "stream",
     "text": [
      "Mean: 5.16\n",
      "Standard Deviation: 2.7846723326093503\n"
     ]
    }
   ],
   "source": [
    "# Run the Experiment\n",
    "import numpy as np\n",
    "import random as rand\n",
    "import matplotlib.pyplot as plt\n",
    "\n",
    "number_of_experiments = 100\n",
    "this_experiment = 0\n",
    "samples = []\n",
    "\n",
    "while (this_experiment < number_of_experiments):\n",
    "    samples.append(rand.randint(1,10))\n",
    "    this_experiment += 1\n",
    "\n",
    "#calculate expected value (mean)\n",
    "mean = np.mean(samples)\n",
    "print (\"Mean: {}\".format(mean))\n",
    "\n",
    "#calculate standard deviation\n",
    "std = np.std(samples)\n",
    "print (\"Standard Deviation: {}\".format(std))"
   ]
  },
  {
   "cell_type": "code",
   "execution_count": 49,
   "metadata": {},
   "outputs": [
    {
     "data": {
      "image/png": "[encoded data removed]",
      "text/plain": [
       "<Figure size 432x288 with 1 Axes>"
      ]
     },
     "metadata": {},
     "output_type": "display_data"
    }
   ],
   "source": [
    "# plot results\n",
    "#samples = [1,2,3,4,5,6,7,8,9,2,3,2,3,4,5,4,3,4,3,2,3,2,1,1,1,1]\n",
    "num_bins = 10 #10 bins for the numbers 1 to 10\n",
    "_,my_plot = plt.subplots()\n",
    "my_plot.set_title(\"Pick a number experiment\")\n",
    "my_plot.set_xlabel(\"Number picked\")\n",
    "my_plot.hist(samples, num_bins, facecolor='magenta')\n",
    "plt.show()"
   ]
  },
  {
   "cell_type": "code",
   "execution_count": null,
   "metadata": {},
   "outputs": [],
   "source": []
  }
 ],
 "metadata": {
  "kernelspec": {
   "display_name": "Python 3",
   "language": "python",
   "name": "python3"
  },
  "language_info": {
   "codemirror_mode": {
    "name": "ipython",
    "version": 3
   },
   "file_extension": ".py",
   "mimetype": "text/x-python",
   "name": "python",
   "nbconvert_exporter": "python",
   "pygments_lexer": "ipython3",
   "version": "3.6.5"
  }
 },
 "nbformat": 4,
 "nbformat_minor": 1
}
