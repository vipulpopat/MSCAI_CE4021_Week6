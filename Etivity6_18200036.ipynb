{
 "cells": [
  {
   "cell_type": "markdown",
   "metadata": {},
   "source": [
    "## Student Name: Brian Parle\n",
    "## Student ID: 18200036\n",
    "\n",
    "#### Task (Complete by Saturday Week 6)\n",
    "Describe a simple problem that contains a chance element. Use a continuous random variable or a discrete random variable.Use a normal distribution or a uniform distribution.\n",
    "\n",
    "Write Python code to simulate an experiment with your problem. The simulation can include a simulated action (e.g. rolling dice) or a simulated observation (e.g. observing rain or sunshine). The code should run the experiment a sufficient number of times such that you can calculate/approximate the following:\n",
    "\n",
    "1. The expected value of your random variable.\n",
    "2. The standard deviation of your random variable.\n",
    "\n",
    "Additionally you should be able to:\n",
    "3. Plot the distribution found in your simulated experiment\n",
    " \n",
    "N.B.:\n",
    "- Use the Jupyter Notebook provided in the repository for week 6.\n",
    "- You do not need to encapsulate your code in functions or methods.\n",
    "- Structure your notebook as follows:\n",
    " * Markdown cell with problem description\n",
    " * Cell(s) with experiment\n",
    " * Cell(s) with outputs and graphs\n",
    "- You may only use the following modules:\n",
    " * Random\n",
    " * Numpy\n",
    " * Matplotlib\n",
    "- You are not required to perform exception handling.\n",
    "- You are not required to provide tests for your code.\n",
    "\n",
    "HINTS:\n",
    "- You can use matplotlib to plot a histogram of a list of samples as follows:\n",
    "\n",
    "num_bins = 21\n",
    "\n",
    "plt.hist(samples, num_bins, facecolor='blue')\n",
    "\n",
    "plt.show()\n",
    "\n",
    "GIT push your implementation and post the description of your problem to E-tivity 6: Probability Theory.\n",
    "- Include calculated values of points 1 and 2 above.\n",
    "- Provide a link to your branch.\n"
   ]
  },
  {
   "cell_type": "markdown",
   "metadata": {},
   "source": [
    "### Problem Statement\n",
    "Randomly pick numbers between 1 and 10.\n",
    "Use a uniform distribution.\n",
    "Explore the distribution at different sample sizes.\n",
    "\n",
    "#### Reflection\n",
    "I added some additional plot details including adding lines for the mean and +/- std deviations (inspiration from Mark Murnane)\n",
    "I also produced a second dataset of the occurrence of duplicates.\n",
    "I decided to keep the solution fairly simple "
   ]
  },
  {
   "cell_type": "code",
   "execution_count": 77,
   "metadata": {},
   "outputs": [
    {
     "name": "stdout",
     "output_type": "stream",
     "text": [
      "Mean: 5.49284\n",
      "Standard Deviation: 2.8688619232023003\n",
      "Mean: 0.10171\n",
      "Standard Deviation: 0.3022665643103782\n"
     ]
    }
   ],
   "source": [
    "# Run the Experiment\n",
    "import numpy as np\n",
    "import random as rand\n",
    "import matplotlib.pyplot as plt\n",
    "\n",
    "number_of_experiments = 100000\n",
    "this_experiment = 0\n",
    "samples = []\n",
    "doubles=[]\n",
    "this_sample = None\n",
    "last_sample = None\n",
    "\n",
    "while (this_experiment < number_of_experiments):\n",
    "    this_sample = rand.randint(1,10)\n",
    "    samples.append(this_sample)\n",
    "    this_experiment += 1\n",
    "    #check for repeated values\n",
    "    if this_sample == last_sample:\n",
    "        doubles.append(1)\n",
    "    else:\n",
    "        doubles.append(0)\n",
    "    last_sample = this_sample\n",
    "\n",
    "#Calculate Mean.Stddev for Samples\n",
    "#calculate expected value (mean)\n",
    "mean = np.mean(samples)\n",
    "print (\"Mean: {}\".format(mean))\n",
    "#calculate standard deviation\n",
    "std = np.std(samples)\n",
    "print (\"Standard Deviation: {}\".format(std))\n",
    "\n",
    "#Calculate Mean,stddev for Doubles \n",
    "# - the probability that an element was a double is:\n",
    "#   0=element was not a double\n",
    "#.  1=element was a double\n",
    "#calculate expected value (mean)\n",
    "# Expectation that a number is the same as a previous number is 1/10 or 0.1\n",
    "mean_dbl = np.mean(doubles)\n",
    "print (\"Mean: {}\".format(mean_dbl))\n",
    "#calculate standard deviation\n",
    "std_dbl = np.std(doubles)\n",
    "print (\"Standard Deviation: {}\".format(std_dbl))"
   ]
  },
  {
   "cell_type": "code",
   "execution_count": 78,
   "metadata": {},
   "outputs": [
    {
     "data": {
      "image/png": "[encoded data removed]",
      "text/plain": [
       "<Figure size 432x288 with 1 Axes>"
      ]
     },
     "metadata": {},
     "output_type": "display_data"
    },
    {
     "data": {
      "image/png": "[encoded data removed]",
      "text/plain": [
       "<Figure size 432x288 with 1 Axes>"
      ]
     },
     "metadata": {},
     "output_type": "display_data"
    }
   ],
   "source": [
    "# plot sample results\n",
    "#samples = [1,2,3,4,5,6,7,8,9,2,3,2,3,4,5,4,3,4,3,2,3,2,1,1,1,1]\n",
    "my_bins = [0.5,1.5,2.5,3.5,4.5,5.5,6.5,7.5,8.5,9.5,10.5]\n",
    "my_xticks = [1,2,3,4,5,6,7,8,9,10]\n",
    "_,my_plot = plt.subplots()\n",
    "my_plot.set_title(\"Pick a number experiment\")\n",
    "my_plot.set_xlabel(\"Number picked\")\n",
    "my_plot.set_xticks(my_xticks)\n",
    "my_plot.axvline(mean, linestyle = '-', color='blue')\n",
    "my_plot.axvline(mean-std, linestyle='--',color='cyan')\n",
    "my_plot.axvline(mean+std, linestyle='--',color='cyan')\n",
    "density, _, _ = my_plot.hist(samples, my_bins, facecolor='magenta', rwidth=0.9)\n",
    "\n",
    "#plot second dataset of doubles\n",
    "_,my2_plot = plt.subplots()\n",
    "my2_plot.set_title(\"Occurrence of Doubles in Pick a number experiment\")\n",
    "my2_plot.set_xlabel(\"Doubles found\")\n",
    "my2_xticks = [0,1]\n",
    "my2_plot.set_xticks(my2_xticks)\n",
    "density2,_,_ = my2_plot.hist(doubles, facecolor='blue', bins=2)\n",
    "\n",
    "plt.show()\n"
   ]
  },
  {
   "cell_type": "code",
   "execution_count": 89,
   "metadata": {},
   "outputs": [
    {
     "name": "stdout",
     "output_type": "stream",
     "text": [
      "Probability of 0 = 9.968%\n",
      "Probability of 1 = 10.011000000000001%\n",
      "Probability of 2 = 10.14%\n",
      "Probability of 3 = 9.939%\n",
      "Probability of 4 = 10.027999999999999%\n",
      "Probability of 5 = 10.107%\n",
      "Probability of 6 = 9.936%\n",
      "Probability of 7 = 9.974%\n",
      "Probability of 8 = 9.978%\n",
      "Probability of 9 = 9.919%\n"
     ]
    }
   ],
   "source": [
    "#use the density array to print probability of each value being guessed\n",
    "density = density / (sum(density))\n",
    "for i in range(0,len(density)): \n",
    "    print('Probability of {} = {}%'.format(i,density[i]*100))"
   ]
  },
  {
   "cell_type": "code",
   "execution_count": null,
   "metadata": {},
   "outputs": [],
   "source": []
  },
  {
   "cell_type": "code",
   "execution_count": null,
   "metadata": {},
   "outputs": [],
   "source": []
  },
  {
   "cell_type": "code",
   "execution_count": null,
   "metadata": {},
   "outputs": [],
   "source": []
  }
 ],
 "metadata": {
  "kernelspec": {
   "display_name": "Python 3",
   "language": "python",
   "name": "python3"
  },
  "language_info": {
   "codemirror_mode": {
    "name": "ipython",
    "version": 3
   },
   "file_extension": ".py",
   "mimetype": "text/x-python",
   "name": "python",
   "nbconvert_exporter": "python",
   "pygments_lexer": "ipython3",
   "version": "3.6.5"
  }
 },
 "nbformat": 4,
 "nbformat_minor": 1
}
