{
 "cells": [
  {
   "cell_type": "markdown",
   "metadata": {},
   "source": [
    "#Student Name: Cathal Cronin\n",
    "#Student ID: 10131531\n",
    "\n",
    "### Problem Statement:\n",
    "\n",
    "- A box is filled with 21 balls. \n",
    "- There are 3 different coloured balls:\n",
    "    - 7 White\n",
    "    - 7 Blue\n",
    "    - 7 Green\n",
    "----\n",
    "\n",
    "- ### Picking 6 balls at random, what is the probability that you pick 3 White balls."
   ]
  },
  {
   "cell_type": "markdown",
   "metadata": {},
   "source": [
    "[Followed the following tutorial and took an adapted example](http://nbviewer.jupyter.org/url/norvig.com/ipython/Probability.ipynb) \n",
    "\n",
    "`Experiment`: An occurrence with an uncertain outcome that we can observe. \n",
    "\n",
    "- Picking 6 balls at random, what is the probability that you pick 3 White balls.\n",
    "\n",
    "`Outcome`: The result of an experiment; one particular state of the world. \n",
    "\n",
    "- An outcome is a set of 6 balls\n",
    "\n",
    "`Sample Space`: The set of all possible outcomes for the experiment. \n",
    "\n",
    "- The sample space is the set of all possible 6 ball combinations\n",
    "\n",
    "`Event`: A subset of possible outcomes that together have some property we are interested in. \n",
    "- Number of draws that contain 3 white balls\n",
    "\n",
    "`Probability`: The probability of an event occuring with regard to the sample size.\n",
    "- Number of draws that have 3 white balls divided by the total number of possible draws."
   ]
  },
  {
   "cell_type": "code",
   "execution_count": 1,
   "metadata": {},
   "outputs": [],
   "source": [
    "import itertools\n",
    "import numpy as np\n",
    "import random\n",
    "import matplotlib.pyplot as plt"
   ]
  },
  {
   "cell_type": "code",
   "execution_count": 2,
   "metadata": {},
   "outputs": [
    {
     "data": {
      "text/plain": [
       "{'B1',\n",
       " 'B2',\n",
       " 'B3',\n",
       " 'B4',\n",
       " 'B5',\n",
       " 'B6',\n",
       " 'B7',\n",
       " 'G1',\n",
       " 'G2',\n",
       " 'G3',\n",
       " 'G4',\n",
       " 'G5',\n",
       " 'G6',\n",
       " 'G7',\n",
       " 'W1',\n",
       " 'W2',\n",
       " 'W3',\n",
       " 'W4',\n",
       " 'W5',\n",
       " 'W6',\n",
       " 'W7'}"
      ]
     },
     "execution_count": 2,
     "metadata": {},
     "output_type": "execute_result"
    }
   ],
   "source": [
    "def gen_set(colour, num_balls):\n",
    "    \"\"\"Generate box of balls\"\"\"\n",
    "    return {col + str(ball_id) for col in colour  for ball_id in range(1, num_balls + 1)}\n",
    "\n",
    "box = gen_set('W', 7) | gen_set('B', 7) | gen_set('G', 7) \n",
    "\n",
    "box"
   ]
  },
  {
   "cell_type": "code",
   "execution_count": 3,
   "metadata": {},
   "outputs": [
    {
     "data": {
      "text/plain": [
       "21"
      ]
     },
     "execution_count": 3,
     "metadata": {},
     "output_type": "execute_result"
    }
   ],
   "source": [
    "len(box)"
   ]
  },
  {
   "cell_type": "code",
   "execution_count": 4,
   "metadata": {},
   "outputs": [
    {
     "data": {
      "text/plain": [
       "54264"
      ]
     },
     "execution_count": 4,
     "metadata": {},
     "output_type": "execute_result"
    }
   ],
   "source": [
    "# These are convience methods \n",
    "def find_prop_of_event(event, space): \n",
    "    \"The probability of an event, given a sample space of all outcomes.\"\n",
    "    return len(event & space) / len(space)\n",
    "\n",
    "def combos(items, n):\n",
    "    \"Create a box of all possible combinations of draws.\"\n",
    "    return {' '.join(combo) for combo in itertools.combinations(items, n)}\n",
    "\n",
    "sample_space = combos(box, 6)\n",
    "\n",
    "len(sample_space)"
   ]
  },
  {
   "cell_type": "code",
   "execution_count": 5,
   "metadata": {},
   "outputs": [
    {
     "data": {
      "text/plain": [
       "['B4 G7 B1 G5 W1 B3',\n",
       " 'W7 G2 W2 W4 B6 B3',\n",
       " 'W7 W6 G3 B1 W1 G1',\n",
       " 'G7 B1 W2 B2 B7 W5',\n",
       " 'G3 B4 B2 W4 B6 B3',\n",
       " 'G2 G7 W2 G4 B6 G1',\n",
       " 'B5 W6 B2 B7 G6 W5',\n",
       " 'G2 B5 B4 G5 B7 B3',\n",
       " 'G2 B5 B4 G7 W2 G1',\n",
       " 'W7 G3 B4 W2 B6 B3']"
      ]
     },
     "execution_count": 5,
     "metadata": {},
     "output_type": "execute_result"
    }
   ],
   "source": [
    "# Snippet of our sample space.\n",
    "random.sample(sample_space, 10)"
   ]
  },
  {
   "cell_type": "markdown",
   "metadata": {},
   "source": [
    "### Question: Picking 6 balls at random, what is the probability that you pick 3 white balls?"
   ]
  },
  {
   "cell_type": "code",
   "execution_count": 6,
   "metadata": {},
   "outputs": [
    {
     "name": "stdout",
     "output_type": "stream",
     "text": [
      "12740\n"
     ]
    },
    {
     "data": {
      "text/plain": [
       "0.2347781217750258"
      ]
     },
     "execution_count": 6,
     "metadata": {},
     "output_type": "execute_result"
    }
   ],
   "source": [
    "white3 = {s for s in sample_space if s.count('W') == 3}\n",
    "print(len(white3))\n",
    "\n",
    "# Calculating the probability that we are going to draw 3 white balls.\n",
    "# About 12740 combinations contain 3 white balls so this results at about 23% of the sample size.\n",
    "# Below we will run a simulation of drawing and should get a number that is close to this.\n",
    "find_prop_of_event(white3, sample_space)"
   ]
  },
  {
   "cell_type": "code",
   "execution_count": 7,
   "metadata": {},
   "outputs": [
    {
     "name": "stdout",
     "output_type": "stream",
     "text": [
      "Number of white balls drawn on:\n",
      "      Median: 2.0 \n",
      "      Standard Deviation 0.9954396013822234\n",
      "The percentage to draw 3 white balls 23.24\n"
     ]
    },
    {
     "data": {
      "image/png": "[encoded data removed]",
      "text/plain": [
       "<Figure size 432x288 with 1 Axes>"
      ]
     },
     "metadata": {
      "needs_background": "light"
     },
     "output_type": "display_data"
    }
   ],
   "source": [
    "num_draws = 10000\n",
    "num_white = 0\n",
    "num_draws_with_3_white = 0\n",
    "white_counts = []\n",
    "sample_space = combos(box, 6)\n",
    "\n",
    "for i in range(num_draws):\n",
    "    ball_list = random.sample(sample_space, 1)\n",
    "    white_count =  sum(1 for draw in ball_list for char in draw if char == 'W')\n",
    "    num_white += white_count\n",
    "    \n",
    "    white_counts.append(white_count)\n",
    "    if white_count == 3:\n",
    "        num_draws_with_3_white += 1\n",
    "         \n",
    "standard_deviation = np.std(white_counts)\n",
    "median_draws = np.median(white_counts)\n",
    "draw_3_white_percentage = (num_draws_with_3_white / num_draws) * 100  \n",
    "\n",
    "\n",
    "print(\"Number of white balls drawn on:\\n\\\n",
    "      Median: {} \\n\\\n",
    "      Standard Deviation {}\".format(str(median_draws), str(standard_deviation)))\n",
    "\n",
    "print(\"The percentage to draw 3 white balls {}\".format(draw_3_white_percentage))\n",
    "\n",
    "count, bins, _ = plt.hist(white_counts, density=True)\n",
    "plt.plot(bins, 1 / (standard_deviation * np.sqrt(2 * np.pi)) * np.exp( - (bins - median_draws)**2 / (2 * standard_deviation**2) ),linewidth=2, color='r')\n",
    "plt.show()"
   ]
  },
  {
   "cell_type": "markdown",
   "metadata": {},
   "source": [
    "From the above we can see that on average we are drawing 2 white balls most of the time. After running the simulaiton of taking 50,000 draws of 6 balls each time. The average amount of time we are going to draw 3 white balls is ~23%. This approximation is what is expected as mentioned above. The histogram visualises the the normal distribution of our results for median and standard deviations."
   ]
  },
  {
   "cell_type": "code",
   "execution_count": null,
   "metadata": {},
   "outputs": [],
   "source": []
  }
 ],
 "metadata": {
  "kernelspec": {
   "display_name": "week5",
   "language": "python",
   "name": "week5"
  },
  "language_info": {
   "codemirror_mode": {
    "name": "ipython",
    "version": 3
   },
   "file_extension": ".py",
   "mimetype": "text/x-python",
   "name": "python",
   "nbconvert_exporter": "python",
   "pygments_lexer": "ipython3",
   "version": "3.7.0"
  }
 },
 "nbformat": 4,
 "nbformat_minor": 1
}
